{
  "cells": [
    {
      "cell_type": "markdown",
      "metadata": {
        "colab_type": "text",
        "id": "view-in-github"
      },
      "source": [
        "<a href=\"https://github.com/amjadraza/ai-agents-collection/blob/main/Praisonai/praisonai_ai_agents_workflow.ipynb\" target=\"_parent\"><img src=\"https://colab.research.google.com/assets/colab-badge.svg\" alt=\"Open In Colab\"/></a>"
      ]
    },
    {
      "cell_type": "markdown",
      "metadata": {
        "id": "VjWsBh2MxCwj"
      },
      "source": [
        "# AI Job Market Analysis using Automated Web Search using PraisonAI\n",
        "##Goal\n",
        "This notebook implements an automated web search and validation system to analyze AI job trends in 2024. It uses a dual-agent workflow to:\n",
        "\n",
        "1. Collect current data about AI job trends through DuckDuckGo searches\n",
        "2. Automatically validate the search results for completeness and quality\n",
        "\n",
        "The system leverages the PraisonAI framework to orchestrate the search and validation tasks, using Groq's LLM API for processing and analysis. The workflow is designed to automatically retry data collection if the validation criteria aren't met, ensuring robust and complete results."
      ]
    },
    {
      "cell_type": "code",
      "execution_count": 7,
      "metadata": {
        "id": "1D1pPl20tHef"
      },
      "outputs": [],
      "source": [
        "%pip install -qU praisonai duckduckgo-search"
      ]
    },
    {
      "cell_type": "code",
      "execution_count": 13,
      "metadata": {
        "id": "KiM26pKYsyWG"
      },
      "outputs": [],
      "source": [
        "import os\n",
        "from google.colab import userdata\n",
        "\n",
        "os.environ['OPENAI_API_KEY'] = userdata.get('OPENAI_API_KEY')\n",
        "os.environ['OPENAI_BASE_URL'] = 'https://api.groq.com/openai/v1'\n",
        "\n",
        "os.environ['OPENAI_MODEL_NAME'] = 'llama-3.3-70b-versatile'"
      ]
    },
    {
      "cell_type": "code",
      "execution_count": 15,
      "metadata": {
        "colab": {
          "base_uri": "https://localhost:8080/",
          "height": 1000,
          "referenced_widgets": [
            "d36929a133a042deba8b4f167d91fca8",
            "06d78ff494b446199c3e7b5f9f6ba2a0",
            "2271f95e84664f2ea1ec5637cefbc1f5",
            "8c09a394dbfc4ab981db392042f88c21"
          ]
        },
        "id": "8xyw3qsutbVt",
        "outputId": "f07270fd-77b7-43de-c130-c0fa1cd10786"
      },
      "outputs": [
        {
          "data": {
            "text/html": [
              "<pre style=\"white-space:pre;overflow-x:auto;line-height:normal;font-family:Menlo,'DejaVu Sans Mono',consolas,'Courier New',monospace\"><span style=\"color: #d2e3c8; text-decoration-color: #d2e3c8\">╭─ </span><span style=\"color: #d2e3c8; text-decoration-color: #d2e3c8; font-weight: bold\">Agent Info</span><span style=\"color: #d2e3c8; text-decoration-color: #d2e3c8\"> ────────────────────────────────────────────────────────────────────────────────────────────────────╮</span>\n",
              "<span style=\"color: #d2e3c8; text-decoration-color: #d2e3c8\">│</span>                                                                                                                 <span style=\"color: #d2e3c8; text-decoration-color: #d2e3c8\">│</span>\n",
              "<span style=\"color: #d2e3c8; text-decoration-color: #d2e3c8\">│</span>  <span style=\"color: #ff9b9b; text-decoration-color: #ff9b9b; font-weight: bold\">👤 Agent:</span> <span style=\"color: #ffe5e5; text-decoration-color: #ffe5e5\">DataCollector</span>                                                                                        <span style=\"color: #d2e3c8; text-decoration-color: #d2e3c8\">│</span>\n",
              "<span style=\"color: #d2e3c8; text-decoration-color: #d2e3c8\">│</span>  <span style=\"color: #b4b4b3; text-decoration-color: #b4b4b3; font-weight: bold\">Role:</span> <span style=\"color: #ffe5e5; text-decoration-color: #ffe5e5\">Search Specialist</span>                                                                                        <span style=\"color: #d2e3c8; text-decoration-color: #d2e3c8\">│</span>\n",
              "<span style=\"color: #d2e3c8; text-decoration-color: #d2e3c8\">│</span>  <span style=\"color: #86a789; text-decoration-color: #86a789; font-weight: bold\">Tools:</span> <span style=\"color: #b4d4ff; text-decoration-color: #b4d4ff; font-style: italic\">internet_search_tool</span>                                                                                    <span style=\"color: #d2e3c8; text-decoration-color: #d2e3c8\">│</span>\n",
              "<span style=\"color: #d2e3c8; text-decoration-color: #d2e3c8\">│</span>                                                                                                                 <span style=\"color: #d2e3c8; text-decoration-color: #d2e3c8\">│</span>\n",
              "<span style=\"color: #d2e3c8; text-decoration-color: #d2e3c8\">╰─────────────────────────────────────────────────────────────────────────────────────────────────────────────────╯</span>\n",
              "</pre>\n"
            ],
            "text/plain": [
              "\u001b[38;2;210;227;200m╭─\u001b[0m\u001b[38;2;210;227;200m \u001b[0m\u001b[1;38;2;210;227;200mAgent Info\u001b[0m\u001b[38;2;210;227;200m \u001b[0m\u001b[38;2;210;227;200m───────────────────────────────────────────────────────────────────────────────────────────────────\u001b[0m\u001b[38;2;210;227;200m─╮\u001b[0m\n",
              "\u001b[38;2;210;227;200m│\u001b[0m                                                                                                                 \u001b[38;2;210;227;200m│\u001b[0m\n",
              "\u001b[38;2;210;227;200m│\u001b[0m  \u001b[1;38;2;255;155;155m👤 Agent:\u001b[0m \u001b[38;2;255;229;229mDataCollector\u001b[0m                                                                                        \u001b[38;2;210;227;200m│\u001b[0m\n",
              "\u001b[38;2;210;227;200m│\u001b[0m  \u001b[1;38;2;180;180;179mRole:\u001b[0m \u001b[38;2;255;229;229mSearch Specialist\u001b[0m                                                                                        \u001b[38;2;210;227;200m│\u001b[0m\n",
              "\u001b[38;2;210;227;200m│\u001b[0m  \u001b[1;38;2;134;167;137mTools:\u001b[0m \u001b[3;38;2;180;212;255minternet_search_tool\u001b[0m                                                                                    \u001b[38;2;210;227;200m│\u001b[0m\n",
              "\u001b[38;2;210;227;200m│\u001b[0m                                                                                                                 \u001b[38;2;210;227;200m│\u001b[0m\n",
              "\u001b[38;2;210;227;200m╰─────────────────────────────────────────────────────────────────────────────────────────────────────────────────╯\u001b[0m\n"
            ]
          },
          "metadata": {},
          "output_type": "display_data"
        },
        {
          "data": {
            "text/html": [
              "<pre style=\"white-space:pre;overflow-x:auto;line-height:normal;font-family:Menlo,'DejaVu Sans Mono',consolas,'Courier New',monospace\"><span style=\"color: #008000; text-decoration-color: #008000\">╭─────────────────────────────────────────────────── Tool Call ───────────────────────────────────────────────────╮</span>\n",
              "<span style=\"color: #008000; text-decoration-color: #008000\">│</span> <span style=\"color: #008080; text-decoration-color: #008080; font-weight: bold\">Agent DataCollector is calling function 'internet_search_tool' with arguments: {'query': 'AI job trends in </span>     <span style=\"color: #008000; text-decoration-color: #008000\">│</span>\n",
              "<span style=\"color: #008000; text-decoration-color: #008000\">│</span> <span style=\"color: #008080; text-decoration-color: #008080; font-weight: bold\">2024'}</span>                                                                                                          <span style=\"color: #008000; text-decoration-color: #008000\">│</span>\n",
              "<span style=\"color: #008000; text-decoration-color: #008000\">╰─────────────────────────────────────────────────────────────────────────────────────────────────────────────────╯</span>\n",
              "</pre>\n"
            ],
            "text/plain": [
              "\u001b[32m╭─\u001b[0m\u001b[32m──────────────────────────────────────────────────\u001b[0m\u001b[32m Tool Call \u001b[0m\u001b[32m──────────────────────────────────────────────────\u001b[0m\u001b[32m─╮\u001b[0m\n",
              "\u001b[32m│\u001b[0m \u001b[1;36mAgent DataCollector is calling function 'internet_search_tool' with arguments: {'query': 'AI job trends in \u001b[0m     \u001b[32m│\u001b[0m\n",
              "\u001b[32m│\u001b[0m \u001b[1;36m2024'}\u001b[0m                                                                                                          \u001b[32m│\u001b[0m\n",
              "\u001b[32m╰─────────────────────────────────────────────────────────────────────────────────────────────────────────────────╯\u001b[0m\n"
            ]
          },
          "metadata": {},
          "output_type": "display_data"
        },
        {
          "data": {
            "text/html": [
              "<pre style=\"white-space:pre;overflow-x:auto;line-height:normal;font-family:Menlo,'DejaVu Sans Mono',consolas,'Courier New',monospace\"><span style=\"color: #008000; text-decoration-color: #008000\">╭─────────────────────────────────────────────────── Tool Call ───────────────────────────────────────────────────╮</span>\n",
              "<span style=\"color: #008000; text-decoration-color: #008000\">│</span> <span style=\"color: #008080; text-decoration-color: #008080; font-weight: bold\">Function 'internet_search_tool' returned: [{\"title\": \"AI in 2024: Five trends workers need to know - BBC\", </span>     <span style=\"color: #008000; text-decoration-color: #008000\">│</span>\n",
              "<span style=\"color: #008000; text-decoration-color: #008000\">│</span> <span style=\"color: #008080; text-decoration-color: #008080; font-weight: bold\">\"url\": \"https://www.bbc.com/worklife/article/20240104-ai-in-2024-five-trends-workers-need-to-know\", \"snippet\": </span> <span style=\"color: #008000; text-decoration-color: #008000\">│</span>\n",
              "<span style=\"color: #008000; text-decoration-color: #008000\">│</span> <span style=\"color: #008080; text-decoration-color: #008080; font-weight: bold\">\"A 2023 survey conducted by Jobs for the Future's Center for Artificial Intelligence &amp; the Future of Work (JFF)</span> <span style=\"color: #008000; text-decoration-color: #008000\">│</span>\n",
              "<span style=\"color: #008000; text-decoration-color: #008000\">│</span> <span style=\"color: #008080; text-decoration-color: #008080; font-weight: bold\">showed the majority of respondents believe they will need new skills to compete in an ...\"}, {\"title\": \"AI </span>     <span style=\"color: #008000; text-decoration-color: #008000\">│</span>\n",
              "<span style=\"color: #008000; text-decoration-color: #008000\">│</span> <span style=\"color: #008080; text-decoration-color: #008080; font-weight: bold\">Replacing Jobs Statistics: Key Insights and Trends for 2024\", \"url\": </span>                                           <span style=\"color: #008000; text-decoration-color: #008000\">│</span>\n",
              "<span style=\"color: #008000; text-decoration-color: #008000\">│</span> <span style=\"color: #008080; text-decoration-color: #008080; font-weight: bold\">\"https://www.allaboutai.com/resources/ai-replacing-jobs-statistics/\", \"snippet\": \"AI Could Displace 300 Million</span> <span style=\"color: #008000; text-decoration-color: #008000\">│</span>\n",
              "<span style=\"color: #008000; text-decoration-color: #008000\">│</span> <span style=\"color: #008080; text-decoration-color: #008080; font-weight: bold\">Jobs Globally by 2030. Artificial Intelligence has the potential to displace up to 300 million jobs worldwide </span>  <span style=\"color: #008000; text-decoration-color: #008000\">│</span>\n",
              "<span style=\"color: #008000; text-decoration-color: #008000\">│</span> <span style=\"color: #008080; text-decoration-color: #008080; font-weight: bold\">by 2030, raising concerns about employment and the need for workforce adaptation. ... AllAbout.com Trends and </span>  <span style=\"color: #008000; text-decoration-color: #008000\">│</span>\n",
              "<span style=\"color: #008000; text-decoration-color: #008000\">│</span> <span style=\"color: #008080; text-decoration-color: #008080; font-weight: bold\">Predictions in 2024 and 2030. As we look toward 2024 and 2030, I see AI shaping our careers in ...\"}, {\"title\":</span> <span style=\"color: #008000; text-decoration-color: #008000\">│</span>\n",
              "<span style=\"color: #008000; text-decoration-color: #008000\">│</span> <span style=\"color: #008080; text-decoration-color: #008080; font-weight: bold\">\"3 AI Trends That Will Impact Your Job In 2024 - Forbes\", \"url\": </span>                                               <span style=\"color: #008000; text-decoration-color: #008000\">│</span>\n",
              "<span style=\"color: #008000; text-decoration-color: #008000\">│</span> <span style=\"color: #008080; text-decoration-color: #008080; font-weight: bold\">\"https://www.forbes.com/sites/rachelwells/2024/09/11/ai-trends-that-will-impact-your-job/\", \"snippet\": \"AI is </span>  <span style=\"color: #008000; text-decoration-color: #008000\">│</span>\n",
              "<span style=\"color: #008000; text-decoration-color: #008000\">│</span> <span style=\"color: #008080; text-decoration-color: #008080; font-weight: bold\">creating new job categories and job titles. getty 2. AI Actually Does Boost The Job Market. The second insight </span> <span style=\"color: #008000; text-decoration-color: #008000\">│</span>\n",
              "<span style=\"color: #008000; text-decoration-color: #008000\">│</span> <span style=\"color: #008080; text-decoration-color: #008080; font-weight: bold\">which is quite eye-opening, reveals that many workers and employers express an ...\"}, {\"title\": \"Top 10 AI </span>     <span style=\"color: #008000; text-decoration-color: #008000\">│</span>\n",
              "<span style=\"color: #008000; text-decoration-color: #008000\">│</span> <span style=\"color: #008080; text-decoration-color: #008080; font-weight: bold\">Trends of 2024\", \"url\": \"https://aimagazine.com/articles/top-10-ai-trends-of-2024\", \"snippet\": \"In light of </span>    <span style=\"color: #008000; text-decoration-color: #008000\">│</span>\n",
              "<span style=\"color: #008000; text-decoration-color: #008000\">│</span> <span style=\"color: #008080; text-decoration-color: #008080; font-weight: bold\">this, AI Magazine presents a comprehensive list of the top 10 AI trends of 2024 to understand the AI </span>           <span style=\"color: #008000; text-decoration-color: #008000\">│</span>\n",
              "<span style=\"color: #008000; text-decoration-color: #008000\">│</span> <span style=\"color: #008080; text-decoration-color: #008080; font-weight: bold\">developments of this year and gain a glimpse of what could be in store for 2025. 10. AI governance and ethics </span>  <span style=\"color: #008000; text-decoration-color: #008000\">│</span>\n",
              "<span style=\"color: #008000; text-decoration-color: #008000\">│</span> <span style=\"color: #008080; text-decoration-color: #008080; font-weight: bold\">... This dramatic shift in the job market has led to a significant skills shortage, with the International Data</span> <span style=\"color: #008000; text-decoration-color: #008000\">│</span>\n",
              "<span style=\"color: #008000; text-decoration-color: #008000\">│</span> <span style=\"color: #008080; text-decoration-color: #008080; font-weight: bold\">Corporation ...\"}, {\"title\": \"131 AI Statistics and Trends for (2024) - National University\", \"url\": </span>           <span style=\"color: #008000; text-decoration-color: #008000\">│</span>\n",
              "<span style=\"color: #008000; text-decoration-color: #008000\">│</span> <span style=\"color: #008080; text-decoration-color: #008080; font-weight: bold\">\"https://www.nu.edu/blog/ai-statistics-trends/\", \"snippet\": \"In this comprehensive exploration, we delve into </span>  <span style=\"color: #008000; text-decoration-color: #008000\">│</span>\n",
              "<span style=\"color: #008000; text-decoration-color: #008000\">│</span> <span style=\"color: #008080; text-decoration-color: #008080; font-weight: bold\">131 AI Statistics and Trends (2024), offering a panoramic view of AI's integration into businesses, its </span>        <span style=\"color: #008000; text-decoration-color: #008000\">│</span>\n",
              "<span style=\"color: #008000; text-decoration-color: #008000\">│</span> <span style=\"color: #008080; text-decoration-color: #008080; font-weight: bold\">demographic reach, the burgeoning AI job market, educational initiatives, business owner perspectives, consumer</span> <span style=\"color: #008000; text-decoration-color: #008000\">│</span>\n",
              "<span style=\"color: #008000; text-decoration-color: #008000\">│</span> <span style=\"color: #008080; text-decoration-color: #008080; font-weight: bold\">usage, trust issues, and regulatory discussions.\"}, {\"title\": \"60+ AI Statistics in Workplace: 2024 Trends and </span> <span style=\"color: #008000; text-decoration-color: #008000\">│</span>\n",
              "<span style=\"color: #008000; text-decoration-color: #008000\">│</span> <span style=\"color: #008080; text-decoration-color: #008080; font-weight: bold\">Predictions - All About AI\", \"url\": \"https://www.allaboutai.com/resources/ai-statistics/workplace/\", \"snippet\":</span> <span style=\"color: #008000; text-decoration-color: #008000\">│</span>\n",
              "<span style=\"color: #008000; text-decoration-color: #008000\">│</span> <span style=\"color: #008080; text-decoration-color: #008080; font-weight: bold\">\"(AI statistics 2024) From saving money and boosting productivity to making smarter decisions and redefining </span>   <span style=\"color: #008000; text-decoration-color: #008000\">│</span>\n",
              "<span style=\"color: #008000; text-decoration-color: #008000\">│</span> <span style=\"color: #008080; text-decoration-color: #008080; font-weight: bold\">job roles, AI is making waves across different industries. Explore our comprehensive breakdown of the most </span>     <span style=\"color: #008000; text-decoration-color: #008000\">│</span>\n",
              "<span style=\"color: #008000; text-decoration-color: #008000\">│</span> <span style=\"color: #008080; text-decoration-color: #008080; font-weight: bold\">impactful AI statistics in 2024 and discover how these trends are revolutionizing workplaces worldwide.\"}, </span>     <span style=\"color: #008000; text-decoration-color: #008000\">│</span>\n",
              "<span style=\"color: #008000; text-decoration-color: #008000\">│</span> <span style=\"color: #008080; text-decoration-color: #008080; font-weight: bold\">{\"title\": \"What 2024 Taught Us About AI: Innovations and 2025 Trends\", \"url\": </span>                                  <span style=\"color: #008000; text-decoration-color: #008000\">│</span>\n",
              "<span style=\"color: #008000; text-decoration-color: #008000\">│</span> <span style=\"color: #008080; text-decoration-color: #008080; font-weight: bold\">\"https://www.allaboutai.com/resources/what-2024-taught-us-about-ai/\", \"snippet\": \"According to AI replacing </span>    <span style=\"color: #008000; text-decoration-color: #008000\">│</span>\n",
              "<span style=\"color: #008000; text-decoration-color: #008000\">│</span> <span style=\"color: #008080; text-decoration-color: #008080; font-weight: bold\">jobs statistics, reports indicated that 40% of jobs globally were influenced by AI in 2024, with sectors like </span>  <span style=\"color: #008000; text-decoration-color: #008000\">│</span>\n",
              "<span style=\"color: #008000; text-decoration-color: #008000\">│</span> <span style=\"color: #008080; text-decoration-color: #008080; font-weight: bold\">finance seeing significant automation. Yet, AI also created roles focused on managing, training, and </span>           <span style=\"color: #008000; text-decoration-color: #008000\">│</span>\n",
              "<span style=\"color: #008000; text-decoration-color: #008000\">│</span> <span style=\"color: #008080; text-decoration-color: #008080; font-weight: bold\">integrating these systems. ... Top 10 AI Trends in 2024. AI evolved rapidly in 2024, with Top 10 AI trends </span>     <span style=\"color: #008000; text-decoration-color: #008000\">│</span>\n",
              "<span style=\"color: #008000; text-decoration-color: #008000\">│</span> <span style=\"color: #008080; text-decoration-color: #008080; font-weight: bold\">...\"}, {\"title\": \"Future of Work Report 2024: AI Will Take Jobs, Make Jobs, and ... - Indeed\", \"url\": </span>          <span style=\"color: #008000; text-decoration-color: #008000\">│</span>\n",
              "<span style=\"color: #008000; text-decoration-color: #008000\">│</span> <span style=\"color: #008080; text-decoration-color: #008080; font-weight: bold\">\"https://www.indeed.com/career-advice/news/future-of-work-report-2024\", \"snippet\": \"According to Indeed's 2024 </span> <span style=\"color: #008000; text-decoration-color: #008000\">│</span>\n",
              "<span style=\"color: #008000; text-decoration-color: #008000\">│</span> <span style=\"color: #008080; text-decoration-color: #008080; font-weight: bold\">Global Future of Work Report, over 7 in 10 U.S. job seekers (75%) expect their roles to shift in 5 years as </span>    <span style=\"color: #008000; text-decoration-color: #008000\">│</span>\n",
              "<span style=\"color: #008000; text-decoration-color: #008000\">│</span> <span style=\"color: #008080; text-decoration-color: #008080; font-weight: bold\">more technology is introduced in the workplace, with 30% foreseeing a \\\"significant\\\" change in the skills </span>     <span style=\"color: #008000; text-decoration-color: #008000\">│</span>\n",
              "<span style=\"color: #008000; text-decoration-color: #008000\">│</span> <span style=\"color: #008080; text-decoration-color: #008080; font-weight: bold\">needed for their current role.\"}, {\"title\": \"AI Job Trends 2024: Machine Learning Growth, Top States, and </span>      <span style=\"color: #008000; text-decoration-color: #008000\">│</span>\n",
              "<span style=\"color: #008000; text-decoration-color: #008000\">│</span> <span style=\"color: #008080; text-decoration-color: #008080; font-weight: bold\">Remote Roles\", \"url\": </span>                                                                                          <span style=\"color: #008000; text-decoration-color: #008000\">│</span>\n",
              "<span style=\"color: #008000; text-decoration-color: #008000\">│</span> <span style=\"color: #008080; text-decoration-color: #008080; font-weight: bold\">\"https://blog.getaura.ai/ai-job-trends-for-july-2024-spotting-growth-markets-for-artificial-intelligence\", </span>     <span style=\"color: #008000; text-decoration-color: #008000\">│</span>\n",
              "<span style=\"color: #008000; text-decoration-color: #008000\">│</span> <span style=\"color: #008080; text-decoration-color: #008080; font-weight: bold\">\"snippet\": \"AI Job Trends 2024: Emerging Roles and U.S. Hiring Hotspots This month, we focus on AI job trends </span>  <span style=\"color: #008000; text-decoration-color: #008000\">│</span>\n",
              "<span style=\"color: #008000; text-decoration-color: #008000\">│</span> <span style=\"color: #008080; text-decoration-color: #008080; font-weight: bold\">in the United States, offering a comprehensive analysis of job postings by state, industry-specific insights, </span>  <span style=\"color: #008000; text-decoration-color: #008000\">│</span>\n",
              "<span style=\"color: #008000; text-decoration-color: #008000\">│</span> <span style=\"color: #008080; text-decoration-color: #008080; font-weight: bold\">and the growth of remote AI jobs.\"}, {\"title\": \"2024 Tech Market Trends | AI Jobs and Economic Shifts\", \"url\": </span> <span style=\"color: #008000; text-decoration-color: #008000\">│</span>\n",
              "<span style=\"color: #008000; text-decoration-color: #008000\">│</span> <span style=\"color: #008080; text-decoration-color: #008080; font-weight: bold\">\"https://www.profocustechnology.com/general/tech-employment-2024-market-trends-report/\", \"snippet\": \"AI Job </span>    <span style=\"color: #008000; text-decoration-color: #008000\">│</span>\n",
              "<span style=\"color: #008000; text-decoration-color: #008000\">│</span> <span style=\"color: #008080; text-decoration-color: #008080; font-weight: bold\">Growth and Emerging Trends Artificial intelligence continues to dominate tech job openings, with a notable 5.6%</span> <span style=\"color: #008000; text-decoration-color: #008000\">│</span>\n",
              "<span style=\"color: #008000; text-decoration-color: #008000\">│</span> <span style=\"color: #008080; text-decoration-color: #008080; font-weight: bold\">rise in AI vacancies from Q1 to Q2 of 2024. This marks a 31.5% increase compared to 2023. The median salary for</span> <span style=\"color: #008000; text-decoration-color: #008000\">│</span>\n",
              "<span style=\"color: #008000; text-decoration-color: #008000\">│</span> <span style=\"color: #008080; text-decoration-color: #008080; font-weight: bold\">AI roles reached $157,196 in Q2 2024, showcasing the high demand for specialized skills in this sector.\"}]</span>      <span style=\"color: #008000; text-decoration-color: #008000\">│</span>\n",
              "<span style=\"color: #008000; text-decoration-color: #008000\">╰─────────────────────────────────────────────────────────────────────────────────────────────────────────────────╯</span>\n",
              "</pre>\n"
            ],
            "text/plain": [
              "\u001b[32m╭─\u001b[0m\u001b[32m──────────────────────────────────────────────────\u001b[0m\u001b[32m Tool Call \u001b[0m\u001b[32m──────────────────────────────────────────────────\u001b[0m\u001b[32m─╮\u001b[0m\n",
              "\u001b[32m│\u001b[0m \u001b[1;36mFunction 'internet_search_tool' returned: [{\"title\": \"AI in 2024: Five trends workers need to know - BBC\", \u001b[0m     \u001b[32m│\u001b[0m\n",
              "\u001b[32m│\u001b[0m \u001b[1;36m\"url\": \"https://www.bbc.com/worklife/article/20240104-ai-in-2024-five-trends-workers-need-to-know\", \"snippet\": \u001b[0m \u001b[32m│\u001b[0m\n",
              "\u001b[32m│\u001b[0m \u001b[1;36m\"A 2023 survey conducted by Jobs for the Future's Center for Artificial Intelligence & the Future of Work (JFF)\u001b[0m \u001b[32m│\u001b[0m\n",
              "\u001b[32m│\u001b[0m \u001b[1;36mshowed the majority of respondents believe they will need new skills to compete in an ...\"}, {\"title\": \"AI \u001b[0m     \u001b[32m│\u001b[0m\n",
              "\u001b[32m│\u001b[0m \u001b[1;36mReplacing Jobs Statistics: Key Insights and Trends for 2024\", \"url\": \u001b[0m                                           \u001b[32m│\u001b[0m\n",
              "\u001b[32m│\u001b[0m \u001b[1;36m\"https://www.allaboutai.com/resources/ai-replacing-jobs-statistics/\", \"snippet\": \"AI Could Displace 300 Million\u001b[0m \u001b[32m│\u001b[0m\n",
              "\u001b[32m│\u001b[0m \u001b[1;36mJobs Globally by 2030. Artificial Intelligence has the potential to displace up to 300 million jobs worldwide \u001b[0m  \u001b[32m│\u001b[0m\n",
              "\u001b[32m│\u001b[0m \u001b[1;36mby 2030, raising concerns about employment and the need for workforce adaptation. ... AllAbout.com Trends and \u001b[0m  \u001b[32m│\u001b[0m\n",
              "\u001b[32m│\u001b[0m \u001b[1;36mPredictions in 2024 and 2030. As we look toward 2024 and 2030, I see AI shaping our careers in ...\"}, {\"title\":\u001b[0m \u001b[32m│\u001b[0m\n",
              "\u001b[32m│\u001b[0m \u001b[1;36m\"3 AI Trends That Will Impact Your Job In 2024 - Forbes\", \"url\": \u001b[0m                                               \u001b[32m│\u001b[0m\n",
              "\u001b[32m│\u001b[0m \u001b[1;36m\"https://www.forbes.com/sites/rachelwells/2024/09/11/ai-trends-that-will-impact-your-job/\", \"snippet\": \"AI is \u001b[0m  \u001b[32m│\u001b[0m\n",
              "\u001b[32m│\u001b[0m \u001b[1;36mcreating new job categories and job titles. getty 2. AI Actually Does Boost The Job Market. The second insight \u001b[0m \u001b[32m│\u001b[0m\n",
              "\u001b[32m│\u001b[0m \u001b[1;36mwhich is quite eye-opening, reveals that many workers and employers express an ...\"}, {\"title\": \"Top 10 AI \u001b[0m     \u001b[32m│\u001b[0m\n",
              "\u001b[32m│\u001b[0m \u001b[1;36mTrends of 2024\", \"url\": \"https://aimagazine.com/articles/top-10-ai-trends-of-2024\", \"snippet\": \"In light of \u001b[0m    \u001b[32m│\u001b[0m\n",
              "\u001b[32m│\u001b[0m \u001b[1;36mthis, AI Magazine presents a comprehensive list of the top 10 AI trends of 2024 to understand the AI \u001b[0m           \u001b[32m│\u001b[0m\n",
              "\u001b[32m│\u001b[0m \u001b[1;36mdevelopments of this year and gain a glimpse of what could be in store for 2025. 10. AI governance and ethics \u001b[0m  \u001b[32m│\u001b[0m\n",
              "\u001b[32m│\u001b[0m \u001b[1;36m... This dramatic shift in the job market has led to a significant skills shortage, with the International Data\u001b[0m \u001b[32m│\u001b[0m\n",
              "\u001b[32m│\u001b[0m \u001b[1;36mCorporation ...\"}, {\"title\": \"131 AI Statistics and Trends for (2024) - National University\", \"url\": \u001b[0m           \u001b[32m│\u001b[0m\n",
              "\u001b[32m│\u001b[0m \u001b[1;36m\"https://www.nu.edu/blog/ai-statistics-trends/\", \"snippet\": \"In this comprehensive exploration, we delve into \u001b[0m  \u001b[32m│\u001b[0m\n",
              "\u001b[32m│\u001b[0m \u001b[1;36m131 AI Statistics and Trends (2024), offering a panoramic view of AI's integration into businesses, its \u001b[0m        \u001b[32m│\u001b[0m\n",
              "\u001b[32m│\u001b[0m \u001b[1;36mdemographic reach, the burgeoning AI job market, educational initiatives, business owner perspectives, consumer\u001b[0m \u001b[32m│\u001b[0m\n",
              "\u001b[32m│\u001b[0m \u001b[1;36musage, trust issues, and regulatory discussions.\"}, {\"title\": \"60+ AI Statistics in Workplace: 2024 Trends and \u001b[0m \u001b[32m│\u001b[0m\n",
              "\u001b[32m│\u001b[0m \u001b[1;36mPredictions - All About AI\", \"url\": \"https://www.allaboutai.com/resources/ai-statistics/workplace/\", \"snippet\":\u001b[0m \u001b[32m│\u001b[0m\n",
              "\u001b[32m│\u001b[0m \u001b[1;36m\"(AI statistics 2024) From saving money and boosting productivity to making smarter decisions and redefining \u001b[0m   \u001b[32m│\u001b[0m\n",
              "\u001b[32m│\u001b[0m \u001b[1;36mjob roles, AI is making waves across different industries. Explore our comprehensive breakdown of the most \u001b[0m     \u001b[32m│\u001b[0m\n",
              "\u001b[32m│\u001b[0m \u001b[1;36mimpactful AI statistics in 2024 and discover how these trends are revolutionizing workplaces worldwide.\"}, \u001b[0m     \u001b[32m│\u001b[0m\n",
              "\u001b[32m│\u001b[0m \u001b[1;36m{\"title\": \"What 2024 Taught Us About AI: Innovations and 2025 Trends\", \"url\": \u001b[0m                                  \u001b[32m│\u001b[0m\n",
              "\u001b[32m│\u001b[0m \u001b[1;36m\"https://www.allaboutai.com/resources/what-2024-taught-us-about-ai/\", \"snippet\": \"According to AI replacing \u001b[0m    \u001b[32m│\u001b[0m\n",
              "\u001b[32m│\u001b[0m \u001b[1;36mjobs statistics, reports indicated that 40% of jobs globally were influenced by AI in 2024, with sectors like \u001b[0m  \u001b[32m│\u001b[0m\n",
              "\u001b[32m│\u001b[0m \u001b[1;36mfinance seeing significant automation. Yet, AI also created roles focused on managing, training, and \u001b[0m           \u001b[32m│\u001b[0m\n",
              "\u001b[32m│\u001b[0m \u001b[1;36mintegrating these systems. ... Top 10 AI Trends in 2024. AI evolved rapidly in 2024, with Top 10 AI trends \u001b[0m     \u001b[32m│\u001b[0m\n",
              "\u001b[32m│\u001b[0m \u001b[1;36m...\"}, {\"title\": \"Future of Work Report 2024: AI Will Take Jobs, Make Jobs, and ... - Indeed\", \"url\": \u001b[0m          \u001b[32m│\u001b[0m\n",
              "\u001b[32m│\u001b[0m \u001b[1;36m\"https://www.indeed.com/career-advice/news/future-of-work-report-2024\", \"snippet\": \"According to Indeed's 2024 \u001b[0m \u001b[32m│\u001b[0m\n",
              "\u001b[32m│\u001b[0m \u001b[1;36mGlobal Future of Work Report, over 7 in 10 U.S. job seekers (75%) expect their roles to shift in 5 years as \u001b[0m    \u001b[32m│\u001b[0m\n",
              "\u001b[32m│\u001b[0m \u001b[1;36mmore technology is introduced in the workplace, with 30% foreseeing a \\\"significant\\\" change in the skills \u001b[0m     \u001b[32m│\u001b[0m\n",
              "\u001b[32m│\u001b[0m \u001b[1;36mneeded for their current role.\"}, {\"title\": \"AI Job Trends 2024: Machine Learning Growth, Top States, and \u001b[0m      \u001b[32m│\u001b[0m\n",
              "\u001b[32m│\u001b[0m \u001b[1;36mRemote Roles\", \"url\": \u001b[0m                                                                                          \u001b[32m│\u001b[0m\n",
              "\u001b[32m│\u001b[0m \u001b[1;36m\"https://blog.getaura.ai/ai-job-trends-for-july-2024-spotting-growth-markets-for-artificial-intelligence\", \u001b[0m     \u001b[32m│\u001b[0m\n",
              "\u001b[32m│\u001b[0m \u001b[1;36m\"snippet\": \"AI Job Trends 2024: Emerging Roles and U.S. Hiring Hotspots This month, we focus on AI job trends \u001b[0m  \u001b[32m│\u001b[0m\n",
              "\u001b[32m│\u001b[0m \u001b[1;36min the United States, offering a comprehensive analysis of job postings by state, industry-specific insights, \u001b[0m  \u001b[32m│\u001b[0m\n",
              "\u001b[32m│\u001b[0m \u001b[1;36mand the growth of remote AI jobs.\"}, {\"title\": \"2024 Tech Market Trends | AI Jobs and Economic Shifts\", \"url\": \u001b[0m \u001b[32m│\u001b[0m\n",
              "\u001b[32m│\u001b[0m \u001b[1;36m\"https://www.profocustechnology.com/general/tech-employment-2024-market-trends-report/\", \"snippet\": \"AI Job \u001b[0m    \u001b[32m│\u001b[0m\n",
              "\u001b[32m│\u001b[0m \u001b[1;36mGrowth and Emerging Trends Artificial intelligence continues to dominate tech job openings, with a notable 5.6%\u001b[0m \u001b[32m│\u001b[0m\n",
              "\u001b[32m│\u001b[0m \u001b[1;36mrise in AI vacancies from Q1 to Q2 of 2024. This marks a 31.5% increase compared to 2023. The median salary for\u001b[0m \u001b[32m│\u001b[0m\n",
              "\u001b[32m│\u001b[0m \u001b[1;36mAI roles reached $157,196 in Q2 2024, showcasing the high demand for specialized skills in this sector.\"}]\u001b[0m      \u001b[32m│\u001b[0m\n",
              "\u001b[32m╰─────────────────────────────────────────────────────────────────────────────────────────────────────────────────╯\u001b[0m\n"
            ]
          },
          "metadata": {},
          "output_type": "display_data"
        },
        {
          "data": {
            "application/vnd.jupyter.widget-view+json": {
              "model_id": "d36929a133a042deba8b4f167d91fca8",
              "version_major": 2,
              "version_minor": 0
            },
            "text/plain": [
              "Output()"
            ]
          },
          "metadata": {},
          "output_type": "display_data"
        },
        {
          "data": {
            "text/html": [
              "<pre style=\"white-space:pre;overflow-x:auto;line-height:normal;font-family:Menlo,'DejaVu Sans Mono',consolas,'Courier New',monospace\"></pre>\n"
            ],
            "text/plain": []
          },
          "metadata": {},
          "output_type": "display_data"
        },
        {
          "data": {
            "text/html": [
              "<pre style=\"white-space:pre;overflow-x:auto;line-height:normal;font-family:Menlo,'DejaVu Sans Mono',consolas,'Courier New',monospace\">\n",
              "</pre>\n"
            ],
            "text/plain": [
              "\n"
            ]
          },
          "metadata": {},
          "output_type": "display_data"
        },
        {
          "data": {
            "text/html": [
              "<pre style=\"white-space:pre;overflow-x:auto;line-height:normal;font-family:Menlo,'DejaVu Sans Mono',consolas,'Courier New',monospace\"><span style=\"color: #7f7f7f; text-decoration-color: #7f7f7f\">Response generated in 13.4s</span>\n",
              "</pre>\n"
            ],
            "text/plain": [
              "\u001b[2mResponse generated in 13.4s\u001b[0m\n"
            ]
          },
          "metadata": {},
          "output_type": "display_data"
        },
        {
          "data": {
            "text/html": [
              "<pre style=\"white-space:pre;overflow-x:auto;line-height:normal;font-family:Menlo,'DejaVu Sans Mono',consolas,'Courier New',monospace\"><span style=\"color: #008080; text-decoration-color: #008080\">╭───────────────────────────────────────────────────── Task ──────────────────────────────────────────────────────╮</span>\n",
              "<span style=\"color: #008080; text-decoration-color: #008080\">│</span> You need to do the following task: Perform an internet search using the query: 'AI job trends in 2024'. Return  <span style=\"color: #008080; text-decoration-color: #008080\">│</span>\n",
              "<span style=\"color: #008080; text-decoration-color: #008080\">│</span> results as a list of title, URL, and snippet.. Expected Output: List of search results with titles, URLs, and   <span style=\"color: #008080; text-decoration-color: #008080\">│</span>\n",
              "<span style=\"color: #008080; text-decoration-color: #008080\">│</span> snippets.. Please provide only the final result of your work. Do not add any conversation or extra explanation. <span style=\"color: #008080; text-decoration-color: #008080\">│</span>\n",
              "<span style=\"color: #008080; text-decoration-color: #008080\">╰─────────────────────────────────────────────────────────────────────────────────────────────────────────────────╯</span>\n",
              "</pre>\n"
            ],
            "text/plain": [
              "\u001b[36m╭─\u001b[0m\u001b[36m────────────────────────────────────────────────────\u001b[0m\u001b[36m Task \u001b[0m\u001b[36m─────────────────────────────────────────────────────\u001b[0m\u001b[36m─╮\u001b[0m\n",
              "\u001b[36m│\u001b[0m You need to do the following task: Perform an internet search using the query: 'AI job trends in 2024'. Return  \u001b[36m│\u001b[0m\n",
              "\u001b[36m│\u001b[0m results as a list of title, URL, and snippet.. Expected Output: List of search results with titles, URLs, and   \u001b[36m│\u001b[0m\n",
              "\u001b[36m│\u001b[0m snippets.. Please provide only the final result of your work. Do not add any conversation or extra explanation. \u001b[36m│\u001b[0m\n",
              "\u001b[36m╰─────────────────────────────────────────────────────────────────────────────────────────────────────────────────╯\u001b[0m\n"
            ]
          },
          "metadata": {},
          "output_type": "display_data"
        },
        {
          "data": {
            "text/html": [
              "<pre style=\"white-space:pre;overflow-x:auto;line-height:normal;font-family:Menlo,'DejaVu Sans Mono',consolas,'Courier New',monospace\"><span style=\"color: #008080; text-decoration-color: #008080\">╭─────────────────────────────────────────────────── Response ────────────────────────────────────────────────────╮</span>\n",
              "<span style=\"color: #008080; text-decoration-color: #008080\">│</span> [{\"title\": \"AI in 2024: Five trends workers need to know - BBC\", \"url\":                                         <span style=\"color: #008080; text-decoration-color: #008080\">│</span>\n",
              "<span style=\"color: #008080; text-decoration-color: #008080\">│</span> \"https://www.bbc.com/worklife/article/20240104-ai-in-2024-five-trends-workers-need-to-know\", \"snippet\": \"A 2023 <span style=\"color: #008080; text-decoration-color: #008080\">│</span>\n",
              "<span style=\"color: #008080; text-decoration-color: #008080\">│</span> survey conducted by Jobs for the Future's Center for Artificial Intelligence &amp; the Future of Work (JFF) showed  <span style=\"color: #008080; text-decoration-color: #008080\">│</span>\n",
              "<span style=\"color: #008080; text-decoration-color: #008080\">│</span> the majority of respondents believe they will need new skills to compete in an ...\"}, {\"title\": \"AI Replacing   <span style=\"color: #008080; text-decoration-color: #008080\">│</span>\n",
              "<span style=\"color: #008080; text-decoration-color: #008080\">│</span> Jobs Statistics: Key Insights and Trends for 2024\", \"url\":                                                      <span style=\"color: #008080; text-decoration-color: #008080\">│</span>\n",
              "<span style=\"color: #008080; text-decoration-color: #008080\">│</span> \"https://www.allaboutai.com/resources/ai-replacing-jobs-statistics/\", \"snippet\": \"AI Could Displace 300 Million <span style=\"color: #008080; text-decoration-color: #008080\">│</span>\n",
              "<span style=\"color: #008080; text-decoration-color: #008080\">│</span> Jobs Globally by 2030. Artificial Intelligence has the potential to displace up to 300 million jobs worldwide   <span style=\"color: #008080; text-decoration-color: #008080\">│</span>\n",
              "<span style=\"color: #008080; text-decoration-color: #008080\">│</span> by 2030, raising concerns about employment and the need for workforce adaptation. ... AllAbout.com Trends and   <span style=\"color: #008080; text-decoration-color: #008080\">│</span>\n",
              "<span style=\"color: #008080; text-decoration-color: #008080\">│</span> Predictions in 2024 and 2030. As we look toward 2024 and 2030, I see AI shaping our careers in ...\"}, {\"title\": <span style=\"color: #008080; text-decoration-color: #008080\">│</span>\n",
              "<span style=\"color: #008080; text-decoration-color: #008080\">│</span> \"3 AI Trends That Will Impact Your Job In 2024 - Forbes\", \"url\":                                                <span style=\"color: #008080; text-decoration-color: #008080\">│</span>\n",
              "<span style=\"color: #008080; text-decoration-color: #008080\">│</span> \"https://www.forbes.com/sites/rachelwells/2024/09/11/ai-trends-that-will-impact-your-job/\", \"snippet\": \"AI is   <span style=\"color: #008080; text-decoration-color: #008080\">│</span>\n",
              "<span style=\"color: #008080; text-decoration-color: #008080\">│</span> creating new job categories and job titles. getty 2. AI Actually Does Boost The Job Market. The second insight  <span style=\"color: #008080; text-decoration-color: #008080\">│</span>\n",
              "<span style=\"color: #008080; text-decoration-color: #008080\">│</span> which is quite eye-opening, reveals that many workers and employers express an ...\"}, {\"title\": \"Top 10 AI      <span style=\"color: #008080; text-decoration-color: #008080\">│</span>\n",
              "<span style=\"color: #008080; text-decoration-color: #008080\">│</span> Trends of 2024\", \"url\": \"https://aimagazine.com/articles/top-10-ai-trends-of-2024\", \"snippet\": \"In light of     <span style=\"color: #008080; text-decoration-color: #008080\">│</span>\n",
              "<span style=\"color: #008080; text-decoration-color: #008080\">│</span> this, AI Magazine presents a comprehensive list of the top 10 AI trends of 2024 to understand the AI            <span style=\"color: #008080; text-decoration-color: #008080\">│</span>\n",
              "<span style=\"color: #008080; text-decoration-color: #008080\">│</span> developments of this year and gain a glimpse of what could be in store for 2025. 10. AI governance and ethics   <span style=\"color: #008080; text-decoration-color: #008080\">│</span>\n",
              "<span style=\"color: #008080; text-decoration-color: #008080\">│</span> ... This dramatic shift in the job market has led to a significant skills shortage, with the International Data <span style=\"color: #008080; text-decoration-color: #008080\">│</span>\n",
              "<span style=\"color: #008080; text-decoration-color: #008080\">│</span> Corporation ...\"}, {\"title\": \"131 AI Statistics and Trends for (2024) - National University\", \"url\":            <span style=\"color: #008080; text-decoration-color: #008080\">│</span>\n",
              "<span style=\"color: #008080; text-decoration-color: #008080\">│</span> \"https://www.nu.edu/blog/ai-statistics-trends/\", \"snippet\": \"In this comprehensive exploration, we delve into   <span style=\"color: #008080; text-decoration-color: #008080\">│</span>\n",
              "<span style=\"color: #008080; text-decoration-color: #008080\">│</span> 131 AI Statistics and Trends (2024), offering a panoramic view of AI's integration into businesses, its         <span style=\"color: #008080; text-decoration-color: #008080\">│</span>\n",
              "<span style=\"color: #008080; text-decoration-color: #008080\">│</span> demographic reach, the burgeoning AI job market, educational initiatives, business owner perspectives, consumer <span style=\"color: #008080; text-decoration-color: #008080\">│</span>\n",
              "<span style=\"color: #008080; text-decoration-color: #008080\">│</span> usage, trust issues, and regulatory discussions.\"}, {\"title\": \"60+ AI Statistics in Workplace: 2024 Trends and  <span style=\"color: #008080; text-decoration-color: #008080\">│</span>\n",
              "<span style=\"color: #008080; text-decoration-color: #008080\">│</span> Predictions - All About AI\", \"url\": \"https://www.allaboutai.com/resources/ai-statistics/workplace/\", \"snippet\": <span style=\"color: #008080; text-decoration-color: #008080\">│</span>\n",
              "<span style=\"color: #008080; text-decoration-color: #008080\">│</span> \"(AI statistics 2024) From saving money and boosting productivity to making smarter decisions and redefining    <span style=\"color: #008080; text-decoration-color: #008080\">│</span>\n",
              "<span style=\"color: #008080; text-decoration-color: #008080\">│</span> job roles, AI is making waves across different industries. Explore our comprehensive breakdown of the most      <span style=\"color: #008080; text-decoration-color: #008080\">│</span>\n",
              "<span style=\"color: #008080; text-decoration-color: #008080\">│</span> impactful AI statistics in 2024 and discover how these trends are revolutionizing workplaces worldwide.\"},      <span style=\"color: #008080; text-decoration-color: #008080\">│</span>\n",
              "<span style=\"color: #008080; text-decoration-color: #008080\">│</span> {\"title\": \"What 2024 Taught Us About AI: Innovations and 2025 Trends\", \"url\":                                   <span style=\"color: #008080; text-decoration-color: #008080\">│</span>\n",
              "<span style=\"color: #008080; text-decoration-color: #008080\">│</span> \"https://www.allaboutai.com/resources/what-2024-taught-us-about-ai/\", \"snippet\": \"According to AI replacing     <span style=\"color: #008080; text-decoration-color: #008080\">│</span>\n",
              "<span style=\"color: #008080; text-decoration-color: #008080\">│</span> jobs statistics, reports indicated that 40% of jobs globally were influenced by AI in 2024, with sectors like   <span style=\"color: #008080; text-decoration-color: #008080\">│</span>\n",
              "<span style=\"color: #008080; text-decoration-color: #008080\">│</span> finance seeing significant automation. Yet, AI also created roles focused on managing, training, and            <span style=\"color: #008080; text-decoration-color: #008080\">│</span>\n",
              "<span style=\"color: #008080; text-decoration-color: #008080\">│</span> integrating these systems. ... Top 10 AI Trends in 2024. AI evolved rapidly in 2024, with Top 10 AI trends      <span style=\"color: #008080; text-decoration-color: #008080\">│</span>\n",
              "<span style=\"color: #008080; text-decoration-color: #008080\">│</span> ...\"}, {\"title\": \"Future of Work Report 2024: AI Will Take Jobs, Make Jobs, and ... - Indeed\", \"url\":           <span style=\"color: #008080; text-decoration-color: #008080\">│</span>\n",
              "<span style=\"color: #008080; text-decoration-color: #008080\">│</span> \"https://www.indeed.com/career-advice/news/future-of-work-report-2024\", \"snippet\": \"According to Indeed's 2024  <span style=\"color: #008080; text-decoration-color: #008080\">│</span>\n",
              "<span style=\"color: #008080; text-decoration-color: #008080\">│</span> Global Future of Work Report, over 7 in 10 U.S. job seekers (75%) expect their roles to shift in 5 years as     <span style=\"color: #008080; text-decoration-color: #008080\">│</span>\n",
              "<span style=\"color: #008080; text-decoration-color: #008080\">│</span> more technology is introduced in the workplace, with 30% foreseeing a \"significant\" change in the skills needed <span style=\"color: #008080; text-decoration-color: #008080\">│</span>\n",
              "<span style=\"color: #008080; text-decoration-color: #008080\">│</span> for their current role.\"}, {\"title\": \"AI Job Trends 2024: Machine Learning Growth, Top States, and Remote       <span style=\"color: #008080; text-decoration-color: #008080\">│</span>\n",
              "<span style=\"color: #008080; text-decoration-color: #008080\">│</span> Roles\", \"url\":                                                                                                  <span style=\"color: #008080; text-decoration-color: #008080\">│</span>\n",
              "<span style=\"color: #008080; text-decoration-color: #008080\">│</span> \"https://blog.getaura.ai/ai-job-trends-for-july-2024-spotting-growth-markets-for-artificial-intelligence\",      <span style=\"color: #008080; text-decoration-color: #008080\">│</span>\n",
              "<span style=\"color: #008080; text-decoration-color: #008080\">│</span> \"snippet\": \"AI Job Trends 2024: Emerging Roles and U.S. Hiring Hotspots This month, we focus on AI job trends   <span style=\"color: #008080; text-decoration-color: #008080\">│</span>\n",
              "<span style=\"color: #008080; text-decoration-color: #008080\">│</span> in the United States, offering a comprehensive analysis of job postings by state, industry-specific insights,   <span style=\"color: #008080; text-decoration-color: #008080\">│</span>\n",
              "<span style=\"color: #008080; text-decoration-color: #008080\">│</span> and the growth of remote AI jobs.\"}, {\"title\": \"2024 Tech Market Trends | AI Jobs and Economic Shifts\", \"url\":  <span style=\"color: #008080; text-decoration-color: #008080\">│</span>\n",
              "<span style=\"color: #008080; text-decoration-color: #008080\">│</span> \"https://www.profocustechnology.com/general/tech-employment-2024-market-trends-report/\", \"snippet\": \"AI Job     <span style=\"color: #008080; text-decoration-color: #008080\">│</span>\n",
              "<span style=\"color: #008080; text-decoration-color: #008080\">│</span> Growth and Emerging Trends Artificial intelligence continues to dominate tech job openings, with a notable 5.6% <span style=\"color: #008080; text-decoration-color: #008080\">│</span>\n",
              "<span style=\"color: #008080; text-decoration-color: #008080\">│</span> rise in AI vacancies from Q1 to Q2 of 2024. This marks a 31.5% increase compared to 2023. The median salary for <span style=\"color: #008080; text-decoration-color: #008080\">│</span>\n",
              "<span style=\"color: #008080; text-decoration-color: #008080\">│</span> AI roles reached $157,196 in Q2 2024, showcasing the high demand for specialized skills in this sector.\"}]      <span style=\"color: #008080; text-decoration-color: #008080\">│</span>\n",
              "<span style=\"color: #008080; text-decoration-color: #008080\">╰─────────────────────────────────────────────────────────────────────────────────────────────────────────────────╯</span>\n",
              "</pre>\n"
            ],
            "text/plain": [
              "\u001b[36m╭─\u001b[0m\u001b[36m──────────────────────────────────────────────────\u001b[0m\u001b[36m Response \u001b[0m\u001b[36m───────────────────────────────────────────────────\u001b[0m\u001b[36m─╮\u001b[0m\n",
              "\u001b[36m│\u001b[0m [{\"title\": \"AI in 2024: Five trends workers need to know - BBC\", \"url\":                                         \u001b[36m│\u001b[0m\n",
              "\u001b[36m│\u001b[0m \"https://www.bbc.com/worklife/article/20240104-ai-in-2024-five-trends-workers-need-to-know\", \"snippet\": \"A 2023 \u001b[36m│\u001b[0m\n",
              "\u001b[36m│\u001b[0m survey conducted by Jobs for the Future's Center for Artificial Intelligence & the Future of Work (JFF) showed  \u001b[36m│\u001b[0m\n",
              "\u001b[36m│\u001b[0m the majority of respondents believe they will need new skills to compete in an ...\"}, {\"title\": \"AI Replacing   \u001b[36m│\u001b[0m\n",
              "\u001b[36m│\u001b[0m Jobs Statistics: Key Insights and Trends for 2024\", \"url\":                                                      \u001b[36m│\u001b[0m\n",
              "\u001b[36m│\u001b[0m \"https://www.allaboutai.com/resources/ai-replacing-jobs-statistics/\", \"snippet\": \"AI Could Displace 300 Million \u001b[36m│\u001b[0m\n",
              "\u001b[36m│\u001b[0m Jobs Globally by 2030. Artificial Intelligence has the potential to displace up to 300 million jobs worldwide   \u001b[36m│\u001b[0m\n",
              "\u001b[36m│\u001b[0m by 2030, raising concerns about employment and the need for workforce adaptation. ... AllAbout.com Trends and   \u001b[36m│\u001b[0m\n",
              "\u001b[36m│\u001b[0m Predictions in 2024 and 2030. As we look toward 2024 and 2030, I see AI shaping our careers in ...\"}, {\"title\": \u001b[36m│\u001b[0m\n",
              "\u001b[36m│\u001b[0m \"3 AI Trends That Will Impact Your Job In 2024 - Forbes\", \"url\":                                                \u001b[36m│\u001b[0m\n",
              "\u001b[36m│\u001b[0m \"https://www.forbes.com/sites/rachelwells/2024/09/11/ai-trends-that-will-impact-your-job/\", \"snippet\": \"AI is   \u001b[36m│\u001b[0m\n",
              "\u001b[36m│\u001b[0m creating new job categories and job titles. getty 2. AI Actually Does Boost The Job Market. The second insight  \u001b[36m│\u001b[0m\n",
              "\u001b[36m│\u001b[0m which is quite eye-opening, reveals that many workers and employers express an ...\"}, {\"title\": \"Top 10 AI      \u001b[36m│\u001b[0m\n",
              "\u001b[36m│\u001b[0m Trends of 2024\", \"url\": \"https://aimagazine.com/articles/top-10-ai-trends-of-2024\", \"snippet\": \"In light of     \u001b[36m│\u001b[0m\n",
              "\u001b[36m│\u001b[0m this, AI Magazine presents a comprehensive list of the top 10 AI trends of 2024 to understand the AI            \u001b[36m│\u001b[0m\n",
              "\u001b[36m│\u001b[0m developments of this year and gain a glimpse of what could be in store for 2025. 10. AI governance and ethics   \u001b[36m│\u001b[0m\n",
              "\u001b[36m│\u001b[0m ... This dramatic shift in the job market has led to a significant skills shortage, with the International Data \u001b[36m│\u001b[0m\n",
              "\u001b[36m│\u001b[0m Corporation ...\"}, {\"title\": \"131 AI Statistics and Trends for (2024) - National University\", \"url\":            \u001b[36m│\u001b[0m\n",
              "\u001b[36m│\u001b[0m \"https://www.nu.edu/blog/ai-statistics-trends/\", \"snippet\": \"In this comprehensive exploration, we delve into   \u001b[36m│\u001b[0m\n",
              "\u001b[36m│\u001b[0m 131 AI Statistics and Trends (2024), offering a panoramic view of AI's integration into businesses, its         \u001b[36m│\u001b[0m\n",
              "\u001b[36m│\u001b[0m demographic reach, the burgeoning AI job market, educational initiatives, business owner perspectives, consumer \u001b[36m│\u001b[0m\n",
              "\u001b[36m│\u001b[0m usage, trust issues, and regulatory discussions.\"}, {\"title\": \"60+ AI Statistics in Workplace: 2024 Trends and  \u001b[36m│\u001b[0m\n",
              "\u001b[36m│\u001b[0m Predictions - All About AI\", \"url\": \"https://www.allaboutai.com/resources/ai-statistics/workplace/\", \"snippet\": \u001b[36m│\u001b[0m\n",
              "\u001b[36m│\u001b[0m \"(AI statistics 2024) From saving money and boosting productivity to making smarter decisions and redefining    \u001b[36m│\u001b[0m\n",
              "\u001b[36m│\u001b[0m job roles, AI is making waves across different industries. Explore our comprehensive breakdown of the most      \u001b[36m│\u001b[0m\n",
              "\u001b[36m│\u001b[0m impactful AI statistics in 2024 and discover how these trends are revolutionizing workplaces worldwide.\"},      \u001b[36m│\u001b[0m\n",
              "\u001b[36m│\u001b[0m {\"title\": \"What 2024 Taught Us About AI: Innovations and 2025 Trends\", \"url\":                                   \u001b[36m│\u001b[0m\n",
              "\u001b[36m│\u001b[0m \"https://www.allaboutai.com/resources/what-2024-taught-us-about-ai/\", \"snippet\": \"According to AI replacing     \u001b[36m│\u001b[0m\n",
              "\u001b[36m│\u001b[0m jobs statistics, reports indicated that 40% of jobs globally were influenced by AI in 2024, with sectors like   \u001b[36m│\u001b[0m\n",
              "\u001b[36m│\u001b[0m finance seeing significant automation. Yet, AI also created roles focused on managing, training, and            \u001b[36m│\u001b[0m\n",
              "\u001b[36m│\u001b[0m integrating these systems. ... Top 10 AI Trends in 2024. AI evolved rapidly in 2024, with Top 10 AI trends      \u001b[36m│\u001b[0m\n",
              "\u001b[36m│\u001b[0m ...\"}, {\"title\": \"Future of Work Report 2024: AI Will Take Jobs, Make Jobs, and ... - Indeed\", \"url\":           \u001b[36m│\u001b[0m\n",
              "\u001b[36m│\u001b[0m \"https://www.indeed.com/career-advice/news/future-of-work-report-2024\", \"snippet\": \"According to Indeed's 2024  \u001b[36m│\u001b[0m\n",
              "\u001b[36m│\u001b[0m Global Future of Work Report, over 7 in 10 U.S. job seekers (75%) expect their roles to shift in 5 years as     \u001b[36m│\u001b[0m\n",
              "\u001b[36m│\u001b[0m more technology is introduced in the workplace, with 30% foreseeing a \"significant\" change in the skills needed \u001b[36m│\u001b[0m\n",
              "\u001b[36m│\u001b[0m for their current role.\"}, {\"title\": \"AI Job Trends 2024: Machine Learning Growth, Top States, and Remote       \u001b[36m│\u001b[0m\n",
              "\u001b[36m│\u001b[0m Roles\", \"url\":                                                                                                  \u001b[36m│\u001b[0m\n",
              "\u001b[36m│\u001b[0m \"https://blog.getaura.ai/ai-job-trends-for-july-2024-spotting-growth-markets-for-artificial-intelligence\",      \u001b[36m│\u001b[0m\n",
              "\u001b[36m│\u001b[0m \"snippet\": \"AI Job Trends 2024: Emerging Roles and U.S. Hiring Hotspots This month, we focus on AI job trends   \u001b[36m│\u001b[0m\n",
              "\u001b[36m│\u001b[0m in the United States, offering a comprehensive analysis of job postings by state, industry-specific insights,   \u001b[36m│\u001b[0m\n",
              "\u001b[36m│\u001b[0m and the growth of remote AI jobs.\"}, {\"title\": \"2024 Tech Market Trends | AI Jobs and Economic Shifts\", \"url\":  \u001b[36m│\u001b[0m\n",
              "\u001b[36m│\u001b[0m \"https://www.profocustechnology.com/general/tech-employment-2024-market-trends-report/\", \"snippet\": \"AI Job     \u001b[36m│\u001b[0m\n",
              "\u001b[36m│\u001b[0m Growth and Emerging Trends Artificial intelligence continues to dominate tech job openings, with a notable 5.6% \u001b[36m│\u001b[0m\n",
              "\u001b[36m│\u001b[0m rise in AI vacancies from Q1 to Q2 of 2024. This marks a 31.5% increase compared to 2023. The median salary for \u001b[36m│\u001b[0m\n",
              "\u001b[36m│\u001b[0m AI roles reached $157,196 in Q2 2024, showcasing the high demand for specialized skills in this sector.\"}]      \u001b[36m│\u001b[0m\n",
              "\u001b[36m╰─────────────────────────────────────────────────────────────────────────────────────────────────────────────────╯\u001b[0m\n"
            ]
          },
          "metadata": {},
          "output_type": "display_data"
        },
        {
          "data": {
            "text/html": [
              "<pre style=\"white-space:pre;overflow-x:auto;line-height:normal;font-family:Menlo,'DejaVu Sans Mono',consolas,'Courier New',monospace\"><span style=\"color: #d2e3c8; text-decoration-color: #d2e3c8\">╭─ </span><span style=\"color: #d2e3c8; text-decoration-color: #d2e3c8; font-weight: bold\">Agent Info</span><span style=\"color: #d2e3c8; text-decoration-color: #d2e3c8\"> ────────────────────────────────────────────────────────────────────────────────────────────────────╮</span>\n",
              "<span style=\"color: #d2e3c8; text-decoration-color: #d2e3c8\">│</span>                                                                                                                 <span style=\"color: #d2e3c8; text-decoration-color: #d2e3c8\">│</span>\n",
              "<span style=\"color: #d2e3c8; text-decoration-color: #d2e3c8\">│</span>  <span style=\"color: #ff9b9b; text-decoration-color: #ff9b9b; font-weight: bold\">👤 Agent:</span> <span style=\"color: #ffe5e5; text-decoration-color: #ffe5e5\">DataCollector</span>                                                                                        <span style=\"color: #d2e3c8; text-decoration-color: #d2e3c8\">│</span>\n",
              "<span style=\"color: #d2e3c8; text-decoration-color: #d2e3c8\">│</span>  <span style=\"color: #b4b4b3; text-decoration-color: #b4b4b3; font-weight: bold\">Role:</span> <span style=\"color: #ffe5e5; text-decoration-color: #ffe5e5\">Search Specialist</span>                                                                                        <span style=\"color: #d2e3c8; text-decoration-color: #d2e3c8\">│</span>\n",
              "<span style=\"color: #d2e3c8; text-decoration-color: #d2e3c8\">│</span>  <span style=\"color: #86a789; text-decoration-color: #86a789; font-weight: bold\">Tools:</span> <span style=\"color: #b4d4ff; text-decoration-color: #b4d4ff; font-style: italic\">internet_search_tool</span>                                                                                    <span style=\"color: #d2e3c8; text-decoration-color: #d2e3c8\">│</span>\n",
              "<span style=\"color: #d2e3c8; text-decoration-color: #d2e3c8\">│</span>                                                                                                                 <span style=\"color: #d2e3c8; text-decoration-color: #d2e3c8\">│</span>\n",
              "<span style=\"color: #d2e3c8; text-decoration-color: #d2e3c8\">╰─────────────────────────────────────────────────────────────────────────────────────────────────────────────────╯</span>\n",
              "</pre>\n"
            ],
            "text/plain": [
              "\u001b[38;2;210;227;200m╭─\u001b[0m\u001b[38;2;210;227;200m \u001b[0m\u001b[1;38;2;210;227;200mAgent Info\u001b[0m\u001b[38;2;210;227;200m \u001b[0m\u001b[38;2;210;227;200m───────────────────────────────────────────────────────────────────────────────────────────────────\u001b[0m\u001b[38;2;210;227;200m─╮\u001b[0m\n",
              "\u001b[38;2;210;227;200m│\u001b[0m                                                                                                                 \u001b[38;2;210;227;200m│\u001b[0m\n",
              "\u001b[38;2;210;227;200m│\u001b[0m  \u001b[1;38;2;255;155;155m👤 Agent:\u001b[0m \u001b[38;2;255;229;229mDataCollector\u001b[0m                                                                                        \u001b[38;2;210;227;200m│\u001b[0m\n",
              "\u001b[38;2;210;227;200m│\u001b[0m  \u001b[1;38;2;180;180;179mRole:\u001b[0m \u001b[38;2;255;229;229mSearch Specialist\u001b[0m                                                                                        \u001b[38;2;210;227;200m│\u001b[0m\n",
              "\u001b[38;2;210;227;200m│\u001b[0m  \u001b[1;38;2;134;167;137mTools:\u001b[0m \u001b[3;38;2;180;212;255minternet_search_tool\u001b[0m                                                                                    \u001b[38;2;210;227;200m│\u001b[0m\n",
              "\u001b[38;2;210;227;200m│\u001b[0m                                                                                                                 \u001b[38;2;210;227;200m│\u001b[0m\n",
              "\u001b[38;2;210;227;200m╰─────────────────────────────────────────────────────────────────────────────────────────────────────────────────╯\u001b[0m\n"
            ]
          },
          "metadata": {},
          "output_type": "display_data"
        },
        {
          "data": {
            "application/vnd.jupyter.widget-view+json": {
              "model_id": "2271f95e84664f2ea1ec5637cefbc1f5",
              "version_major": 2,
              "version_minor": 0
            },
            "text/plain": [
              "Output()"
            ]
          },
          "metadata": {},
          "output_type": "display_data"
        },
        {
          "data": {
            "text/html": [
              "<pre style=\"white-space:pre;overflow-x:auto;line-height:normal;font-family:Menlo,'DejaVu Sans Mono',consolas,'Courier New',monospace\"></pre>\n"
            ],
            "text/plain": []
          },
          "metadata": {},
          "output_type": "display_data"
        },
        {
          "data": {
            "text/html": [
              "<pre style=\"white-space:pre;overflow-x:auto;line-height:normal;font-family:Menlo,'DejaVu Sans Mono',consolas,'Courier New',monospace\">\n",
              "</pre>\n"
            ],
            "text/plain": [
              "\n"
            ]
          },
          "metadata": {},
          "output_type": "display_data"
        },
        {
          "data": {
            "text/html": [
              "<pre style=\"white-space:pre;overflow-x:auto;line-height:normal;font-family:Menlo,'DejaVu Sans Mono',consolas,'Courier New',monospace\"><span style=\"color: #7f7f7f; text-decoration-color: #7f7f7f\">Response generated in 61.4s</span>\n",
              "</pre>\n"
            ],
            "text/plain": [
              "\u001b[2mResponse generated in 61.4s\u001b[0m\n"
            ]
          },
          "metadata": {},
          "output_type": "display_data"
        },
        {
          "data": {
            "text/html": [
              "<pre style=\"white-space:pre;overflow-x:auto;line-height:normal;font-family:Menlo,'DejaVu Sans Mono',consolas,'Courier New',monospace\"><span style=\"color: #008080; text-decoration-color: #008080\">╭───────────────────────────────────────────────────── Task ──────────────────────────────────────────────────────╮</span>\n",
              "<span style=\"color: #008080; text-decoration-color: #008080\">│</span> You need to do the following task: Validate the collected data. Check if: 1. At least 5 results are returned.   <span style=\"color: #008080; text-decoration-color: #008080\">│</span>\n",
              "<span style=\"color: #008080; text-decoration-color: #008080\">│</span> 2. Each result contains a title and a URL. Return validation_result as 'valid' or 'invalid' only no other text. <span style=\"color: #008080; text-decoration-color: #008080\">│</span>\n",
              "<span style=\"color: #008080; text-decoration-color: #008080\">│</span> Input data from previous tasks: collect_data: [{\"title\": \"AI in 2024: Five trends workers need to know - BBC\",  <span style=\"color: #008080; text-decoration-color: #008080\">│</span>\n",
              "<span style=\"color: #008080; text-decoration-color: #008080\">│</span> \"url\": \"https://www.bbc.com/worklife/article/20240104-ai-in-2024-five-trends-workers-need-to-know\", \"snippet\":  <span style=\"color: #008080; text-decoration-color: #008080\">│</span>\n",
              "<span style=\"color: #008080; text-decoration-color: #008080\">│</span> \"A 2023 survey conducted by Jobs for the Future's Center for Artificial Intelligence &amp; the Future of Work (JFF) <span style=\"color: #008080; text-decoration-color: #008080\">│</span>\n",
              "<span style=\"color: #008080; text-decoration-color: #008080\">│</span> showed the majority of respondents believe they will need new skills to compete in an ...\"}, {\"title\": \"AI      <span style=\"color: #008080; text-decoration-color: #008080\">│</span>\n",
              "<span style=\"color: #008080; text-decoration-color: #008080\">│</span> Replacing Jobs Statistics: Key Insights and Trends for 2024\", \"url\":                                            <span style=\"color: #008080; text-decoration-color: #008080\">│</span>\n",
              "<span style=\"color: #008080; text-decoration-color: #008080\">│</span> \"https://www.allaboutai.com/resources/ai-replacing-jobs-statistics/\", \"snippet\": \"AI Could Displace 300 Million <span style=\"color: #008080; text-decoration-color: #008080\">│</span>\n",
              "<span style=\"color: #008080; text-decoration-color: #008080\">│</span> Jobs Globally by 2030. Artificial Intelligence has the potential to displace up to 300 million jobs worldwide   <span style=\"color: #008080; text-decoration-color: #008080\">│</span>\n",
              "<span style=\"color: #008080; text-decoration-color: #008080\">│</span> by 2030, raising concerns about employment and the need for workforce adaptation. ... AllAbout.com Trends and   <span style=\"color: #008080; text-decoration-color: #008080\">│</span>\n",
              "<span style=\"color: #008080; text-decoration-color: #008080\">│</span> Predictions in 2024 and 2030. As we look toward 2024 and 2030, I see AI shaping our careers in ...\"}, {\"title\": <span style=\"color: #008080; text-decoration-color: #008080\">│</span>\n",
              "<span style=\"color: #008080; text-decoration-color: #008080\">│</span> \"3 AI Trends That Will Impact Your Job In 2024 - Forbes\", \"url\":                                                <span style=\"color: #008080; text-decoration-color: #008080\">│</span>\n",
              "<span style=\"color: #008080; text-decoration-color: #008080\">│</span> \"https://www.forbes.com/sites/rachelwells/2024/09/11/ai-trends-that-will-impact-your-job/\", \"snippet\": \"AI is   <span style=\"color: #008080; text-decoration-color: #008080\">│</span>\n",
              "<span style=\"color: #008080; text-decoration-color: #008080\">│</span> creating new job categories and job titles. getty 2. AI Actually Does Boost The Job Market. The second insight  <span style=\"color: #008080; text-decoration-color: #008080\">│</span>\n",
              "<span style=\"color: #008080; text-decoration-color: #008080\">│</span> which is quite eye-opening, reveals that many workers and employers express an ...\"}, {\"title\": \"Top 10 AI      <span style=\"color: #008080; text-decoration-color: #008080\">│</span>\n",
              "<span style=\"color: #008080; text-decoration-color: #008080\">│</span> Trends of 2024\", \"url\": \"https://aimagazine.com/articles/top-10-ai-trends-of-2024\", \"snippet\": \"In light of     <span style=\"color: #008080; text-decoration-color: #008080\">│</span>\n",
              "<span style=\"color: #008080; text-decoration-color: #008080\">│</span> this, AI Magazine presents a comprehensive list of the top 10 AI trends of 2024 to understand the AI            <span style=\"color: #008080; text-decoration-color: #008080\">│</span>\n",
              "<span style=\"color: #008080; text-decoration-color: #008080\">│</span> developments of this year and gain a glimpse of what could be in store for 2025. 10. AI governance and ethics   <span style=\"color: #008080; text-decoration-color: #008080\">│</span>\n",
              "<span style=\"color: #008080; text-decoration-color: #008080\">│</span> ... This dramatic shift in the job market has led to a significant skills shortage, with the International Data <span style=\"color: #008080; text-decoration-color: #008080\">│</span>\n",
              "<span style=\"color: #008080; text-decoration-color: #008080\">│</span> Corporation ...\"}, {\"title\": \"131 AI Statistics and Trends for (2024) - National University\", \"url\":            <span style=\"color: #008080; text-decoration-color: #008080\">│</span>\n",
              "<span style=\"color: #008080; text-decoration-color: #008080\">│</span> \"https://www.nu.edu/blog/ai-statistics-trends/\", \"snippet\": \"In this comprehensive exploration, we delve into   <span style=\"color: #008080; text-decoration-color: #008080\">│</span>\n",
              "<span style=\"color: #008080; text-decoration-color: #008080\">│</span> 131 AI Statistics and Trends (2024), offering a panoramic view of AI's integration into businesses, its         <span style=\"color: #008080; text-decoration-color: #008080\">│</span>\n",
              "<span style=\"color: #008080; text-decoration-color: #008080\">│</span> demographic reach, the burgeoning AI job market, educational initiatives, business owner perspectives, consumer <span style=\"color: #008080; text-decoration-color: #008080\">│</span>\n",
              "<span style=\"color: #008080; text-decoration-color: #008080\">│</span> usage, trust issues, and regulatory discussions.\"}, {\"title\": \"60+ AI Statistics in Workplace: 2024 Trends and  <span style=\"color: #008080; text-decoration-color: #008080\">│</span>\n",
              "<span style=\"color: #008080; text-decoration-color: #008080\">│</span> Predictions - All About AI\", \"url\": \"https://www.allaboutai.com/resources/ai-statistics/workplace/\", \"snippet\": <span style=\"color: #008080; text-decoration-color: #008080\">│</span>\n",
              "<span style=\"color: #008080; text-decoration-color: #008080\">│</span> \"(AI statistics 2024) From saving money and boosting productivity to making smarter decisions and redefining    <span style=\"color: #008080; text-decoration-color: #008080\">│</span>\n",
              "<span style=\"color: #008080; text-decoration-color: #008080\">│</span> job roles, AI is making waves across different industries. Explore our comprehensive breakdown of the most      <span style=\"color: #008080; text-decoration-color: #008080\">│</span>\n",
              "<span style=\"color: #008080; text-decoration-color: #008080\">│</span> impactful AI statistics in 2024 and discover how these trends are revolutionizing workplaces worldwide.\"},      <span style=\"color: #008080; text-decoration-color: #008080\">│</span>\n",
              "<span style=\"color: #008080; text-decoration-color: #008080\">│</span> {\"title\": \"What 2024 Taught Us About AI: Innovations and 2025 Trends\", \"url\":                                   <span style=\"color: #008080; text-decoration-color: #008080\">│</span>\n",
              "<span style=\"color: #008080; text-decoration-color: #008080\">│</span> \"https://www.allaboutai.com/resources/what-2024-taught-us-about-ai/\", \"snippet\": \"According to AI replacing     <span style=\"color: #008080; text-decoration-color: #008080\">│</span>\n",
              "<span style=\"color: #008080; text-decoration-color: #008080\">│</span> jobs statistics, reports indicated that 40% of jobs globally were influenced by AI in 2024, with sectors like   <span style=\"color: #008080; text-decoration-color: #008080\">│</span>\n",
              "<span style=\"color: #008080; text-decoration-color: #008080\">│</span> finance seeing significant automation. Yet, AI also created roles focused on managing, training, and            <span style=\"color: #008080; text-decoration-color: #008080\">│</span>\n",
              "<span style=\"color: #008080; text-decoration-color: #008080\">│</span> integrating these systems. ... Top 10 AI Trends in 2024. AI evolved rapidly in 2024, with Top 10 AI trends      <span style=\"color: #008080; text-decoration-color: #008080\">│</span>\n",
              "<span style=\"color: #008080; text-decoration-color: #008080\">│</span> ...\"}, {\"title\": \"Future of Work Report 2024: AI Will Take Jobs, Make Jobs, and ... - Indeed\", \"url\":           <span style=\"color: #008080; text-decoration-color: #008080\">│</span>\n",
              "<span style=\"color: #008080; text-decoration-color: #008080\">│</span> \"https://www.indeed.com/career-advice/news/future-of-work-report-2024\", \"snippet\": \"According to Indeed's 2024  <span style=\"color: #008080; text-decoration-color: #008080\">│</span>\n",
              "<span style=\"color: #008080; text-decoration-color: #008080\">│</span> Global Future of Work Report, over 7 in 10 U.S. job seekers (75%) expect their roles to shift in 5 years as     <span style=\"color: #008080; text-decoration-color: #008080\">│</span>\n",
              "<span style=\"color: #008080; text-decoration-color: #008080\">│</span> more technology is introduced in the workplace, with 30% foreseeing a \"significant\" change in the skills needed <span style=\"color: #008080; text-decoration-color: #008080\">│</span>\n",
              "<span style=\"color: #008080; text-decoration-color: #008080\">│</span> for their current role.\"}, {\"title\": \"AI Job Trends 2024: Machine Learning Growth, Top States, and Remote       <span style=\"color: #008080; text-decoration-color: #008080\">│</span>\n",
              "<span style=\"color: #008080; text-decoration-color: #008080\">│</span> Roles\", \"url\":                                                                                                  <span style=\"color: #008080; text-decoration-color: #008080\">│</span>\n",
              "<span style=\"color: #008080; text-decoration-color: #008080\">│</span> \"https://blog.getaura.ai/ai-job-trends-for-july-2024-spotting-growth-markets-for-artificial-intelligence\",      <span style=\"color: #008080; text-decoration-color: #008080\">│</span>\n",
              "<span style=\"color: #008080; text-decoration-color: #008080\">│</span> \"snippet\": \"AI Job Trends 2024: Emerging Roles and U.S. Hiring Hotspots This month, we focus on AI job trends   <span style=\"color: #008080; text-decoration-color: #008080\">│</span>\n",
              "<span style=\"color: #008080; text-decoration-color: #008080\">│</span> in the United States, offering a comprehensive analysis of job postings by state, industry-specific insights,   <span style=\"color: #008080; text-decoration-color: #008080\">│</span>\n",
              "<span style=\"color: #008080; text-decoration-color: #008080\">│</span> and the growth of remote AI jobs.\"}, {\"title\": \"2024 Tech Market Trends | AI Jobs and Economic Shifts\", \"url\":  <span style=\"color: #008080; text-decoration-color: #008080\">│</span>\n",
              "<span style=\"color: #008080; text-decoration-color: #008080\">│</span> \"https://www.profocustechnology.com/general/tech-employment-2024-market-trends-report/\", \"snippet\": \"AI Job     <span style=\"color: #008080; text-decoration-color: #008080\">│</span>\n",
              "<span style=\"color: #008080; text-decoration-color: #008080\">│</span> Growth and Emerging Trends Artificial intelligence continues to dominate tech job openings, with a notable 5.6% <span style=\"color: #008080; text-decoration-color: #008080\">│</span>\n",
              "<span style=\"color: #008080; text-decoration-color: #008080\">│</span> rise in AI vacancies from Q1 to Q2 of 2024. This marks a 31.5% increase compared to 2023. The median salary for <span style=\"color: #008080; text-decoration-color: #008080\">│</span>\n",
              "<span style=\"color: #008080; text-decoration-color: #008080\">│</span> AI roles reached $157,196 in Q2 2024, showcasing the high demand for specialized skills in this sector.\"}].     <span style=\"color: #008080; text-decoration-color: #008080\">│</span>\n",
              "<span style=\"color: #008080; text-decoration-color: #008080\">│</span> Expected Output: Validation result indicating if data is valid or invalid.. Please provide only the final       <span style=\"color: #008080; text-decoration-color: #008080\">│</span>\n",
              "<span style=\"color: #008080; text-decoration-color: #008080\">│</span> result of your work. Do not add any conversation or extra explanation.                                          <span style=\"color: #008080; text-decoration-color: #008080\">│</span>\n",
              "<span style=\"color: #008080; text-decoration-color: #008080\">╰─────────────────────────────────────────────────────────────────────────────────────────────────────────────────╯</span>\n",
              "</pre>\n"
            ],
            "text/plain": [
              "\u001b[36m╭─\u001b[0m\u001b[36m────────────────────────────────────────────────────\u001b[0m\u001b[36m Task \u001b[0m\u001b[36m─────────────────────────────────────────────────────\u001b[0m\u001b[36m─╮\u001b[0m\n",
              "\u001b[36m│\u001b[0m You need to do the following task: Validate the collected data. Check if: 1. At least 5 results are returned.   \u001b[36m│\u001b[0m\n",
              "\u001b[36m│\u001b[0m 2. Each result contains a title and a URL. Return validation_result as 'valid' or 'invalid' only no other text. \u001b[36m│\u001b[0m\n",
              "\u001b[36m│\u001b[0m Input data from previous tasks: collect_data: [{\"title\": \"AI in 2024: Five trends workers need to know - BBC\",  \u001b[36m│\u001b[0m\n",
              "\u001b[36m│\u001b[0m \"url\": \"https://www.bbc.com/worklife/article/20240104-ai-in-2024-five-trends-workers-need-to-know\", \"snippet\":  \u001b[36m│\u001b[0m\n",
              "\u001b[36m│\u001b[0m \"A 2023 survey conducted by Jobs for the Future's Center for Artificial Intelligence & the Future of Work (JFF) \u001b[36m│\u001b[0m\n",
              "\u001b[36m│\u001b[0m showed the majority of respondents believe they will need new skills to compete in an ...\"}, {\"title\": \"AI      \u001b[36m│\u001b[0m\n",
              "\u001b[36m│\u001b[0m Replacing Jobs Statistics: Key Insights and Trends for 2024\", \"url\":                                            \u001b[36m│\u001b[0m\n",
              "\u001b[36m│\u001b[0m \"https://www.allaboutai.com/resources/ai-replacing-jobs-statistics/\", \"snippet\": \"AI Could Displace 300 Million \u001b[36m│\u001b[0m\n",
              "\u001b[36m│\u001b[0m Jobs Globally by 2030. Artificial Intelligence has the potential to displace up to 300 million jobs worldwide   \u001b[36m│\u001b[0m\n",
              "\u001b[36m│\u001b[0m by 2030, raising concerns about employment and the need for workforce adaptation. ... AllAbout.com Trends and   \u001b[36m│\u001b[0m\n",
              "\u001b[36m│\u001b[0m Predictions in 2024 and 2030. As we look toward 2024 and 2030, I see AI shaping our careers in ...\"}, {\"title\": \u001b[36m│\u001b[0m\n",
              "\u001b[36m│\u001b[0m \"3 AI Trends That Will Impact Your Job In 2024 - Forbes\", \"url\":                                                \u001b[36m│\u001b[0m\n",
              "\u001b[36m│\u001b[0m \"https://www.forbes.com/sites/rachelwells/2024/09/11/ai-trends-that-will-impact-your-job/\", \"snippet\": \"AI is   \u001b[36m│\u001b[0m\n",
              "\u001b[36m│\u001b[0m creating new job categories and job titles. getty 2. AI Actually Does Boost The Job Market. The second insight  \u001b[36m│\u001b[0m\n",
              "\u001b[36m│\u001b[0m which is quite eye-opening, reveals that many workers and employers express an ...\"}, {\"title\": \"Top 10 AI      \u001b[36m│\u001b[0m\n",
              "\u001b[36m│\u001b[0m Trends of 2024\", \"url\": \"https://aimagazine.com/articles/top-10-ai-trends-of-2024\", \"snippet\": \"In light of     \u001b[36m│\u001b[0m\n",
              "\u001b[36m│\u001b[0m this, AI Magazine presents a comprehensive list of the top 10 AI trends of 2024 to understand the AI            \u001b[36m│\u001b[0m\n",
              "\u001b[36m│\u001b[0m developments of this year and gain a glimpse of what could be in store for 2025. 10. AI governance and ethics   \u001b[36m│\u001b[0m\n",
              "\u001b[36m│\u001b[0m ... This dramatic shift in the job market has led to a significant skills shortage, with the International Data \u001b[36m│\u001b[0m\n",
              "\u001b[36m│\u001b[0m Corporation ...\"}, {\"title\": \"131 AI Statistics and Trends for (2024) - National University\", \"url\":            \u001b[36m│\u001b[0m\n",
              "\u001b[36m│\u001b[0m \"https://www.nu.edu/blog/ai-statistics-trends/\", \"snippet\": \"In this comprehensive exploration, we delve into   \u001b[36m│\u001b[0m\n",
              "\u001b[36m│\u001b[0m 131 AI Statistics and Trends (2024), offering a panoramic view of AI's integration into businesses, its         \u001b[36m│\u001b[0m\n",
              "\u001b[36m│\u001b[0m demographic reach, the burgeoning AI job market, educational initiatives, business owner perspectives, consumer \u001b[36m│\u001b[0m\n",
              "\u001b[36m│\u001b[0m usage, trust issues, and regulatory discussions.\"}, {\"title\": \"60+ AI Statistics in Workplace: 2024 Trends and  \u001b[36m│\u001b[0m\n",
              "\u001b[36m│\u001b[0m Predictions - All About AI\", \"url\": \"https://www.allaboutai.com/resources/ai-statistics/workplace/\", \"snippet\": \u001b[36m│\u001b[0m\n",
              "\u001b[36m│\u001b[0m \"(AI statistics 2024) From saving money and boosting productivity to making smarter decisions and redefining    \u001b[36m│\u001b[0m\n",
              "\u001b[36m│\u001b[0m job roles, AI is making waves across different industries. Explore our comprehensive breakdown of the most      \u001b[36m│\u001b[0m\n",
              "\u001b[36m│\u001b[0m impactful AI statistics in 2024 and discover how these trends are revolutionizing workplaces worldwide.\"},      \u001b[36m│\u001b[0m\n",
              "\u001b[36m│\u001b[0m {\"title\": \"What 2024 Taught Us About AI: Innovations and 2025 Trends\", \"url\":                                   \u001b[36m│\u001b[0m\n",
              "\u001b[36m│\u001b[0m \"https://www.allaboutai.com/resources/what-2024-taught-us-about-ai/\", \"snippet\": \"According to AI replacing     \u001b[36m│\u001b[0m\n",
              "\u001b[36m│\u001b[0m jobs statistics, reports indicated that 40% of jobs globally were influenced by AI in 2024, with sectors like   \u001b[36m│\u001b[0m\n",
              "\u001b[36m│\u001b[0m finance seeing significant automation. Yet, AI also created roles focused on managing, training, and            \u001b[36m│\u001b[0m\n",
              "\u001b[36m│\u001b[0m integrating these systems. ... Top 10 AI Trends in 2024. AI evolved rapidly in 2024, with Top 10 AI trends      \u001b[36m│\u001b[0m\n",
              "\u001b[36m│\u001b[0m ...\"}, {\"title\": \"Future of Work Report 2024: AI Will Take Jobs, Make Jobs, and ... - Indeed\", \"url\":           \u001b[36m│\u001b[0m\n",
              "\u001b[36m│\u001b[0m \"https://www.indeed.com/career-advice/news/future-of-work-report-2024\", \"snippet\": \"According to Indeed's 2024  \u001b[36m│\u001b[0m\n",
              "\u001b[36m│\u001b[0m Global Future of Work Report, over 7 in 10 U.S. job seekers (75%) expect their roles to shift in 5 years as     \u001b[36m│\u001b[0m\n",
              "\u001b[36m│\u001b[0m more technology is introduced in the workplace, with 30% foreseeing a \"significant\" change in the skills needed \u001b[36m│\u001b[0m\n",
              "\u001b[36m│\u001b[0m for their current role.\"}, {\"title\": \"AI Job Trends 2024: Machine Learning Growth, Top States, and Remote       \u001b[36m│\u001b[0m\n",
              "\u001b[36m│\u001b[0m Roles\", \"url\":                                                                                                  \u001b[36m│\u001b[0m\n",
              "\u001b[36m│\u001b[0m \"https://blog.getaura.ai/ai-job-trends-for-july-2024-spotting-growth-markets-for-artificial-intelligence\",      \u001b[36m│\u001b[0m\n",
              "\u001b[36m│\u001b[0m \"snippet\": \"AI Job Trends 2024: Emerging Roles and U.S. Hiring Hotspots This month, we focus on AI job trends   \u001b[36m│\u001b[0m\n",
              "\u001b[36m│\u001b[0m in the United States, offering a comprehensive analysis of job postings by state, industry-specific insights,   \u001b[36m│\u001b[0m\n",
              "\u001b[36m│\u001b[0m and the growth of remote AI jobs.\"}, {\"title\": \"2024 Tech Market Trends | AI Jobs and Economic Shifts\", \"url\":  \u001b[36m│\u001b[0m\n",
              "\u001b[36m│\u001b[0m \"https://www.profocustechnology.com/general/tech-employment-2024-market-trends-report/\", \"snippet\": \"AI Job     \u001b[36m│\u001b[0m\n",
              "\u001b[36m│\u001b[0m Growth and Emerging Trends Artificial intelligence continues to dominate tech job openings, with a notable 5.6% \u001b[36m│\u001b[0m\n",
              "\u001b[36m│\u001b[0m rise in AI vacancies from Q1 to Q2 of 2024. This marks a 31.5% increase compared to 2023. The median salary for \u001b[36m│\u001b[0m\n",
              "\u001b[36m│\u001b[0m AI roles reached $157,196 in Q2 2024, showcasing the high demand for specialized skills in this sector.\"}].     \u001b[36m│\u001b[0m\n",
              "\u001b[36m│\u001b[0m Expected Output: Validation result indicating if data is valid or invalid.. Please provide only the final       \u001b[36m│\u001b[0m\n",
              "\u001b[36m│\u001b[0m result of your work. Do not add any conversation or extra explanation.                                          \u001b[36m│\u001b[0m\n",
              "\u001b[36m╰─────────────────────────────────────────────────────────────────────────────────────────────────────────────────╯\u001b[0m\n"
            ]
          },
          "metadata": {},
          "output_type": "display_data"
        },
        {
          "data": {
            "text/html": [
              "<pre style=\"white-space:pre;overflow-x:auto;line-height:normal;font-family:Menlo,'DejaVu Sans Mono',consolas,'Courier New',monospace\"><span style=\"color: #008080; text-decoration-color: #008080\">╭─────────────────────────────────────────────────── Response ────────────────────────────────────────────────────╮</span>\n",
              "<span style=\"color: #008080; text-decoration-color: #008080\">│</span> valid                                                                                                           <span style=\"color: #008080; text-decoration-color: #008080\">│</span>\n",
              "<span style=\"color: #008080; text-decoration-color: #008080\">╰─────────────────────────────────────────────────────────────────────────────────────────────────────────────────╯</span>\n",
              "</pre>\n"
            ],
            "text/plain": [
              "\u001b[36m╭─\u001b[0m\u001b[36m──────────────────────────────────────────────────\u001b[0m\u001b[36m Response \u001b[0m\u001b[36m───────────────────────────────────────────────────\u001b[0m\u001b[36m─╮\u001b[0m\n",
              "\u001b[36m│\u001b[0m valid                                                                                                           \u001b[36m│\u001b[0m\n",
              "\u001b[36m╰─────────────────────────────────────────────────────────────────────────────────────────────────────────────────╯\u001b[0m\n"
            ]
          },
          "metadata": {},
          "output_type": "display_data"
        },
        {
          "data": {
            "text/plain": [
              "{'task_status': {0: 'not started', 1: 'not started'},\n",
              " 'task_results': {0: TaskOutput(description=\"Perform an internet search using the query: 'AI job trends in 2024'. Return results as a list of title, URL, and snippet.\", summary='Perform an', raw='[{\"title\": \"AI in 2024: Five trends workers need to know - BBC\", \"url\": \"https://www.bbc.com/worklife/article/20240104-ai-in-2024-five-trends-workers-need-to-know\", \"snippet\": \"A 2023 survey conducted by Jobs for the Future\\'s Center for Artificial Intelligence & the Future of Work (JFF) showed the majority of respondents believe they will need new skills to compete in an ...\"}, {\"title\": \"AI Replacing Jobs Statistics: Key Insights and Trends for 2024\", \"url\": \"https://www.allaboutai.com/resources/ai-replacing-jobs-statistics/\", \"snippet\": \"AI Could Displace 300 Million Jobs Globally by 2030. Artificial Intelligence has the potential to displace up to 300 million jobs worldwide by 2030, raising concerns about employment and the need for workforce adaptation. ... AllAbout.com Trends and Predictions in 2024 and 2030. As we look toward 2024 and 2030, I see AI shaping our careers in ...\"}, {\"title\": \"3 AI Trends That Will Impact Your Job In 2024 - Forbes\", \"url\": \"https://www.forbes.com/sites/rachelwells/2024/09/11/ai-trends-that-will-impact-your-job/\", \"snippet\": \"AI is creating new job categories and job titles. getty 2. AI Actually Does Boost The Job Market. The second insight which is quite eye-opening, reveals that many workers and employers express an ...\"}, {\"title\": \"Top 10 AI Trends of 2024\", \"url\": \"https://aimagazine.com/articles/top-10-ai-trends-of-2024\", \"snippet\": \"In light of this, AI Magazine presents a comprehensive list of the top 10 AI trends of 2024 to understand the AI developments of this year and gain a glimpse of what could be in store for 2025. 10. AI governance and ethics ... This dramatic shift in the job market has led to a significant skills shortage, with the International Data Corporation ...\"}, {\"title\": \"131 AI Statistics and Trends for (2024) - National University\", \"url\": \"https://www.nu.edu/blog/ai-statistics-trends/\", \"snippet\": \"In this comprehensive exploration, we delve into 131 AI Statistics and Trends (2024), offering a panoramic view of AI\\'s integration into businesses, its demographic reach, the burgeoning AI job market, educational initiatives, business owner perspectives, consumer usage, trust issues, and regulatory discussions.\"}, {\"title\": \"60+ AI Statistics in Workplace: 2024 Trends and Predictions - All About AI\", \"url\": \"https://www.allaboutai.com/resources/ai-statistics/workplace/\", \"snippet\": \"(AI statistics 2024) From saving money and boosting productivity to making smarter decisions and redefining job roles, AI is making waves across different industries. Explore our comprehensive breakdown of the most impactful AI statistics in 2024 and discover how these trends are revolutionizing workplaces worldwide.\"}, {\"title\": \"What 2024 Taught Us About AI: Innovations and 2025 Trends\", \"url\": \"https://www.allaboutai.com/resources/what-2024-taught-us-about-ai/\", \"snippet\": \"According to AI replacing jobs statistics, reports indicated that 40% of jobs globally were influenced by AI in 2024, with sectors like finance seeing significant automation. Yet, AI also created roles focused on managing, training, and integrating these systems. ... Top 10 AI Trends in 2024. AI evolved rapidly in 2024, with Top 10 AI trends ...\"}, {\"title\": \"Future of Work Report 2024: AI Will Take Jobs, Make Jobs, and ... - Indeed\", \"url\": \"https://www.indeed.com/career-advice/news/future-of-work-report-2024\", \"snippet\": \"According to Indeed\\'s 2024 Global Future of Work Report, over 7 in 10 U.S. job seekers (75%) expect their roles to shift in 5 years as more technology is introduced in the workplace, with 30% foreseeing a \\\\\"significant\\\\\" change in the skills needed for their current role.\"}, {\"title\": \"AI Job Trends 2024: Machine Learning Growth, Top States, and Remote Roles\", \"url\": \"https://blog.getaura.ai/ai-job-trends-for-july-2024-spotting-growth-markets-for-artificial-intelligence\", \"snippet\": \"AI Job Trends 2024: Emerging Roles and U.S. Hiring Hotspots This month, we focus on AI job trends in the United States, offering a comprehensive analysis of job postings by state, industry-specific insights, and the growth of remote AI jobs.\"}, {\"title\": \"2024 Tech Market Trends | AI Jobs and Economic Shifts\", \"url\": \"https://www.profocustechnology.com/general/tech-employment-2024-market-trends-report/\", \"snippet\": \"AI Job Growth and Emerging Trends Artificial intelligence continues to dominate tech job openings, with a notable 5.6% rise in AI vacancies from Q1 to Q2 of 2024. This marks a 31.5% increase compared to 2023. The median salary for AI roles reached $157,196 in Q2 2024, showcasing the high demand for specialized skills in this sector.\"}]', pydantic=None, json_dict=None, agent='DataCollector', output_format='RAW'),\n",
              "  1: TaskOutput(description='Validate the collected data. Check if:\\n    1. At least 5 results are returned.\\n    2. Each result contains a title and a URL.\\n    Return validation_result as \\'valid\\' or \\'invalid\\' only no other text.\\nInput data from previous tasks:\\ncollect_data: [{\"title\": \"AI in 2024: Five trends workers need to know - BBC\", \"url\": \"https://www.bbc.com/worklife/article/20240104-ai-in-2024-five-trends-workers-need-to-know\", \"snippet\": \"A 2023 survey conducted by Jobs for the Future\\'s Center for Artificial Intelligence & the Future of Work (JFF) showed the majority of respondents believe they will need new skills to compete in an ...\"}, {\"title\": \"AI Replacing Jobs Statistics: Key Insights and Trends for 2024\", \"url\": \"https://www.allaboutai.com/resources/ai-replacing-jobs-statistics/\", \"snippet\": \"AI Could Displace 300 Million Jobs Globally by 2030. Artificial Intelligence has the potential to displace up to 300 million jobs worldwide by 2030, raising concerns about employment and the need for workforce adaptation. ... AllAbout.com Trends and Predictions in 2024 and 2030. As we look toward 2024 and 2030, I see AI shaping our careers in ...\"}, {\"title\": \"3 AI Trends That Will Impact Your Job In 2024 - Forbes\", \"url\": \"https://www.forbes.com/sites/rachelwells/2024/09/11/ai-trends-that-will-impact-your-job/\", \"snippet\": \"AI is creating new job categories and job titles. getty 2. AI Actually Does Boost The Job Market. The second insight which is quite eye-opening, reveals that many workers and employers express an ...\"}, {\"title\": \"Top 10 AI Trends of 2024\", \"url\": \"https://aimagazine.com/articles/top-10-ai-trends-of-2024\", \"snippet\": \"In light of this, AI Magazine presents a comprehensive list of the top 10 AI trends of 2024 to understand the AI developments of this year and gain a glimpse of what could be in store for 2025. 10. AI governance and ethics ... This dramatic shift in the job market has led to a significant skills shortage, with the International Data Corporation ...\"}, {\"title\": \"131 AI Statistics and Trends for (2024) - National University\", \"url\": \"https://www.nu.edu/blog/ai-statistics-trends/\", \"snippet\": \"In this comprehensive exploration, we delve into 131 AI Statistics and Trends (2024), offering a panoramic view of AI\\'s integration into businesses, its demographic reach, the burgeoning AI job market, educational initiatives, business owner perspectives, consumer usage, trust issues, and regulatory discussions.\"}, {\"title\": \"60+ AI Statistics in Workplace: 2024 Trends and Predictions - All About AI\", \"url\": \"https://www.allaboutai.com/resources/ai-statistics/workplace/\", \"snippet\": \"(AI statistics 2024) From saving money and boosting productivity to making smarter decisions and redefining job roles, AI is making waves across different industries. Explore our comprehensive breakdown of the most impactful AI statistics in 2024 and discover how these trends are revolutionizing workplaces worldwide.\"}, {\"title\": \"What 2024 Taught Us About AI: Innovations and 2025 Trends\", \"url\": \"https://www.allaboutai.com/resources/what-2024-taught-us-about-ai/\", \"snippet\": \"According to AI replacing jobs statistics, reports indicated that 40% of jobs globally were influenced by AI in 2024, with sectors like finance seeing significant automation. Yet, AI also created roles focused on managing, training, and integrating these systems. ... Top 10 AI Trends in 2024. AI evolved rapidly in 2024, with Top 10 AI trends ...\"}, {\"title\": \"Future of Work Report 2024: AI Will Take Jobs, Make Jobs, and ... - Indeed\", \"url\": \"https://www.indeed.com/career-advice/news/future-of-work-report-2024\", \"snippet\": \"According to Indeed\\'s 2024 Global Future of Work Report, over 7 in 10 U.S. job seekers (75%) expect their roles to shift in 5 years as more technology is introduced in the workplace, with 30% foreseeing a \\\\\"significant\\\\\" change in the skills needed for their current role.\"}, {\"title\": \"AI Job Trends 2024: Machine Learning Growth, Top States, and Remote Roles\", \"url\": \"https://blog.getaura.ai/ai-job-trends-for-july-2024-spotting-growth-markets-for-artificial-intelligence\", \"snippet\": \"AI Job Trends 2024: Emerging Roles and U.S. Hiring Hotspots This month, we focus on AI job trends in the United States, offering a comprehensive analysis of job postings by state, industry-specific insights, and the growth of remote AI jobs.\"}, {\"title\": \"2024 Tech Market Trends | AI Jobs and Economic Shifts\", \"url\": \"https://www.profocustechnology.com/general/tech-employment-2024-market-trends-report/\", \"snippet\": \"AI Job Growth and Emerging Trends Artificial intelligence continues to dominate tech job openings, with a notable 5.6% rise in AI vacancies from Q1 to Q2 of 2024. This marks a 31.5% increase compared to 2023. The median salary for AI roles reached $157,196 in Q2 2024, showcasing the high demand for specialized skills in this sector.\"}]', summary='Validate t', raw='valid', pydantic=None, json_dict=None, agent='DataCollector', output_format='RAW')}}"
            ]
          },
          "execution_count": 15,
          "metadata": {},
          "output_type": "execute_result"
        }
      ],
      "source": [
        "from praisonaiagents import Agent, Task, PraisonAIAgents\n",
        "from typing import List, Dict\n",
        "from duckduckgo_search import DDGS\n",
        "\n",
        "# 1. Tool\n",
        "def internet_search_tool(query: str) -> List[Dict]:\n",
        "    \"\"\"\n",
        "    Perform a search using DuckDuckGo.\n",
        "\n",
        "    Args:\n",
        "        query (str): The search query.\n",
        "\n",
        "    Returns:\n",
        "        list: A list of search result titles, URLs, and snippets.\n",
        "    \"\"\"\n",
        "    try:\n",
        "        results = []\n",
        "        ddgs = DDGS()\n",
        "        for result in ddgs.text(keywords=query, max_results=10):\n",
        "            results.append({\n",
        "                \"title\": result.get(\"title\", \"\"),\n",
        "                \"url\": result.get(\"href\", \"\"),\n",
        "                \"snippet\": result.get(\"body\", \"\")\n",
        "            })\n",
        "        return results\n",
        "\n",
        "    except Exception as e:\n",
        "        print(f\"Error during DuckDuckGo search: {e}\")\n",
        "        return []\n",
        "\n",
        "# 2. Agent\n",
        "data_agent = Agent(\n",
        "    name=\"DataCollector\",\n",
        "    role=\"Search Specialist\",\n",
        "    goal=\"Perform internet searches to collect relevant information.\",\n",
        "    backstory=\"Expert in finding and organising internet data.\",\n",
        "    tools=[internet_search_tool],\n",
        "    self_reflect=False\n",
        ")\n",
        "\n",
        "# 3. Tasks\n",
        "collect_task = Task(\n",
        "    description=\"Perform an internet search using the query: 'AI job trends in 2024'. Return results as a list of title, URL, and snippet.\",\n",
        "    expected_output=\"List of search results with titles, URLs, and snippets.\",\n",
        "    agent=data_agent,\n",
        "    name=\"collect_data\",\n",
        "    is_start=True,\n",
        "    next_tasks=[\"validate_data\"]\n",
        ")\n",
        "\n",
        "validate_task = Task(\n",
        "    description=\"\"\"Validate the collected data. Check if:\n",
        "    1. At least 5 results are returned.\n",
        "    2. Each result contains a title and a URL.\n",
        "    Return validation_result as 'valid' or 'invalid' only no other text.\"\"\",\n",
        "    expected_output=\"Validation result indicating if data is valid or invalid.\",\n",
        "    agent=data_agent,\n",
        "    name=\"validate_data\",\n",
        "    task_type=\"decision\",\n",
        "    condition={\n",
        "        \"valid\": [exit],  # End the workflow on valid data\n",
        "        \"invalid\": [\"collect_data\"]  # Retry data collection on invalid data\n",
        "    },\n",
        ")\n",
        "\n",
        "# 4. Workflow\n",
        "agents = PraisonAIAgents(\n",
        "    agents=[data_agent],\n",
        "    tasks=[collect_task, validate_task],\n",
        "    verbose=1,\n",
        "    process=\"workflow\"\n",
        ")\n",
        "\n",
        "agents.start()"
      ]
    }
  ],
  "metadata": {
    "colab": {
      "authorship_tag": "ABX9TyMR+5A4KLgN7OHAcJmtC4xO",
      "include_colab_link": true,
      "provenance": []
    },
    "kernelspec": {
      "display_name": "Python 3",
      "name": "python3"
    },
    "language_info": {
      "name": "python"
    },
    "widgets": {
      "application/vnd.jupyter.widget-state+json": {
        "06d78ff494b446199c3e7b5f9f6ba2a0": {
          "model_module": "@jupyter-widgets/base",
          "model_module_version": "1.2.0",
          "model_name": "LayoutModel",
          "state": {
            "_model_module": "@jupyter-widgets/base",
            "_model_module_version": "1.2.0",
            "_model_name": "LayoutModel",
            "_view_count": null,
            "_view_module": "@jupyter-widgets/base",
            "_view_module_version": "1.2.0",
            "_view_name": "LayoutView",
            "align_content": null,
            "align_items": null,
            "align_self": null,
            "border": null,
            "bottom": null,
            "display": null,
            "flex": null,
            "flex_flow": null,
            "grid_area": null,
            "grid_auto_columns": null,
            "grid_auto_flow": null,
            "grid_auto_rows": null,
            "grid_column": null,
            "grid_gap": null,
            "grid_row": null,
            "grid_template_areas": null,
            "grid_template_columns": null,
            "grid_template_rows": null,
            "height": null,
            "justify_content": null,
            "justify_items": null,
            "left": null,
            "margin": null,
            "max_height": null,
            "max_width": null,
            "min_height": null,
            "min_width": null,
            "object_fit": null,
            "object_position": null,
            "order": null,
            "overflow": null,
            "overflow_x": null,
            "overflow_y": null,
            "padding": null,
            "right": null,
            "top": null,
            "visibility": null,
            "width": null
          }
        },
        "2271f95e84664f2ea1ec5637cefbc1f5": {
          "model_module": "@jupyter-widgets/output",
          "model_module_version": "1.0.0",
          "model_name": "OutputModel",
          "state": {
            "_dom_classes": [],
            "_model_module": "@jupyter-widgets/output",
            "_model_module_version": "1.0.0",
            "_model_name": "OutputModel",
            "_view_count": null,
            "_view_module": "@jupyter-widgets/output",
            "_view_module_version": "1.0.0",
            "_view_name": "OutputView",
            "layout": "IPY_MODEL_8c09a394dbfc4ab981db392042f88c21",
            "msg_id": "",
            "outputs": [
              {
                "data": {
                  "text/html": "<pre style=\"white-space:pre;overflow-x:auto;line-height:normal;font-family:Menlo,'DejaVu Sans Mono',consolas,'Courier New',monospace\"><span style=\"color: #008000; text-decoration-color: #008000\">╭─────────────────────────────────────────────────────────────────────────────────────────────────────────────────╮</span>\n<span style=\"color: #008000; text-decoration-color: #008000\">│</span>                                                                                                                 <span style=\"color: #008000; text-decoration-color: #008000\">│</span>\n<span style=\"color: #008000; text-decoration-color: #008000\">╰─────────────────────────────────────────────────────────────────────────────────────────────────────────────────╯</span>\n</pre>\n",
                  "text/plain": "\u001b[32m╭─────────────────────────────────────────────────────────────────────────────────────────────────────────────────╮\u001b[0m\n\u001b[32m│\u001b[0m                                                                                                                 \u001b[32m│\u001b[0m\n\u001b[32m╰─────────────────────────────────────────────────────────────────────────────────────────────────────────────────╯\u001b[0m\n"
                },
                "metadata": {},
                "output_type": "display_data"
              }
            ]
          }
        },
        "8c09a394dbfc4ab981db392042f88c21": {
          "model_module": "@jupyter-widgets/base",
          "model_module_version": "1.2.0",
          "model_name": "LayoutModel",
          "state": {
            "_model_module": "@jupyter-widgets/base",
            "_model_module_version": "1.2.0",
            "_model_name": "LayoutModel",
            "_view_count": null,
            "_view_module": "@jupyter-widgets/base",
            "_view_module_version": "1.2.0",
            "_view_name": "LayoutView",
            "align_content": null,
            "align_items": null,
            "align_self": null,
            "border": null,
            "bottom": null,
            "display": null,
            "flex": null,
            "flex_flow": null,
            "grid_area": null,
            "grid_auto_columns": null,
            "grid_auto_flow": null,
            "grid_auto_rows": null,
            "grid_column": null,
            "grid_gap": null,
            "grid_row": null,
            "grid_template_areas": null,
            "grid_template_columns": null,
            "grid_template_rows": null,
            "height": null,
            "justify_content": null,
            "justify_items": null,
            "left": null,
            "margin": null,
            "max_height": null,
            "max_width": null,
            "min_height": null,
            "min_width": null,
            "object_fit": null,
            "object_position": null,
            "order": null,
            "overflow": null,
            "overflow_x": null,
            "overflow_y": null,
            "padding": null,
            "right": null,
            "top": null,
            "visibility": null,
            "width": null
          }
        },
        "d36929a133a042deba8b4f167d91fca8": {
          "model_module": "@jupyter-widgets/output",
          "model_module_version": "1.0.0",
          "model_name": "OutputModel",
          "state": {
            "_dom_classes": [],
            "_model_module": "@jupyter-widgets/output",
            "_model_module_version": "1.0.0",
            "_model_name": "OutputModel",
            "_view_count": null,
            "_view_module": "@jupyter-widgets/output",
            "_view_module_version": "1.0.0",
            "_view_name": "OutputView",
            "layout": "IPY_MODEL_06d78ff494b446199c3e7b5f9f6ba2a0",
            "msg_id": "",
            "outputs": [
              {
                "data": {
                  "text/html": "<pre style=\"white-space:pre;overflow-x:auto;line-height:normal;font-family:Menlo,'DejaVu Sans Mono',consolas,'Courier New',monospace\"><span style=\"color: #008000; text-decoration-color: #008000\">╭────────────────────────────────────────────── Generating... 8.8s ───────────────────────────────────────────────╮</span>\n<span style=\"color: #008000; text-decoration-color: #008000\">│</span> [{\"title\": \"AI in 2024: Five trends workers need to know - BBC\", \"url\":                                         <span style=\"color: #008000; text-decoration-color: #008000\">│</span>\n<span style=\"color: #008000; text-decoration-color: #008000\">│</span> \"https://www.bbc.com/worklife/article/20240104-ai-in-2024-five-trends-workers-need-to-know\", \"snippet\": \"A 2023 <span style=\"color: #008000; text-decoration-color: #008000\">│</span>\n<span style=\"color: #008000; text-decoration-color: #008000\">│</span> survey conducted by Jobs for the Future's Center for Artificial Intelligence &amp; the Future of Work (JFF) showed  <span style=\"color: #008000; text-decoration-color: #008000\">│</span>\n<span style=\"color: #008000; text-decoration-color: #008000\">│</span> the majority of respondents believe they will need new skills to compete in an ...\"}, {\"title\": \"AI Replacing   <span style=\"color: #008000; text-decoration-color: #008000\">│</span>\n<span style=\"color: #008000; text-decoration-color: #008000\">│</span> Jobs Statistics: Key Insights and Trends for 2024\", \"url\":                                                      <span style=\"color: #008000; text-decoration-color: #008000\">│</span>\n<span style=\"color: #008000; text-decoration-color: #008000\">│</span> \"https://www.allaboutai.com/resources/ai-replacing-jobs-statistics/\", \"snippet\": \"AI Could Displace 300 Million <span style=\"color: #008000; text-decoration-color: #008000\">│</span>\n<span style=\"color: #008000; text-decoration-color: #008000\">│</span> Jobs Globally by 2030. Artificial Intelligence has the potential to displace up to 300 million jobs worldwide   <span style=\"color: #008000; text-decoration-color: #008000\">│</span>\n<span style=\"color: #008000; text-decoration-color: #008000\">│</span> by 2030, raising concerns about employment and the need for workforce adaptation. ... AllAbout.com Trends and   <span style=\"color: #008000; text-decoration-color: #008000\">│</span>\n<span style=\"color: #008000; text-decoration-color: #008000\">│</span> Predictions in 2024 and 2030. As we look toward 2024 and 2030, I see AI shaping our careers in ...\"}, {\"title\": <span style=\"color: #008000; text-decoration-color: #008000\">│</span>\n<span style=\"color: #008000; text-decoration-color: #008000\">│</span> \"3 AI Trends That Will Impact Your Job In 2024 - Forbes\", \"url\":                                                <span style=\"color: #008000; text-decoration-color: #008000\">│</span>\n<span style=\"color: #008000; text-decoration-color: #008000\">│</span> \"https://www.forbes.com/sites/rachelwells/2024/09/11/ai-trends-that-will-impact-your-job/\", \"snippet\": \"AI is   <span style=\"color: #008000; text-decoration-color: #008000\">│</span>\n<span style=\"color: #008000; text-decoration-color: #008000\">│</span> creating new job categories and job titles. getty 2. AI Actually Does Boost The Job Market. The second insight  <span style=\"color: #008000; text-decoration-color: #008000\">│</span>\n<span style=\"color: #008000; text-decoration-color: #008000\">│</span> which is quite eye-opening, reveals that many workers and employers express an ...\"}, {\"title\": \"Top 10 AI      <span style=\"color: #008000; text-decoration-color: #008000\">│</span>\n<span style=\"color: #008000; text-decoration-color: #008000\">│</span> Trends of 2024\", \"url\": \"https://aimagazine.com/articles/top-10-ai-trends-of-2024\", \"snippet\": \"In light of     <span style=\"color: #008000; text-decoration-color: #008000\">│</span>\n<span style=\"color: #008000; text-decoration-color: #008000\">│</span> this, AI Magazine presents a comprehensive list of the top 10 AI trends of 2024 to understand the AI            <span style=\"color: #008000; text-decoration-color: #008000\">│</span>\n<span style=\"color: #008000; text-decoration-color: #008000\">│</span> developments of this year and gain a glimpse of what could be in store for 2025. 10. AI governance and ethics   <span style=\"color: #008000; text-decoration-color: #008000\">│</span>\n<span style=\"color: #008000; text-decoration-color: #008000\">│</span> ... This dramatic shift in the job market has led to a significant skills shortage, with the International Data <span style=\"color: #008000; text-decoration-color: #008000\">│</span>\n<span style=\"color: #008000; text-decoration-color: #008000\">│</span> Corporation ...\"}, {\"title\": \"131 AI Statistics and Trends for (2024) - National University\", \"url\":            <span style=\"color: #008000; text-decoration-color: #008000\">│</span>\n<span style=\"color: #008000; text-decoration-color: #008000\">│</span> \"https://www.nu.edu/blog/ai-statistics-trends/\", \"snippet\": \"In this comprehensive exploration, we delve into   <span style=\"color: #008000; text-decoration-color: #008000\">│</span>\n<span style=\"color: #008000; text-decoration-color: #008000\">│</span> 131 AI Statistics and Trends (2024), offering a panoramic view of AI's integration into businesses, its         <span style=\"color: #008000; text-decoration-color: #008000\">│</span>\n<span style=\"color: #008000; text-decoration-color: #008000\">│</span> demographic reach, the burgeoning AI job market, educational initiatives, business owner perspectives, consumer <span style=\"color: #008000; text-decoration-color: #008000\">│</span>\n<span style=\"color: #008000; text-decoration-color: #008000\">│</span> usage, trust issues, and regulatory discussions.\"}, {\"title\": \"60+ AI Statistics in Workplace: 2024 Trends and  <span style=\"color: #008000; text-decoration-color: #008000\">│</span>\n<span style=\"color: #008000; text-decoration-color: #008000\">│</span> Predictions - All About AI\", \"url\": \"https://www.allaboutai.com/resources/ai-statistics/workplace/\", \"snippet\": <span style=\"color: #008000; text-decoration-color: #008000\">│</span>\n<span style=\"color: #008000; text-decoration-color: #008000\">│</span> \"(AI statistics 2024) From saving money and boosting productivity to making smarter decisions and redefining    <span style=\"color: #008000; text-decoration-color: #008000\">│</span>\n<span style=\"color: #008000; text-decoration-color: #008000\">│</span> job roles, AI is making waves across different industries. Explore our comprehensive breakdown of the most      <span style=\"color: #008000; text-decoration-color: #008000\">│</span>\n<span style=\"color: #008000; text-decoration-color: #008000\">│</span> impactful AI statistics in 2024 and discover how these trends are revolutionizing workplaces worldwide.\"},      <span style=\"color: #008000; text-decoration-color: #008000\">│</span>\n<span style=\"color: #008000; text-decoration-color: #008000\">│</span> {\"title\": \"What 2024 Taught Us About AI: Innovations and 2025 Trends\", \"url\":                                   <span style=\"color: #008000; text-decoration-color: #008000\">│</span>\n<span style=\"color: #008000; text-decoration-color: #008000\">│</span> \"https://www.allaboutai.com/resources/what-2024-taught-us-about-ai/\", \"snippet\": \"According to AI replacing     <span style=\"color: #008000; text-decoration-color: #008000\">│</span>\n<span style=\"color: #008000; text-decoration-color: #008000\">│</span> jobs statistics, reports indicated that 40% of jobs globally were influenced by AI in 2024, with sectors like   <span style=\"color: #008000; text-decoration-color: #008000\">│</span>\n<span style=\"color: #008000; text-decoration-color: #008000\">│</span> finance seeing significant automation. Yet, AI also created roles focused on managing, training, and            <span style=\"color: #008000; text-decoration-color: #008000\">│</span>\n<span style=\"color: #008000; text-decoration-color: #008000\">│</span> integrating these systems. ... Top 10 AI Trends in 2024. AI evolved rapidly in 2024, with Top 10 AI trends      <span style=\"color: #008000; text-decoration-color: #008000\">│</span>\n<span style=\"color: #008000; text-decoration-color: #008000\">│</span> ...\"}, {\"title\": \"Future of Work Report 2024: AI Will Take Jobs, Make Jobs, and ... - Indeed\", \"url\":           <span style=\"color: #008000; text-decoration-color: #008000\">│</span>\n<span style=\"color: #008000; text-decoration-color: #008000\">│</span> \"https://www.indeed.com/career-advice/news/future-of-work-report-2024\", \"snippet\": \"According to Indeed's 2024  <span style=\"color: #008000; text-decoration-color: #008000\">│</span>\n<span style=\"color: #008000; text-decoration-color: #008000\">│</span> Global Future of Work Report, over 7 in 10 U.S. job seekers (75%) expect their roles to shift in 5 years as     <span style=\"color: #008000; text-decoration-color: #008000\">│</span>\n<span style=\"color: #008000; text-decoration-color: #008000\">│</span> more technology is introduced in the workplace, with 30% foreseeing a \"significant\" change in the skills needed <span style=\"color: #008000; text-decoration-color: #008000\">│</span>\n<span style=\"color: #008000; text-decoration-color: #008000\">│</span> for their current role.\"}, {\"title\": \"AI Job Trends 2024: Machine Learning Growth, Top States, and Remote       <span style=\"color: #008000; text-decoration-color: #008000\">│</span>\n<span style=\"color: #008000; text-decoration-color: #008000\">│</span> Roles\", \"url\":                                                                                                  <span style=\"color: #008000; text-decoration-color: #008000\">│</span>\n<span style=\"color: #008000; text-decoration-color: #008000\">│</span> \"https://blog.getaura.ai/ai-job-trends-for-july-2024-spotting-growth-markets-for-artificial-intelligence\",      <span style=\"color: #008000; text-decoration-color: #008000\">│</span>\n<span style=\"color: #008000; text-decoration-color: #008000\">│</span> \"snippet\": \"AI Job Trends 2024: Emerging Roles and U.S. Hiring Hotspots This month, we focus on AI job trends   <span style=\"color: #008000; text-decoration-color: #008000\">│</span>\n<span style=\"color: #008000; text-decoration-color: #008000\">│</span> in the United States, offering a comprehensive analysis of job postings by state, industry-specific insights,   <span style=\"color: #008000; text-decoration-color: #008000\">│</span>\n<span style=\"color: #008000; text-decoration-color: #008000\">│</span> and the growth of remote AI jobs.\"}, {\"title\": \"2024 Tech Market Trends | AI Jobs and Economic Shifts\", \"url\":  <span style=\"color: #008000; text-decoration-color: #008000\">│</span>\n<span style=\"color: #008000; text-decoration-color: #008000\">│</span> \"https://www.profocustechnology.com/general/tech-employment-2024-market-trends-report/\", \"snippet\": \"AI Job     <span style=\"color: #008000; text-decoration-color: #008000\">│</span>\n<span style=\"color: #008000; text-decoration-color: #008000\">│</span> Growth and Emerging Trends Artificial intelligence continues to dominate tech job openings, with a notable 5.6% <span style=\"color: #008000; text-decoration-color: #008000\">│</span>\n<span style=\"color: #008000; text-decoration-color: #008000\">│</span> rise in AI vacancies from Q1 to Q2 of 2024. This marks a 31.5% increase compared to 2023. The median salary for <span style=\"color: #008000; text-decoration-color: #008000\">│</span>\n<span style=\"color: #008000; text-decoration-color: #008000\">│</span> AI roles reached $157,196 in Q2 2024, showcasing the high demand for specialized skills in this                 <span style=\"color: #008000; text-decoration-color: #008000\">│</span>\n<span style=\"color: #008000; text-decoration-color: #008000\">╰─────────────────────────────────────────────────────────────────────────────────────────────────────────────────╯</span>\n</pre>\n",
                  "text/plain": "\u001b[32m╭─\u001b[0m\u001b[32m─────────────────────────────────────────────\u001b[0m\u001b[32m Generating... 8.8s \u001b[0m\u001b[32m──────────────────────────────────────────────\u001b[0m\u001b[32m─╮\u001b[0m\n\u001b[32m│\u001b[0m [{\"title\": \"AI in 2024: Five trends workers need to know - BBC\", \"url\":                                         \u001b[32m│\u001b[0m\n\u001b[32m│\u001b[0m \"https://www.bbc.com/worklife/article/20240104-ai-in-2024-five-trends-workers-need-to-know\", \"snippet\": \"A 2023 \u001b[32m│\u001b[0m\n\u001b[32m│\u001b[0m survey conducted by Jobs for the Future's Center for Artificial Intelligence & the Future of Work (JFF) showed  \u001b[32m│\u001b[0m\n\u001b[32m│\u001b[0m the majority of respondents believe they will need new skills to compete in an ...\"}, {\"title\": \"AI Replacing   \u001b[32m│\u001b[0m\n\u001b[32m│\u001b[0m Jobs Statistics: Key Insights and Trends for 2024\", \"url\":                                                      \u001b[32m│\u001b[0m\n\u001b[32m│\u001b[0m \"https://www.allaboutai.com/resources/ai-replacing-jobs-statistics/\", \"snippet\": \"AI Could Displace 300 Million \u001b[32m│\u001b[0m\n\u001b[32m│\u001b[0m Jobs Globally by 2030. Artificial Intelligence has the potential to displace up to 300 million jobs worldwide   \u001b[32m│\u001b[0m\n\u001b[32m│\u001b[0m by 2030, raising concerns about employment and the need for workforce adaptation. ... AllAbout.com Trends and   \u001b[32m│\u001b[0m\n\u001b[32m│\u001b[0m Predictions in 2024 and 2030. As we look toward 2024 and 2030, I see AI shaping our careers in ...\"}, {\"title\": \u001b[32m│\u001b[0m\n\u001b[32m│\u001b[0m \"3 AI Trends That Will Impact Your Job In 2024 - Forbes\", \"url\":                                                \u001b[32m│\u001b[0m\n\u001b[32m│\u001b[0m \"https://www.forbes.com/sites/rachelwells/2024/09/11/ai-trends-that-will-impact-your-job/\", \"snippet\": \"AI is   \u001b[32m│\u001b[0m\n\u001b[32m│\u001b[0m creating new job categories and job titles. getty 2. AI Actually Does Boost The Job Market. The second insight  \u001b[32m│\u001b[0m\n\u001b[32m│\u001b[0m which is quite eye-opening, reveals that many workers and employers express an ...\"}, {\"title\": \"Top 10 AI      \u001b[32m│\u001b[0m\n\u001b[32m│\u001b[0m Trends of 2024\", \"url\": \"https://aimagazine.com/articles/top-10-ai-trends-of-2024\", \"snippet\": \"In light of     \u001b[32m│\u001b[0m\n\u001b[32m│\u001b[0m this, AI Magazine presents a comprehensive list of the top 10 AI trends of 2024 to understand the AI            \u001b[32m│\u001b[0m\n\u001b[32m│\u001b[0m developments of this year and gain a glimpse of what could be in store for 2025. 10. AI governance and ethics   \u001b[32m│\u001b[0m\n\u001b[32m│\u001b[0m ... This dramatic shift in the job market has led to a significant skills shortage, with the International Data \u001b[32m│\u001b[0m\n\u001b[32m│\u001b[0m Corporation ...\"}, {\"title\": \"131 AI Statistics and Trends for (2024) - National University\", \"url\":            \u001b[32m│\u001b[0m\n\u001b[32m│\u001b[0m \"https://www.nu.edu/blog/ai-statistics-trends/\", \"snippet\": \"In this comprehensive exploration, we delve into   \u001b[32m│\u001b[0m\n\u001b[32m│\u001b[0m 131 AI Statistics and Trends (2024), offering a panoramic view of AI's integration into businesses, its         \u001b[32m│\u001b[0m\n\u001b[32m│\u001b[0m demographic reach, the burgeoning AI job market, educational initiatives, business owner perspectives, consumer \u001b[32m│\u001b[0m\n\u001b[32m│\u001b[0m usage, trust issues, and regulatory discussions.\"}, {\"title\": \"60+ AI Statistics in Workplace: 2024 Trends and  \u001b[32m│\u001b[0m\n\u001b[32m│\u001b[0m Predictions - All About AI\", \"url\": \"https://www.allaboutai.com/resources/ai-statistics/workplace/\", \"snippet\": \u001b[32m│\u001b[0m\n\u001b[32m│\u001b[0m \"(AI statistics 2024) From saving money and boosting productivity to making smarter decisions and redefining    \u001b[32m│\u001b[0m\n\u001b[32m│\u001b[0m job roles, AI is making waves across different industries. Explore our comprehensive breakdown of the most      \u001b[32m│\u001b[0m\n\u001b[32m│\u001b[0m impactful AI statistics in 2024 and discover how these trends are revolutionizing workplaces worldwide.\"},      \u001b[32m│\u001b[0m\n\u001b[32m│\u001b[0m {\"title\": \"What 2024 Taught Us About AI: Innovations and 2025 Trends\", \"url\":                                   \u001b[32m│\u001b[0m\n\u001b[32m│\u001b[0m \"https://www.allaboutai.com/resources/what-2024-taught-us-about-ai/\", \"snippet\": \"According to AI replacing     \u001b[32m│\u001b[0m\n\u001b[32m│\u001b[0m jobs statistics, reports indicated that 40% of jobs globally were influenced by AI in 2024, with sectors like   \u001b[32m│\u001b[0m\n\u001b[32m│\u001b[0m finance seeing significant automation. Yet, AI also created roles focused on managing, training, and            \u001b[32m│\u001b[0m\n\u001b[32m│\u001b[0m integrating these systems. ... Top 10 AI Trends in 2024. AI evolved rapidly in 2024, with Top 10 AI trends      \u001b[32m│\u001b[0m\n\u001b[32m│\u001b[0m ...\"}, {\"title\": \"Future of Work Report 2024: AI Will Take Jobs, Make Jobs, and ... - Indeed\", \"url\":           \u001b[32m│\u001b[0m\n\u001b[32m│\u001b[0m \"https://www.indeed.com/career-advice/news/future-of-work-report-2024\", \"snippet\": \"According to Indeed's 2024  \u001b[32m│\u001b[0m\n\u001b[32m│\u001b[0m Global Future of Work Report, over 7 in 10 U.S. job seekers (75%) expect their roles to shift in 5 years as     \u001b[32m│\u001b[0m\n\u001b[32m│\u001b[0m more technology is introduced in the workplace, with 30% foreseeing a \"significant\" change in the skills needed \u001b[32m│\u001b[0m\n\u001b[32m│\u001b[0m for their current role.\"}, {\"title\": \"AI Job Trends 2024: Machine Learning Growth, Top States, and Remote       \u001b[32m│\u001b[0m\n\u001b[32m│\u001b[0m Roles\", \"url\":                                                                                                  \u001b[32m│\u001b[0m\n\u001b[32m│\u001b[0m \"https://blog.getaura.ai/ai-job-trends-for-july-2024-spotting-growth-markets-for-artificial-intelligence\",      \u001b[32m│\u001b[0m\n\u001b[32m│\u001b[0m \"snippet\": \"AI Job Trends 2024: Emerging Roles and U.S. Hiring Hotspots This month, we focus on AI job trends   \u001b[32m│\u001b[0m\n\u001b[32m│\u001b[0m in the United States, offering a comprehensive analysis of job postings by state, industry-specific insights,   \u001b[32m│\u001b[0m\n\u001b[32m│\u001b[0m and the growth of remote AI jobs.\"}, {\"title\": \"2024 Tech Market Trends | AI Jobs and Economic Shifts\", \"url\":  \u001b[32m│\u001b[0m\n\u001b[32m│\u001b[0m \"https://www.profocustechnology.com/general/tech-employment-2024-market-trends-report/\", \"snippet\": \"AI Job     \u001b[32m│\u001b[0m\n\u001b[32m│\u001b[0m Growth and Emerging Trends Artificial intelligence continues to dominate tech job openings, with a notable 5.6% \u001b[32m│\u001b[0m\n\u001b[32m│\u001b[0m rise in AI vacancies from Q1 to Q2 of 2024. This marks a 31.5% increase compared to 2023. The median salary for \u001b[32m│\u001b[0m\n\u001b[32m│\u001b[0m AI roles reached $157,196 in Q2 2024, showcasing the high demand for specialized skills in this                 \u001b[32m│\u001b[0m\n\u001b[32m╰─────────────────────────────────────────────────────────────────────────────────────────────────────────────────╯\u001b[0m\n"
                },
                "metadata": {},
                "output_type": "display_data"
              }
            ]
          }
        }
      }
    }
  },
  "nbformat": 4,
  "nbformat_minor": 0
}
