{
  "cells": [
    {
      "cell_type": "markdown",
      "metadata": {
        "colab_type": "text",
        "id": "view-in-github"
      },
      "source": [
        "<a href=\"https://github.com/amjadraza/ai-agents-collection/blob/main/Langgraph/langgraph_weather_agent.ipynb\" target=\"_parent\"><img src=\"https://colab.research.google.com/assets/colab-badge.svg\" alt=\"Open In Colab\"/></a>"
      ]
    },
    {
      "cell_type": "code",
      "execution_count": 3,
      "metadata": {
        "id": "cAUz74g1PBqw"
      },
      "outputs": [],
      "source": [
        "%pip install -qU langchain langchain-community langchain_tools tavily-python langgraph langchain_groq"
      ]
    },
    {
      "cell_type": "code",
      "execution_count": 4,
      "metadata": {
        "id": "GUkJ7qhkPpNG"
      },
      "outputs": [],
      "source": [
        "import os\n",
        "from google.colab import userdata\n",
        "os.environ['GROQ_API_KEY'] = userdata.get('GROQ_API_KEY')\n",
        "os.environ['TAVILY_API_KEY'] = userdata.get('TAVILY_API_KEY')"
      ]
    },
    {
      "cell_type": "code",
      "execution_count": 5,
      "metadata": {
        "id": "KJnlentGQKu1"
      },
      "outputs": [],
      "source": [
        "# Importing ChatGroq for using a specific language model\n",
        "from langchain_groq import ChatGroq\n",
        "llm=ChatGroq(model=\"llama-3.3-70b-versatile\")"
      ]
    },
    {
      "cell_type": "code",
      "execution_count": 7,
      "metadata": {
        "id": "_bVpsp7dQ2EW"
      },
      "outputs": [],
      "source": [
        "from langchain_community.tools.tavily_search.tool import TavilySearchResults\n",
        "tavily_search_tool = TavilySearchResults(\n",
        "    max_results=5,\n",
        "    include_answer=True,\n",
        "    include_raw_content=True,\n",
        "    include_images=True,\n",
        "    # search_depth=\"advanced\",\n",
        "    # include_domains = []\n",
        "    # exclude_domains = []\n",
        ")\n",
        "\n",
        "\n",
        "tools = [tavily_search_tool]"
      ]
    },
    {
      "cell_type": "code",
      "execution_count": 8,
      "metadata": {
        "colab": {
          "base_uri": "https://localhost:8080/"
        },
        "id": "va4IiBa0RHv-",
        "outputId": "ffe8479b-ffff-4811-b7de-e9df84a53c19"
      },
      "outputs": [
        {
          "data": {
            "text/plain": [
              "[{'url': 'https://apnews.com/',\n",
              "  'content': '[![Image 3: Image](https://dims.apnews.com/dims4/default/dbbfca1/2147483647/strip/true/crop/2949x1964+0+368/resize/599x399!/quality/90/?url=https%3A%2F%2Fassets.apnews.com%2Fe8%2F0a%2Fc377af5f961e0128e91ba2d36dc4%2F4f91966abf024d799157d474fdbd0aea)](https://apnews.com/article/trump-trolling-canada-jill-biden-trudeau-39ecae6554c7b4350e6a106354672eb4) [![Image 4: Image](https://dims.apnews.com/dims4/default/78686e1/2147483647/strip/true/crop/6000x3997+0+2/resize/599x399!/quality/90/?url=https%3A%2F%2Fassets.apnews.com%2F55%2F26%2F09fa12ce1edbded24a1bdefc4a51%2Fa2601074f03248cdab2d041f3a626cbc)](https://apnews.com/article/syria-israel-airstrike-assad-war-b90edb8dbe8268dacf90e59ca601e2e3) [![Image 5: Image](https://dims.apnews.com/dims4/default/e588d90/2147483647/strip/true/crop/4032x2686+0+169/resize/599x399!/quality/90/?url=https%3A%2F%2Fassets.apnews.com%2Ff9%2F96%2F15aa6e41881b7ae9693c3f7edb87%2Fa95369e50d864a3dbca1a33f28f6dbe1)](https://apnews.com/article/migrant-health-care-dreamers-lawsuit-504c8f05b3d93538cb7292318c267441) [![Image 6: Image](https://dims.apnews.com/dims4/default/f49d8f1/2147483647/strip/true/crop/5301x3531+0+2/resize/599x399!/quality/90/?url=https%3A%2F%2Fassets.apnews.com%2F4b%2Fd0%2Fd9c6f22eb322668f8259364deee8%2Fbffc615f4ead41809a2b3a78d29bd8eb)](https://apnews.com/article/monarch-butterflies-endangered-species-climate-habitat-f5d4844289ede7b3d76918cc6f98a5cc) [![Image 12: Image](https://dims.apnews.com/dims4/default/dec17c1/2147483647/strip/true/crop/3000x1998+0+1/resize/599x399!/quality/90/?url=https%3A%2F%2Fassets.apnews.com%2F94%2F6d%2F5f84a76d9f279a512cd56e998989%2F0ec3c08087484de1816a01e9c9c2ffb0)](https://apnews.com/article/wildfire-malibu-evacuation-pepperdine-university-ef9f6ea11815be64feaf2e5e5eb7588c) [![Image 13: Image](https://dims.apnews.com/dims4/default/b5cf736/2147483647/strip/true/crop/8640x5755+0+2/resize/599x399!/quality/90/?url=https%3A%2F%2Fassets.apnews.com%2F06%2Fc3%2Fd6f2099324fea0bd0493f0c92c37%2F4178cf4001c4494898732f464b5bbf27)](https://apnews.com/article/biden-trump-economy-stupid-jobs-inflation-cde78b58c6b4ccbcb7ce237f741e06a6) [![Image 14: Image](https://dims.apnews.com/dims4/default/259b976/2147483647/strip/true/crop/3000x2000+0+0/resize/567x378!/quality/90/?url=https%3A%2F%2Fassets.apnews.com%2Fa2%2Ff4%2F0ceaf87a1d3c3410b4cba722aaef%2Fe3ff477aa750430e8fea9fe137e61dc3)](https://apnews.com/article/christopher-nolan-interstellar-rerelease-interview-bd7f4de84525062fb0d0e89a7fe6ea92) [![Image 15: Image](https://dims.apnews.com/dims4/default/61ffd0e/2147483647/strip/true/crop/4740x3157+0+1/resize/599x399!/quality/90/?url=https%3A%2F%2Fassets.apnews.com%2F0b%2Fc7%2Fcd3aa4ad63e7850000a45462a828%2F2d899e6be47b450587a7f40fad9e2e1c)](https://apnews.com/article/south-africa-car-road-crash-accident-2f063819764ae42cd4c8ffd5c76e4c6d) [![Image 18: Image](https://dims.apnews.com/dims4/default/9fdd823/2147483647/strip/true/crop/2300x1532+0+1/resize/599x399!/quality/90/?url=https%3A%2F%2Fassets.apnews.com%2Fc0%2F26%2F15202742a43c06c94c553c2008d9%2F9a08766502ac4a7ca356980292b406ba)](https://apnews.com/article/scrim-new-orleans-fugitive-dog-6fdddcb2cb694981f50f4c25ecfab655) [![Image 20: Image](https://dims.apnews.com/dims4/default/24d5169/2147483647/strip/true/crop/4667x3109+0+1/resize/599x399!/quality/90/?url=https%3A%2F%2Fassets.apnews.com%2Fd0%2Ff2%2F38f75b20e51bb3f3840e1386eb93%2F568053ca409f4c4db5a00c4868fbf7e5)](https://apnews.com/associated-press-100-photos-of-2024-an-epic-catalog-of-humanity) [![Image 21: Image](https://dims.apnews.com/dims4/default/0f779f2/2147483647/strip/true/crop/5819x3876+0+1/resize/599x399!/quality/90/?url=https%3A%2F%2Fassets.apnews.com%2Ffb%2F33%2F4cf11414c7dc0669cad5790c54c9%2Fccf3d40bbfe64a268dae81b2f9b31731)](https://apnews.com/world-news/general-news-1637ffe66255f7048734759ec6bd99e9) [![Image 22: Image](https://dims.apnews.com/dims4/default/2233dae/2147483647/strip/true/crop/5561x3707+0+2/resize/567x378!/quality/90/?url=https%3A%2F%2Fassets.apnews.com%2F9e%2F1e%2Ff8ed9ac2b8080a2bcbde719e6f26%2F43efeab456df437dab2aae52577dfc83)](https://apnews.com/article/france-paris-notre-dame-carpenter-fire-catholic-ea516112b8393a795cd97b6abe5ef4e3) [![Image 23: Image](https://dims.apnews.com/dims4/default/6a5602a/2147483647/strip/true/crop/3000x1998+0+1/resize/599x399!/quality/90/?url=https%3A%2F%2Fassets.apnews.com%2Fb3%2Fef%2Ffadb8b20993381c75377bcfb2279%2F7ac65958f4e6456d87fabb1c5d3166dc)](https://apnews.com/article/buddhism-interfaith-new-jersey-spirituality-ecce3b0d5569e0497c47c92eb57f9abc) [![Image 25: Image](https://dims.apnews.com/dims4/default/103e6fa/2147483647/strip/true/crop/4381x2918+0+1/resize/599x399!/quality/90/?url=https%3A%2F%2Fassets.apnews.com%2F4f%2F1f%2Fc8879ab3242b4d8d39cdb6884eb0%2Fa550497041f84c2c80354e985404803b)](https://apnews.com/world-news/taylor-swift-general-news-domestic-news-add8d87cc892eac2838c51812ea032de) [![Image 26: Image](https://dims.apnews.com/dims4/default/db4c05c/2147483647/strip/true/crop/5500x3664+0+52/resize/599x399!/quality/90/?url=https%3A%2F%2Fassets.apnews.com%2Fb1%2F7b%2F62f6a74c6e33b81ed1f34dea89d6%2Fb0be2be6db014cfcbd9babff7f661d92)](https://apnews.com/article/notre-dame-cathedral-reopening-fire-paris-28cf9686d7d48dce0c046ca9e46f3e99) [![Image 69: Image](https://dims.apnews.com/dims4/default/dd0f3ed/2147483647/strip/true/crop/3072x2046+0+1/resize/599x399!/quality/90/?url=https%3A%2F%2Fassets.apnews.com%2F72%2Fe0%2F21056d49f768745cf7c7c2a4a517%2Fa3d9ef07c1c9475c8834ac5ec8a55297)](https://apnews.com/article/romania-ukraine-draft-cat-rescue-mountain-war-8e57bc8b07a2ec80ea16ca9cd09450b3) [![Image 78: Image](https://dims.apnews.com/dims4/default/6a231c6/2147483647/strip/true/crop/5616x3741+0+2/resize/599x399!/quality/90/?url=https%3A%2F%2Fassets.apnews.com%2F2e%2F97%2Fa1b23b3f7b859b296f2fd76e90a5%2F464a3abd0577440794bdcb70e41f9274)](https://apnews.com/article/trump-paris-notre-dame-f97fde62ca2ce68c3874c395b305e26b) [![Image 80: Image](https://dims.apnews.com/dims4/default/83b446e/2147483647/strip/true/crop/6000x3997+0+2/resize/599x399!/quality/90/?url=https%3A%2F%2Fassets.apnews.com%2F8e%2F09%2F243684f1b3e6b5cde4701ceda6ff%2F65c76be267b04d0395f7ed1c35849a14)](https://apnews.com/article/syria-assad-ousted-rebel-offensive-timeline-8c54a8b97803d4b10cde53b97227128e) [![Image 81: Image](https://dims.apnews.com/dims4/default/8017fc1/2147483647/strip/true/crop/7185x4786+0+86/resize/599x399!/quality/90/?url=https%3A%2F%2Fassets.apnews.com%2Ff1%2F7e%2Fe1e5508484de218a863d8ecd9fad%2Fb34a7af614a24239b810eb78f2e478cf)](https://apnews.com/article/trump-ukraine-military-aid-russia-biden-efbcff8ed068e621055e8fa70b5905e1) [![Image 82: Image](https://dims.apnews.com/dims4/default/b1034b5/2147483647/strip/true/crop/8640x5755+0+2/resize/599x399!/quality/90/?url=https%3A%2F%2Fassets.apnews.com%2Fd6%2Fdd%2F0d1721473c6d61befedc97c7a426%2F2cdc242c49684c10a61fe1d24cd69d87)](https://apnews.com/article/russia-oreshnik-hypersonic-missile-putin-ukraine-war-345588a399158b9eb0b56990b8149bd9) [![Image 83: Image](https://dims.apnews.com/dims4/default/90facc9/2147483647/strip/true/crop/5081x3385+0+1/resize/599x399!/quality/90/?url=https%3A%2F%2Fassets.apnews.com%2F10%2F1f%2Fe69ad0b2a8e0010f4861f097d29e%2F5ad8c5d8d16d40d7a191dc549183afeb)](https://apnews.com/article/russia-ukraine-war-zelenskyy-troops-nato-9bf883670879e2a398fe1a7ebfb71ddb) [![Image 84: Image](https://dims.apnews.com/dims4/default/05046b2/2147483647/strip/true/crop/2045x1362+0+44/resize/599x399!/quality/90/?url=https%3A%2F%2Fassets.apnews.com%2Faf%2Fcc%2F1e4d32c41e0865d25a1eecbad0ef%2F418d96657c1f4cfba849d77a7361730c)](https://apnews.com/article/russia-putin-syria-assad-ukraine-war-31fa9b933372b3704ed285c96863892b) [![Image 85: Image](https://dims.apnews.com/dims4/default/3ea7e0c/2147483647/strip/true/crop/6000x3997+0+2/resize/599x399!/quality/90/?url=https%3A%2F%2Fassets.apnews.com%2F00%2Fd8%2Fb87667ac757b9ca481770ab152e6%2Fb6057e099a8241db9ae4ab336a5dc2c2)](https://apnews.com/article/tulsi-gabbard-hegseth-kash-patel-trump-syria-44d0150e7d251946b60fc7f6799c4a74) [![Image 88: Image](https://dims.apnews.com/dims4/default/41f81a5/2147483647/strip/true/crop/1919x1278+1+0/resize/599x399!/quality/90/?url=https%3A%2F%2Fassets.apnews.com%2F1c%2F12%2F6070e8327115344c7edba999d799%2Fda417d733523484caa3f22d29858c0ec)](https://apnews.com/article/secret-santa-stress-holiday-gift-guide-d5a907bd8aa1b0b1ebf1e04bba9fe89c) [![Image 89: Image](https://dims.apnews.com/dims4/default/3c8b8e5/2147483647/strip/true/crop/5184x3453+0+1/resize/599x399!/quality/90/?url=https%3A%2F%2Fassets.apnews.com%2Faf%2Fc1%2F5ef68e3d35cc53e50da760ec39eb%2F44fd1bff50d44b6d891d67e9921dd91d)](https://apnews.com/article/november-project-exercise-social-fitness-winter-fc55e4aefbd003f999aafec15fe25a0e) [![Image 90: Image](https://dims.apnews.com/dims4/default/8c75a98/2147483647/strip/true/crop/8184x5451+0+2/resize/599x399!/quality/90/?url=https%3A%2F%2Fassets.apnews.com%2Fd1%2F43%2Fa03aa410da12d72c007f4e04dbe1%2Fe02494da5ee04e49bea36e5877aed408)](https://apnews.com/article/personal-trainer-exercise-workout-c94f4f6625d2d6a5a77537946d1518b5) [![Image 91: Image](https://dims.apnews.com/dims4/default/3fc5125/2147483647/strip/true/crop/4479x2984+0+1/resize/599x399!/quality/90/?url=https%3A%2F%2Fassets.apnews.com%2F62%2Fcf%2F564ba47875ce1cfd0bbb3b9fe958%2F1fe0aa9456ed4952a6ef4843535f8bde)](https://apnews.com/article/travel-stress-holiday-tips-db5e5d819b6251bd415a9ad204baa03a) [![Image 92: Image](https://dims.apnews.com/dims4/default/1318d6e/2147483647/strip/true/crop/1620x1079+0+0/resize/599x399!/quality/90/?url=https%3A%2F%2Fassets.apnews.com%2F0c%2F15%2F420caf3cf8f2efbc44b839ea596d%2Fee43d974cece47e09f8f324cd708f6d1)](https://apnews.com/article/work-life-stress-reduction-breathing-techniques-8c0636a09d605ef0c56e529e8be0f2f9) [![Image 97: Image](https://dims.apnews.com/dims4/default/74e65c3/2147483647/strip/true/crop/5993x3992+3+0/resize/599x399!/quality/90/?url=https%3A%2F%2Fassets.apnews.com%2F33%2F73%2F083534678639c949767e0353e020%2F1e147b6dd9aa48648288cc20279edc52)](https://apnews.com/article/ap-top-asia-photos-of-2024-e071bc96deed1052511a53e0e1cc61f9) [![Image 98: Image](https://dims.apnews.com/dims4/default/d1a96d7/2147483647/strip/true/crop/2829x1884+0+1/resize/599x399!/quality/90/?url=https%3A%2F%2Fassets.apnews.com%2Ff2%2F0e%2F6a3787430fbc823f8900f7e6ab52%2Ff8bf616f86284cad9e448061cfc929c9)](https://apnews.com/article/argentina-milei-trump-musk-default-economy-inflation-libertarian-18efe55d81df459792a038ea9e321800) [![Image 99: Image](https://dims.apnews.com/dims4/default/0f779f2/2147483647/strip/true/crop/5819x3876+0+1/resize/599x399!/quality/90/?url=https%3A%2F%2Fassets.apnews.com%2Ffb%2F33%2F4cf11414c7dc0669cad5790c54c9%2Fccf3d40bbfe64a268dae81b2f9b31731)](https://apnews.com/article/ap-sports-photos-of-year-d07f4a6c90716b4e5e46df43cea695e8) [![Image 101: Image](https://dims.apnews.com/dims4/default/df0270d/2147483647/strip/true/crop/6000x4000+0+0/resize/567x378!/quality/90/?url=https%3A%2F%2Fassets.apnews.com%2Fc3%2Fe4%2F7da2e99ba0a57a0bff843a3c04f8%2Fa5584bf0667343f78c019f2f35b56868)](https://apnews.com/article/germany-syria-refugees-asylum-future-ab24be8f2ffef4e118ed12a4b0df110f) [![Image 102: Image](https://dims.apnews.com/dims4/default/6fe020a/2147483647/strip/true/crop/5025x3347+0+1/resize/599x399!/quality/90/?url=https%3A%2F%2Fassets.apnews.com%2F50%2F3d%2Ffd28cebf15c3665f091349a5f7e0%2F1650cbfb41ee4e2194210bb4e8bf8ba0)](https://apnews.com/article/israel-netanyahu-corruption-trial-gaza-478c957c7749986d5b8b2d039f670d54) [![Image 103: Image](https://dims.apnews.com/dims4/default/26a7204/2147483647/strip/true/crop/3900x2598+0+2/resize/599x399!/quality/90/?url=https%3A%2F%2Fassets.apnews.com%2F8a%2F3c%2Fa6ff0ab1b0276a935bf063ee888d%2Fa05f1c5fd3514f569aee18054cc5a6e9)](https://apnews.com/article/ukraine-war-poland-tusk-negotiations-russia-eu-23802e5b26f5c0c1d45a32e9cc80f362) [![Image 107: Image](https://dims.apnews.com/dims4/default/c8ba91c/2147483647/strip/true/crop/4032x2688+0+0/resize/567x378!/quality/90/?url=https%3A%2F%2Fassets.apnews.com%2F30%2Fc2%2F821b7e6e01f117fea2b2b1e4be05%2Fa4e7f61cd4f846488e769fc42692a476)](https://apnews.com/article/congo-world-heritage-site-gold-mining-china-5e9499fd939c3c2d798a6165f3fc487b) [![Image 110: Image](https://dims.apnews.com/dims4/default/0ceb174/2147483647/strip/true/crop/4796x3195+0+1/resize/599x399!/quality/90/?url=https%3A%2F%2Fassets.apnews.com%2Fac%2F7f%2F5466595a879ca2d404379f4b8310%2Fad89b32dd88b4dcd8f005b757f1c624e)](https://apnews.com/article/climate-change-november-hottest-year-record-d1f41a2c7341c006f051ad321915d89c) [![Image 111: Image](https://dims.apnews.com/dims4/default/041f239/2147483647/strip/true/crop/6871x4577+0+2/resize/599x399!/quality/90/?url=https%3A%2F%2Fassets.apnews.com%2F21%2F3e%2F10d5b4943d3c79f80cf6c410519c%2F715b29407d0a4dbca2e3b035f924e1ad)](https://apnews.com/article/deadly-heat-humidity-mexico-climate-change-2e8db903deabd015f608e45204a19bf0) [![Image 113: Image](https://dims.apnews.com/dims4/default/44c34bd/2147483647/strip/true/crop/3368x2243+0+139/resize/599x399!/quality/90/?url=https%3A%2F%2Fassets.apnews.com%2F49%2F08%2F669217d7f9d734a85f4dadd01274%2F3f91221b4d87434789bbf4e34bc32ac3)](https://apnews.com/article/trump-energy-permitting-reform-drilling-billion-investment-dd99706a325082cdf475e599ec3c0687) [![Image 114: Image](https://dims.apnews.com/dims4/default/bcd5cd4/2147483647/strip/true/crop/5572x3712+0+2/resize/599x399!/quality/90/?url=https%3A%2F%2Fassets.apnews.com%2F90%2F3a%2F54e9a82c765fa74d587bf2041f6a%2Fbd09b6cd0ee84c57bfe484c73799a8cb)](https://apnews.com/article/supreme-court-environment-regulation-recuse-gorsuch-utah-16cff708f7549ff430823213eeaa22f6) [![Image 118: Image](https://dims.apnews.com/dims4/default/6bb9c84/2147483647/strip/true/crop/5616x3741+0+2/resize/599x399!/quality/90/?url=https%3A%2F%2Fassets.apnews.com%2Fbd%2Fd5%2Fa6a842258afe7f54ba96306c1aa5%2Fcec851964be444f89a2d8ff1424493c0)](https://apnews.com/article/fact-check-vermont-supreme-court-vaccination-ruling-0256fc7ad888230ee8dc51f6fe0d479a)'},\n",
              " {'url': 'https://www.reuters.com/world/us/',\n",
              "  'content': \"Cuomo aide whose groping accusation sparked criminal case files civil suit\\nMajor New Jersey mall reopens after bomb threat, governor says\\nBiden's clean energy agenda faces mounting headwinds\\nBiden shares pies for Thanksgiving, expresses hope about hostage release\\nAmericans celebrate Thanksgiving on edge over war in Gaza\\nPolice still probing cause of fiery car crash at US-Canada border\\nSean 'Diddy' Combs accused of 1991 sexual assault in second suit\\nNew York Mayor Eric Adams accused of sexual assault in 1993\\nActor Jamie Foxx accused of sexual abuse in New York lawsuit\\nBiden administration defends West Point's race-conscious admissions policy\\nUS thwarted plot to kill Sikh separatist in America\\nA train derailment that spilled molten sulfur in a remote area of eastern Kentucky on the eve of Thanksgiving disrupted holiday plans for local residents on Thursday, some of whom were forced to evacuate after the incident.\\n Biden, first lady to attend Georgia service for Rosalynn Carter\\nMusic industry veteran Jimmy Iovine faces sexual abuse allegation\\nA Thanksgiving tradition returns: busy roads, crowded airports\\nFiery Rainbow Bridge car crash at US-Canada border kills 2; terrorism ruled out\\nDeSantis super PAC head quits, latest blow to struggling Republican's presidential bid\\nSite Index\\nBrowse\\nAbout Reuters\\nStay Informed\\nInformation you can trust\\nReuters, the news and media division of Thomson Reuters, is the world’s largest multimedia news provider, reaching billions of people worldwide every day. United States\\nNew York police identify couple killed in US-Canada border crash\\nNew York police on Friday identified the man and woman who were killed when their car crashed and burst into flames on the bridge linking New York state and Ontario at Niagara Falls, sparking a Thanksgiving eve security scare.\\n Follow Us\\nThomson Reuters Products\\nBuild the strongest argument relying on authoritative content, attorney-editor expertise, and industry defining technology.\\n LSEG Products\\nAccess unmatched financial data, news and content in a highly-customised workflow experience on desktop, web and mobile.\\n\"},\n",
              " {'url': 'https://apnews.com/us-news',\n",
              "  'content': 'U.S. News\\nBlinken sees goals largely unfulfilled in Mideast trip, even as Israel pledges to protect civilians\\nKlete Keller, Olympic gold medalist swimmer, gets 6 months in home detention for Jan. 6 Capitol riot\\nBreaches by Iran-affiliated hackers spanned multiple U.S. states, federal agencies say\\nReport: Belief death penalty is applied unfairly shows capital punishment’s growing isolation in US\\nRetired Justice Sandra Day O’Connor, the first woman on the Supreme Court, has died at 93\\nTopics\\nAbortion\\nCourt pauses federal policy allowing abortion clinic operators to get grants -- but only in Ohio\\nMan pleads guilty to 2022 firebombing of Wisconsin anti-abortion office\\nWest Virginia places anti-abortion pregnancy center coalition at the helm of $1M grant program\\nOpponents gave input on ballot language for abortion-rights measure, Ohio elections chief says\\nLGBTQ+\\nPolice raid Moscow gay bars after a Supreme Court ruling labeled LGBTQ+ movement ‘extremist’\\nIowa court affirms hate crime conviction of man who left anti-gay notes at homes with rainbow flags\\nFirst same-sex married couple in Nepal vow to continue campaign for gay rights\\nFor a male sexual assault survivor, justice won in court does not equal healing\\nShootings\\nLas Vegas police search for suspect after 5 homeless people are shot, killing 1\\nLos Angeles police searching for suspect in three fatal shootings of homeless people\\nA world away from the West Bank, Vermont shooting victims and their families face new grief and fear\\nState trooper who fatally shot man at hospital likely prevented more injuries, attorney general says\\nImmigration\\nUS border officials are closing a remote Arizona crossing because of overwhelming migrant arrivals\\nTexas judge rips into Biden administration’s handling of border in dispute over razor wire barrier\\nCongress is eying immigration limits as GOP demands border changes in swap for Biden overseas aid\\nRepublicans want to pair border security with aid for Ukraine. Here’s why that makes a deal so tough\\nMore news\\nMassachusetts Republicans stall funding, again, to shelter the homeless and migrants\\nDefense head calls out those who advocate isolationism and ‘an American retreat from responsibility’\\nFormer prep school teacher going back to prison for incident as camp counselor\\nRacist remarks cited before cannabis regulator’s suspension, court documents say\\nAlabama woman pleads guilty in 2019 baseball bat beating death of man found in a barrel\\nWinter weather in Pacific Northwest cuts power to thousands in Seattle, dumps snow on Cascades\\nGroup of swing state Muslims vows to ditch Biden in 2024 over his war stance\\nFederal judge tosses lawsuit alleging environmental racism in St. James Parish\\nSheriff says Alabama family’s pet ‘wolf-hybrid’ killed their 3-month-old boy\\nVermont day care provider convicted of causing infant’s death with doses of antihistamine\\nRemington gun factory in operation for nearly 200 years is set to close\\nWest Virginia prison inmate indicted on murder charge in missing daughter’s death\\nBMW recalls SUVs after Takata air bag inflator blows apart, hurling shrapnel and injuring driver\\nSend-offs show Carlton Pearson’s split legacy spurred by his inclusive beliefs, rejection of hell\\nTeen girls are being victimized by deepfake nudes. Four are serving today\\nUS Navy plans to raise jet plane off Hawaii coral reef using inflatable cylinders\\nJudge rejects calls to halt winter construction work on Willow oil project in Alaska during appeal\\nUS proposes plan to help the snow-dependent Canada lynx before warming shrinks its habitat\\nFormer Colombian military officer accused in base bombing extradited to Florida\\nFormer Memphis officer charged in Tyre Nichols’ death had some violations in prior prison guard job\\nNew York could see more legal pot shops after state settles cases that halted market\\nEx-correctional officer at federal prison in California gets 5 years for sexually abusing inmates\\nMan who avoided prosecution as teen in 13-year-old’s killing found guilty of killing father of 2\\nJury orders egg suppliers to pay $17.7 million in damages for price gouging in 2000s\\nMovie armorer in ‘Rust’ fatal shooting pleads not guilty to unrelated gun charge\\nWisconsin Senate Democrats choose Hesselbein as new minority leader\\nAging dams in central and western Massachusetts to be removed in $25M project\\nCopyright 2023 The Associated Press. One family is pushing for more protections\\nCalifornia sheriff’s sergeant recovering after exchanging gunfire with suspect who was killed\\nTrump and DeSantis are at dueling campaign events in Iowa with the caucuses just six weeks away\\nJustice Sandra Day O’Connor paved a path for women on the Supreme Court. All Rights Reserved.\\n'},\n",
              " {'url': 'https://www.cbsnews.com/us/',\n",
              "  'content': 'A coalition of 50 major oil and gas companies are expected to agree to significantly cut their methane emissions by the end of the decade at the COP28 climate summit, marking a potential breakthrough in the fight against climate change. The jury ruled last week that the egg producers used various means to limit the domestic supply of eggs to increase the price of products during the 2000s.\\n The jury ruled last week that the egg producers used various means to limit the domestic supply of eggs to increase the price of products during the 2000s.\\n The jury ruled last week that the egg producers used various means to limit the domestic supply of eggs to increase the price of products during the 2000s.\\n Nicaraguan police say they want to arrest the director of the Miss Nicaragua pageant, accusing her of intentionally rigging contests so that anti-government beauty queens would win the pageants as part of a plot to overthrow the government.\\n'},\n",
              " {'url': 'https://www.cnn.com/',\n",
              "  'content': 'View the latest news and breaking news today for U.S., world, weather, entertainment, politics and health at CNN.com.'}]"
            ]
          },
          "execution_count": 8,
          "metadata": {},
          "output_type": "execute_result"
        }
      ],
      "source": [
        "tavily_search_tool.invoke({\"query\": \"Any latest news in USA?\"})"
      ]
    },
    {
      "cell_type": "markdown",
      "metadata": {
        "id": "MpM73--DRVB2"
      },
      "source": [
        "## Chain"
      ]
    },
    {
      "cell_type": "code",
      "execution_count": 9,
      "metadata": {
        "colab": {
          "base_uri": "https://localhost:8080/",
          "height": 251
        },
        "id": "iukkzEyDRUtd",
        "outputId": "ae06eb5f-37b6-40fc-ac83-b18df76f6758"
      },
      "outputs": [
        {
          "data": {
            "image/png": "[encoded data removed]",
            "text/plain": [
              "<IPython.core.display.Image object>"
            ]
          },
          "metadata": {},
          "output_type": "display_data"
        }
      ],
      "source": [
        "from langgraph.graph import StateGraph, START, END\n",
        "from langgraph.graph import MessagesState\n",
        "from langgraph.prebuilt import tools_condition, ToolNode\n",
        "\n",
        "builder = StateGraph(MessagesState)\n",
        "\n",
        "llm_with_tools = llm.bind_tools(tools)\n",
        "\n",
        "def assistant(state: MessagesState):\n",
        "  return {'messages': llm_with_tools.invoke(state['messages'])}\n",
        "\n",
        "\n",
        "builder.add_node('assistant', assistant)\n",
        "\n",
        "builder.add_edge(START, 'assistant')\n",
        "builder.add_edge('assistant', END)\n",
        "\n",
        "graph = builder.compile()\n",
        "\n",
        "\n",
        "\n",
        "from IPython.display import Image, display\n",
        "\n",
        "try:\n",
        "    display(Image(graph.get_graph().draw_mermaid_png()))\n",
        "except Exception:\n",
        "    # This requires some extra dependencies and is optional\n",
        "    pass"
      ]
    },
    {
      "cell_type": "code",
      "execution_count": 10,
      "metadata": {
        "colab": {
          "base_uri": "https://localhost:8080/"
        },
        "id": "hLsGR1JGRf-d",
        "outputId": "12b3a189-c40f-4b83-c097-b65a5349ffc6"
      },
      "outputs": [
        {
          "name": "stdout",
          "output_type": "stream",
          "text": [
            "================================\u001b[1m Human Message \u001b[0m=================================\n",
            "\n",
            "hello\n",
            "==================================\u001b[1m Ai Message \u001b[0m==================================\n",
            "\n",
            "I'm happy to chat with you, but I don't see a specific question or topic you'd like to discuss. If you have something on your mind, feel free to ask, and I'll do my best to help.\n"
          ]
        }
      ],
      "source": [
        "from pprint import pprint\n",
        "\n",
        "result = graph.invoke({'messages': ['hello']})\n",
        "\n",
        "for m in result['messages']:\n",
        "  m.pretty_print()"
      ]
    },
    {
      "cell_type": "code",
      "execution_count": 12,
      "metadata": {
        "colab": {
          "base_uri": "https://localhost:8080/"
        },
        "id": "tiLcukKQRmhu",
        "outputId": "01a43a62-41c2-4544-abaf-a1aec4b32368"
      },
      "outputs": [
        {
          "name": "stdout",
          "output_type": "stream",
          "text": [
            "================================\u001b[1m Human Message \u001b[0m=================================\n",
            "\n",
            "Is it raining in Karachi, Pakistan?\n",
            "==================================\u001b[1m Ai Message \u001b[0m==================================\n",
            "Tool Calls:\n",
            "  tavily_search_results_json (call_pj49)\n",
            " Call ID: call_pj49\n",
            "  Args:\n",
            "    query: Karachi Pakistan weather\n"
          ]
        }
      ],
      "source": [
        "result = graph.invoke({'messages': ['Is it raining in Karachi, Pakistan?']})\n",
        "\n",
        "for m in result['messages']:\n",
        "  m.pretty_print()"
      ]
    },
    {
      "cell_type": "markdown",
      "metadata": {
        "id": "Kxw-08iTR1vc"
      },
      "source": [
        "## Router"
      ]
    },
    {
      "cell_type": "code",
      "execution_count": 13,
      "metadata": {
        "colab": {
          "base_uri": "https://localhost:8080/",
          "height": 350
        },
        "id": "Fa2B6SHsR3_M",
        "outputId": "896ac18a-3ba8-4406-816e-287cf7f1af46"
      },
      "outputs": [
        {
          "data": {
            "image/png": "[encoded data removed]",
            "text/plain": [
              "<IPython.core.display.Image object>"
            ]
          },
          "metadata": {},
          "output_type": "display_data"
        }
      ],
      "source": [
        "from langgraph.graph import StateGraph, START, END\n",
        "from langgraph.graph import MessagesState\n",
        "from langgraph.prebuilt import tools_condition, ToolNode\n",
        "\n",
        "builder = StateGraph(MessagesState)\n",
        "\n",
        "def assistant(state: MessagesState):\n",
        "  return {'messages': llm_with_tools.invoke(state['messages'])}\n",
        "\n",
        "\n",
        "builder.add_node('assistant', assistant)\n",
        "builder.add_node('tools', ToolNode(tools))\n",
        "\n",
        "builder.add_edge(START, 'assistant')\n",
        "builder.add_conditional_edges('assistant',\n",
        "                              # if latest message from assistant is a tool call -> tools condition routes to tools node\n",
        "                              # if latest message from assistant is not a tool call -> routes to END\n",
        "                              tools_condition)\n",
        "\n",
        "builder.add_edge('tools', END)\n",
        "\n",
        "graph = builder.compile()\n",
        "\n",
        "\n",
        "\n",
        "from IPython.display import Image, display\n",
        "\n",
        "try:\n",
        "    display(Image(graph.get_graph().draw_mermaid_png()))\n",
        "except Exception:\n",
        "    # This requires some extra dependencies and is optional\n",
        "    pass"
      ]
    },
    {
      "cell_type": "code",
      "execution_count": 14,
      "metadata": {
        "colab": {
          "base_uri": "https://localhost:8080/"
        },
        "id": "JLrecxfwR9AT",
        "outputId": "b9fbb663-699c-494f-cb49-8fa75f0ad3b1"
      },
      "outputs": [
        {
          "name": "stdout",
          "output_type": "stream",
          "text": [
            "================================\u001b[1m Human Message \u001b[0m=================================\n",
            "\n",
            "Search how is the weather today in Karachi, Pakistan?\n",
            "==================================\u001b[1m Ai Message \u001b[0m==================================\n",
            "Tool Calls:\n",
            "  tavily_search_results_json (call_9p99)\n",
            " Call ID: call_9p99\n",
            "  Args:\n",
            "    query: Karachi Pakistan weather today\n",
            "=================================\u001b[1m Tool Message \u001b[0m=================================\n",
            "Name: tavily_search_results_json\n",
            "\n",
            "[{\"url\": \"https://www.weatherapi.com/\", \"content\": \"{'location': {'name': 'Karachi', 'region': 'Sindh', 'country': 'Pakistan', 'lat': 24.8667, 'lon': 67.05, 'tz_id': 'Asia/Karachi', 'localtime_epoch': 1737402830, 'localtime': '2025-01-21 00:53'}, 'current': {'last_updated_epoch': 1737402300, 'last_updated': '2025-01-21 00:45', 'temp_c': 16.1, 'temp_f': 61.0, 'is_day': 0, 'condition': {'text': 'Mist', 'icon': '//cdn.weatherapi.com/weather/64x64/night/143.png', 'code': 1030}, 'wind_mph': 6.9, 'wind_kph': 11.2, 'wind_degree': 326, 'wind_dir': 'NNW', 'pressure_mb': 1016.0, 'pressure_in': 30.0, 'precip_mm': 0.0, 'precip_in': 0.0, 'humidity': 39, 'cloud': 0, 'feelslike_c': 16.1, 'feelslike_f': 61.0, 'windchill_c': 19.3, 'windchill_f': 66.8, 'heatindex_c': 19.3, 'heatindex_f': 66.8, 'dewpoint_c': 8.5, 'dewpoint_f': 47.2, 'vis_km': 4.0, 'vis_miles': 2.0, 'uv': 0.0, 'gust_mph': 12.7, 'gust_kph': 20.4}}\"}, {\"url\": \"https://metkhi.pmd.gov.pk/uploads/uploads/Fleet+Forecast+200125.pdf\", \"content\": \"Pakistan Meteorological Department Room # 3106-09, Jinnah International Airport Karachi-75200 Email: srmetjiap@pmd.gov.pk FLEET FORECAST GENERAL INFERENCE DATED 20thJANUARY, 2025 Weather: Partly cloudy/hazy in B00, B25 & B20, while partly cloudy/light rain in B30. AREA FORECAST VALID FOR 12 HOURS COMMENCING 20/0600 UTC Area Weather Surface wind\"}, {\"url\": \"https://www.brecorder.com/news/40343462\", \"content\": \"KARACHI: The weather report on Sunday (January 19, 2025) and the forecast for Monday (January 20, 2025).\"}, {\"url\": \"https://www.meteoprog.com/weather/Karachi/month/january/\", \"content\": \"Karachi weather in January 2025 ⋆ Karachi temperature in January ≡ Weather forecast in Pakistan | METEOPROG Weather in Pakistan Weather Widgets Русский (UA) Русский WEATHER 7-day Forecast 2 weeks overview Weather on a map Weather Widget Русский (UA) Русский 2 Weeks Karachi weather in January 2025 +24°+14° +24°+14° +24°+14° +24°+14° +25°+14° +25°+15° +24°+15° +24°+15° +24°+15° +23°+14° +23°+14° +24°+14° +24°+15° +25°+16° +25°+16° +24°+15° +24°+15° +24°+15° +24°+14° +25°+14° +25°+15° +24°+14° +24°+15° +24°+15° +25°+15° +24°+15° +25°+15° +25°+15° +25°+15° +25°+15° +26°+16° +26°+16° +26°+16° +27°+17° +27°+17° January in Karachi Max. temperature +30.2°C Min. temperature +7.1°C +25° +17° +17° +13° Mexico City All cities All cities Weather Weather in Pakistan Monthly weather forecast in Karachi Weather in January 2 Weeks Weather Widgets Русский (UA) Русский\"}, {\"url\": \"https://world-weather.info/forecast/pakistan/karachi/january-2025/\", \"content\": \"Weather in Karachi in January 2025 (Sind) - Detailed Weather Forecast for a Month Weather World Weather in Karachi Weather in Karachi in January 2025 Karachi Weather Forecast for January 2025 is based on long term prognosis and previous years' statistical data. 1 +79°+54° 2 +79°+54° 3 +79°+54° 4 +75°+57° 5 +75°+50° 6 +77°+50° 7 +75°+50° 8 +77°+50° 9 +75°+50° 10 +77°+52° 11 +77°+52° 12 +75°+68° 13 +73°+66° 14 +75°+66° 15 +75°+68° 16 +77°+68° +79°+64° +79°+63° +77°+63° +77°+63° +77°+64° +77°+64° +79°+64° +79°+63° +75°+63° +77°+64° +77°+63° +79°+63° +77°+64° +79°+64° +81°+66° Extended weather forecast in Karachi HourlyWeek10-Day14-Day30-DayYear Weather in large and nearby cities Weather in Islamabad+46° Gwadar+59° Kandhkot+50° Turbat+57° Jacobābād+48° Shikārpur+50° Sukkur+52° Khairpur+52° Shāhdādkot+48° Khuzdār+45° Larkana+50° Kambar+48° Moro+48° Dādu+50° Nawabshah+50° Tando Ādam+52° Tando Allāhyār+52° world's temperature today day day\"}]\n"
          ]
        }
      ],
      "source": [
        "result = graph.invoke({'messages': ['Search how is the weather today in Karachi, Pakistan?']})\n",
        "\n",
        "for m in result['messages']:\n",
        "  m.pretty_print()"
      ]
    },
    {
      "cell_type": "code",
      "execution_count": 15,
      "metadata": {
        "colab": {
          "base_uri": "https://localhost:8080/"
        },
        "id": "kFOY23KPSMtN",
        "outputId": "ca8a1b97-975d-4574-d15b-ee485a0eb807"
      },
      "outputs": [
        {
          "name": "stdout",
          "output_type": "stream",
          "text": [
            "https://www.weatherapi.com/\n",
            "{'location': {'name': 'Karachi', 'region': 'Sindh', 'country': 'Pakistan', 'lat': 24.8667, 'lon': 67.05, 'tz_id': 'Asia/Karachi', 'localtime_epoch': 1737402830, 'localtime': '2025-01-21 00:53'}, 'current': {'last_updated_epoch': 1737402300, 'last_updated': '2025-01-21 00:45', 'temp_c': 16.1, 'temp_f': 61.0, 'is_day': 0, 'condition': {'text': 'Mist', 'icon': '//cdn.weatherapi.com/weather/64x64/night/143.png', 'code': 1030}, 'wind_mph': 6.9, 'wind_kph': 11.2, 'wind_degree': 326, 'wind_dir': 'NNW', 'pressure_mb': 1016.0, 'pressure_in': 30.0, 'precip_mm': 0.0, 'precip_in': 0.0, 'humidity': 39, 'cloud': 0, 'feelslike_c': 16.1, 'feelslike_f': 61.0, 'windchill_c': 19.3, 'windchill_f': 66.8, 'heatindex_c': 19.3, 'heatindex_f': 66.8, 'dewpoint_c': 8.5, 'dewpoint_f': 47.2, 'vis_km': 4.0, 'vis_miles': 2.0, 'uv': 0.0, 'gust_mph': 12.7, 'gust_kph': 20.4}}\n",
            "\n",
            "https://metkhi.pmd.gov.pk/uploads/uploads/Fleet+Forecast+200125.pdf\n",
            "Pakistan Meteorological Department Room # 3106-09, Jinnah International Airport Karachi-75200 Email: srmetjiap@pmd.gov.pk FLEET FORECAST GENERAL INFERENCE DATED 20thJANUARY, 2025 Weather: Partly cloudy/hazy in B00, B25 & B20, while partly cloudy/light rain in B30. AREA FORECAST VALID FOR 12 HOURS COMMENCING 20/0600 UTC Area Weather Surface wind\n",
            "\n",
            "https://www.brecorder.com/news/40343462\n",
            "KARACHI: The weather report on Sunday (January 19, 2025) and the forecast for Monday (January 20, 2025).\n",
            "\n",
            "https://www.meteoprog.com/weather/Karachi/month/january/\n",
            "Karachi weather in January 2025 ⋆ Karachi temperature in January ≡ Weather forecast in Pakistan | METEOPROG Weather in Pakistan Weather Widgets Русский (UA) Русский WEATHER 7-day Forecast 2 weeks overview Weather on a map Weather Widget Русский (UA) Русский 2 Weeks Karachi weather in January 2025 +24°+14° +24°+14° +24°+14° +24°+14° +25°+14° +25°+15° +24°+15° +24°+15° +24°+15° +23°+14° +23°+14° +24°+14° +24°+15° +25°+16° +25°+16° +24°+15° +24°+15° +24°+15° +24°+14° +25°+14° +25°+15° +24°+14° +24°+15° +24°+15° +25°+15° +24°+15° +25°+15° +25°+15° +25°+15° +25°+15° +26°+16° +26°+16° +26°+16° +27°+17° +27°+17° January in Karachi Max. temperature +30.2°C Min. temperature +7.1°C +25° +17° +17° +13° Mexico City All cities All cities Weather Weather in Pakistan Monthly weather forecast in Karachi Weather in January 2 Weeks Weather Widgets Русский (UA) Русский\n",
            "\n",
            "https://world-weather.info/forecast/pakistan/karachi/january-2025/\n",
            "Weather in Karachi in January 2025 (Sind) - Detailed Weather Forecast for a Month Weather World Weather in Karachi Weather in Karachi in January 2025 Karachi Weather Forecast for January 2025 is based on long term prognosis and previous years' statistical data. 1 +79°+54° 2 +79°+54° 3 +79°+54° 4 +75°+57° 5 +75°+50° 6 +77°+50° 7 +75°+50° 8 +77°+50° 9 +75°+50° 10 +77°+52° 11 +77°+52° 12 +75°+68° 13 +73°+66° 14 +75°+66° 15 +75°+68° 16 +77°+68° +79°+64° +79°+63° +77°+63° +77°+63° +77°+64° +77°+64° +79°+64° +79°+63° +75°+63° +77°+64° +77°+63° +79°+63° +77°+64° +79°+64° +81°+66° Extended weather forecast in Karachi HourlyWeek10-Day14-Day30-DayYear Weather in large and nearby cities Weather in Islamabad+46° Gwadar+59° Kandhkot+50° Turbat+57° Jacobābād+48° Shikārpur+50° Sukkur+52° Khairpur+52° Shāhdādkot+48° Khuzdār+45° Larkana+50° Kambar+48° Moro+48° Dādu+50° Nawabshah+50° Tando Ādam+52° Tando Allāhyār+52° world's temperature today day day\n",
            "\n"
          ]
        }
      ],
      "source": [
        "import json\n",
        "\n",
        "tool_output = json.loads(result['messages'][-1].content)\n",
        "\n",
        "for m in tool_output:\n",
        "  print(m['url'])\n",
        "  print(m['content'])\n",
        "  print()"
      ]
    },
    {
      "cell_type": "code",
      "execution_count": 16,
      "metadata": {
        "id": "Kuljqg-NSR90"
      },
      "outputs": [],
      "source": [
        "result = graph.invoke({'messages': ['What is 9 multiplied by 5']})"
      ]
    },
    {
      "cell_type": "code",
      "execution_count": 17,
      "metadata": {
        "colab": {
          "base_uri": "https://localhost:8080/"
        },
        "id": "wF8g9qd-SWDF",
        "outputId": "9d66abea-8c8e-404a-cb72-52b8ee4bf067"
      },
      "outputs": [
        {
          "name": "stdout",
          "output_type": "stream",
          "text": [
            "================================\u001b[1m Human Message \u001b[0m=================================\n",
            "\n",
            "What is 9 multiplied by 5\n",
            "==================================\u001b[1m Ai Message \u001b[0m==================================\n",
            "\n",
            "9 * 5 = 45\n"
          ]
        }
      ],
      "source": [
        "for m in result['messages']:\n",
        "  m.pretty_print()"
      ]
    },
    {
      "cell_type": "markdown",
      "metadata": {
        "id": "lephgCfISYzW"
      },
      "source": [
        "## Tool LLM loop"
      ]
    },
    {
      "cell_type": "code",
      "execution_count": 18,
      "metadata": {
        "colab": {
          "base_uri": "https://localhost:8080/",
          "height": 350
        },
        "id": "TJEZy1RrSeLk",
        "outputId": "6ece9e17-5733-49a2-a263-df5410ea1462"
      },
      "outputs": [
        {
          "data": {
            "image/png": "[encoded data removed]",
            "text/plain": [
              "<IPython.core.display.Image object>"
            ]
          },
          "metadata": {},
          "output_type": "display_data"
        }
      ],
      "source": [
        "from langgraph.graph import StateGraph, START, END\n",
        "from langgraph.graph import MessagesState\n",
        "from langgraph.prebuilt import tools_condition, ToolNode\n",
        "\n",
        "builder = StateGraph(MessagesState)\n",
        "\n",
        "def assistant(state: MessagesState):\n",
        "  return {'messages': llm_with_tools.invoke(state['messages'])}\n",
        "\n",
        "\n",
        "builder.add_node('assistant', assistant)\n",
        "builder.add_node('tools', ToolNode(tools))\n",
        "\n",
        "builder.add_edge(START, 'assistant')\n",
        "builder.add_conditional_edges('assistant',\n",
        "                              # if latest message from assistant is a tool call -> tools condition routes to tools\n",
        "                              # if latest message from assistant is not a tool call -> routes to END\n",
        "                              tools_condition)\n",
        "\n",
        "builder.add_edge('tools', \"assistant\")\n",
        "builder.add_edge('tools', END)\n",
        "\n",
        "graph = builder.compile()\n",
        "\n",
        "\n",
        "\n",
        "from IPython.display import Image, display\n",
        "\n",
        "try:\n",
        "    display(Image(graph.get_graph().draw_mermaid_png()))\n",
        "except Exception:\n",
        "    # This requires some extra dependencies and is optional\n",
        "    pass\n"
      ]
    },
    {
      "cell_type": "code",
      "execution_count": 19,
      "metadata": {
        "id": "iIRer5cYSja0"
      },
      "outputs": [],
      "source": [
        "result = graph.invoke({'messages': ['Search how is the weather today in Karachi, Pakistan? Collect temperature, condition, humidity. If temperature greater than 30 then call it a hot day']})\n"
      ]
    },
    {
      "cell_type": "code",
      "execution_count": 20,
      "metadata": {
        "colab": {
          "base_uri": "https://localhost:8080/"
        },
        "id": "im1VoVT4SoD5",
        "outputId": "03c075ed-07ba-45e0-961f-8df33985c330"
      },
      "outputs": [
        {
          "name": "stdout",
          "output_type": "stream",
          "text": [
            "================================\u001b[1m Human Message \u001b[0m=================================\n",
            "\n",
            "Search how is the weather today in Karachi, Pakistan? Collect temperature, condition, humidity. If temperature greater than 30 then call it a hot day\n",
            "==================================\u001b[1m Ai Message \u001b[0m==================================\n",
            "Tool Calls:\n",
            "  tavily_search_results_json (call_g1z0)\n",
            " Call ID: call_g1z0\n",
            "  Args:\n",
            "    query: Karachi Pakistan weather today\n",
            "=================================\u001b[1m Tool Message \u001b[0m=================================\n",
            "Name: tavily_search_results_json\n",
            "\n",
            "[{\"url\": \"https://www.weatherapi.com/\", \"content\": \"{'location': {'name': 'Karachi', 'region': 'Sindh', 'country': 'Pakistan', 'lat': 24.8667, 'lon': 67.05, 'tz_id': 'Asia/Karachi', 'localtime_epoch': 1737402830, 'localtime': '2025-01-21 00:53'}, 'current': {'last_updated_epoch': 1737402300, 'last_updated': '2025-01-21 00:45', 'temp_c': 16.1, 'temp_f': 61.0, 'is_day': 0, 'condition': {'text': 'Mist', 'icon': '//cdn.weatherapi.com/weather/64x64/night/143.png', 'code': 1030}, 'wind_mph': 6.9, 'wind_kph': 11.2, 'wind_degree': 326, 'wind_dir': 'NNW', 'pressure_mb': 1016.0, 'pressure_in': 30.0, 'precip_mm': 0.0, 'precip_in': 0.0, 'humidity': 39, 'cloud': 0, 'feelslike_c': 16.1, 'feelslike_f': 61.0, 'windchill_c': 19.3, 'windchill_f': 66.8, 'heatindex_c': 19.3, 'heatindex_f': 66.8, 'dewpoint_c': 8.5, 'dewpoint_f': 47.2, 'vis_km': 4.0, 'vis_miles': 2.0, 'uv': 0.0, 'gust_mph': 12.7, 'gust_kph': 20.4}}\"}, {\"url\": \"https://www.easeweather.com/asia/pakistan/sindh/karachi/january\", \"content\": \"Weather in Karachi in January 2025 - Detailed Forecast Weather in Karachi for January 2025 Your guide to Karachi weather in January - trends and predictions The forecast for the next days in Karachi predicts temperatures to be around 24 °C, close to the historical average. In general, the average temperature in Karachi at the beginning of January is 23.3 °C. With an average of 3 rainy days, Karachi experiences minimal rainfall in January. Karachi in January average weather Temperatures trend during January in Karachi January weather day by day Our weather forecast for Karachi in January is based on the analysis of historical data rather than real-time forecast models. Karachi in January - FAQ Get accurate weather forecasts for Karachi, located at latitude 24.861 and longitude 67.01. January Weather\"}, {\"url\": \"https://www.meteoprog.com/weather/Karachi/month/january/\", \"content\": \"Karachi weather in January 2025 ⋆ Karachi temperature in January ≡ Weather forecast in Pakistan | METEOPROG Weather in Pakistan Weather Widgets Русский (UA) Русский WEATHER 7-day Forecast 2 weeks overview Weather on a map Weather Widget Русский (UA) Русский 2 Weeks Karachi weather in January 2025 +24°+14° +24°+14° +24°+14° +24°+14° +25°+14° +25°+15° +24°+15° +24°+15° +24°+15° +23°+14° +23°+14° +24°+14° +24°+15° +25°+16° +25°+16° +24°+15° +24°+15° +24°+15° +24°+14° +25°+14° +25°+15° +24°+14° +24°+15° +24°+15° +25°+15° +24°+15° +25°+15° +25°+15° +25°+15° +25°+15° +26°+16° +26°+16° +26°+16° +27°+17° +27°+17° January in Karachi Max. temperature +30.2°C Min. temperature +7.1°C +25° +17° +17° +13° Mexico City All cities All cities Weather Weather in Pakistan Monthly weather forecast in Karachi Weather in January 2 Weeks Weather Widgets Русский (UA) Русский\"}, {\"url\": \"https://world-weather.info/forecast/pakistan/karachi/january-2025/\", \"content\": \"Weather in Karachi in January 2025 (Sind) - Detailed Weather Forecast for a Month Weather World Weather in Karachi Weather in Karachi in January 2025 Karachi Weather Forecast for January 2025 is based on long term prognosis and previous years' statistical data. 1 +79°+54° 2 +79°+54° 3 +79°+54° 4 +75°+57° 5 +75°+50° 6 +77°+50° 7 +75°+50° 8 +77°+50° 9 +75°+50° 10 +77°+52° 11 +77°+52° 12 +75°+68° 13 +73°+66° 14 +75°+66° 15 +75°+68° 16 +77°+68° +79°+64° +79°+63° +77°+63° +77°+63° +77°+64° +77°+64° +79°+64° +79°+63° +75°+63° +77°+64° +77°+63° +79°+63° +77°+64° +79°+64° +81°+66° Extended weather forecast in Karachi HourlyWeek10-Day14-Day30-DayYear Weather in large and nearby cities Weather in Islamabad+46° Gwadar+59° Kandhkot+50° Turbat+57° Jacobābād+48° Shikārpur+50° Sukkur+52° Khairpur+52° Shāhdādkot+48° Khuzdār+45° Larkana+50° Kambar+48° Moro+48° Dādu+50° Nawabshah+50° Tando Ādam+52° Tando Allāhyār+52° world's temperature today day day\"}, {\"url\": \"https://enews.hamariweb.com/pakistan/karachi-weather-update-cold-wave-expected-to-intensify-in-late-january-2025/\", \"content\": \"Karachi Weather Update: Cold Wave Expected to Intensify in Late January 2025 Karachi Weather Update: Cold Wave Expected to Intensify in Late January 2025 Karachi residents should brace for colder days as the last week of January is expected to bring a significant drop in temperature. Karachi Weather Forecast: What to Expect Karachi recorded a minimum temperature of 11°C today. The ongoing cold wave is expected to deepen, affecting Karachi and other regions of Pakistan. Stay updated with the latest weather news for more details on Karachi’s cold wave and nationwide weather patterns. karachi weather update Karachi Weather Update January Karachi Weather Update January 2025 Please enter your comment! Cold Weather Returns to Karachi: Prepare for Freezing Nights Starting January 24\"}]\n",
            "==================================\u001b[1m Ai Message \u001b[0m==================================\n",
            "\n",
            "<function=tavily_search_results_json[]{\"query\": \"Karachi weather today 21 january 2025 temperature humidity condition\"}</function>\n"
          ]
        }
      ],
      "source": [
        "from pprint import pprint\n",
        "\n",
        "for m in result['messages']:\n",
        "  m.pretty_print()"
      ]
    }
  ],
  "metadata": {
    "colab": {
      "authorship_tag": "ABX9TyNt/zP+4Sowr1qqqCH123/I",
      "include_colab_link": true,
      "provenance": []
    },
    "kernelspec": {
      "display_name": "Python 3",
      "name": "python3"
    },
    "language_info": {
      "name": "python"
    }
  },
  "nbformat": 4,
  "nbformat_minor": 0
}
