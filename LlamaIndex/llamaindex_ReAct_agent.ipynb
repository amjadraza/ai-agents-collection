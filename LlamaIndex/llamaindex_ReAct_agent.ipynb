{
  "nbformat": 4,
  "nbformat_minor": 0,
  "metadata": {
    "colab": {
      "provenance": [],
      "gpuType": "T4",
      "authorship_tag": "ABX9TyNNWtyF27RsK0pAgzVC8h+J",
      "include_colab_link": true
    },
    "kernelspec": {
      "name": "python3",
      "display_name": "Python 3"
    },
    "language_info": {
      "name": "python"
    },
    "accelerator": "GPU"
  },
  "cells": [
    {
      "cell_type": "markdown",
      "metadata": {
        "id": "view-in-github",
        "colab_type": "text"
      },
      "source": [
        "<a href=\"https://colab.research.google.com/github/Rizwankaka/Agentic-AI-/blob/main/Datafy_Workshop/LlamaIndex/llamaindex_ReAct_agent.ipynb\" target=\"_parent\"><img src=\"https://colab.research.google.com/assets/colab-badge.svg\" alt=\"Open In Colab\"/></a>"
      ]
    },
    {
      "cell_type": "markdown",
      "source": [
        "# Building and Testing a ReAct Agent with LlamaIndex: From Simple Tools to QueryEngine Integration\n",
        "## **Introduction:**\n",
        "This notebook demonstrates how to create and utilize a ReAct (Reasoning and Acting) agent using LlamaIndex. The ReAct agent is designed to interact with various tools, starting with simple arithmetic operations and progressing to more complex tasks like querying financial data from Uber and Lyft's 10-K filings. The notebook provides a step-by-step guide to setting up the agent, integrating tools, and performing queries, making it a valuable resource for understanding how to build intelligent agents for task automation and data analysis.\n",
        "\n",
        "## **Goal:**\n",
        "The goal of this notebook is to:\n",
        "\n",
        "1. Introduce the concept of a ReAct agent and its ability to reason and act using tools.\n",
        "2. Demonstrate how to create a ReAct agent with simple tools (e.g., arithmetic operations).\n",
        "3. Extend the agent's capabilities by integrating QueryEngine tools for querying financial data from Uber and Lyft's 10-K filings.\n",
        "4. Providing a hands-on example of how to use the agent to answer complex questions by combining reasoning and tool usage."
      ],
      "metadata": {
        "id": "oVFbn2TX_3G5"
      }
    },
    {
      "cell_type": "markdown",
      "source": [
        "## Installation"
      ],
      "metadata": {
        "id": "Y1qb189Z_xx1"
      }
    },
    {
      "cell_type": "code",
      "execution_count": 32,
      "metadata": {
        "id": "LN3KXgXZvDCZ"
      },
      "outputs": [],
      "source": [
        "%pip install -qU llama-index llama-index-llms-gemini llama-index-embeddings-huggingface"
      ]
    },
    {
      "cell_type": "markdown",
      "source": [
        "## Setup API Keys"
      ],
      "metadata": {
        "id": "yAIlg5Ox_uLh"
      }
    },
    {
      "cell_type": "code",
      "source": [
        "# llama-parse is async-first, running the async code in a notebook requires the use of nest_asyncio\n",
        "import nest_asyncio\n",
        "nest_asyncio.apply()\n",
        "\n",
        "import os\n",
        "from google.colab import userdata\n",
        "\n",
        "os.environ['GEMINI_API_KEY'] = userdata.get('GEMINI_API_KEY')\n",
        "\n",
        "from IPython.display import display, HTML"
      ],
      "metadata": {
        "id": "i76oX1xSx3wh"
      },
      "execution_count": 33,
      "outputs": []
    },
    {
      "cell_type": "markdown",
      "source": [
        "## Set LLM and Embedding model\n",
        "We will use meta latest released `llama-3.3-70b-versatile` LLM."
      ],
      "metadata": {
        "id": "YxG454o7_dSy"
      }
    },
    {
      "cell_type": "code",
      "source": [
        "# from llama_index.llms.groq import Groq\n",
        "from llama_index.llms.gemini import Gemini\n",
        "from llama_index.embeddings.huggingface import HuggingFaceEmbedding"
      ],
      "metadata": {
        "id": "zt3MSHfnyk-S"
      },
      "execution_count": 37,
      "outputs": []
    },
    {
      "cell_type": "code",
      "source": [
        "llm = Gemini(model=\"models/gemini-1.5-flash\")\n",
        "embed_model = HuggingFaceEmbedding(model_name=\"BAAI/bge-base-en-v1.5\")"
      ],
      "metadata": {
        "id": "DjoTOhQIyo2w"
      },
      "execution_count": 36,
      "outputs": []
    },
    {
      "cell_type": "code",
      "source": [
        "from llama_index.core import Settings\n",
        "Settings.llm = llm\n",
        "Settings.embed_model = embed_model\n",
        "Settings.chunk_size = 512"
      ],
      "metadata": {
        "id": "_t_PObxxzC4q"
      },
      "execution_count": 38,
      "outputs": []
    },
    {
      "cell_type": "code",
      "source": [
        "from llama_index.core.agent import ReActAgent\n",
        "from llama_index.core.llms import ChatMessage\n",
        "from llama_index.core.tools import BaseTool, FunctionTool"
      ],
      "metadata": {
        "id": "TFwQhihKzFPv"
      },
      "execution_count": 39,
      "outputs": []
    },
    {
      "cell_type": "code",
      "source": [
        "def multiply(a: int, b: int) -> int:\n",
        "    \"\"\"Multiply two integers and returns the result integer\"\"\"\n",
        "    return a * b\n",
        "\n",
        "def add(a: int, b: int) -> int:\n",
        "    \"\"\"Add two integers and returns the result integer\"\"\"\n",
        "    return a + b\n",
        "\n",
        "\n",
        "add_tool = FunctionTool.from_defaults(fn=add)\n",
        "multiply_tool = FunctionTool.from_defaults(fn=multiply)"
      ],
      "metadata": {
        "id": "dCaWsq9gzMSH"
      },
      "execution_count": 40,
      "outputs": []
    },
    {
      "cell_type": "markdown",
      "source": [
        "## Create ReAct Agent\n",
        "Create agent over tools and test out queries"
      ],
      "metadata": {
        "id": "kwtAD9yY_WpE"
      }
    },
    {
      "cell_type": "code",
      "source": [
        "agent = ReActAgent.from_tools([multiply_tool, add_tool], llm=llm, verbose=True)"
      ],
      "metadata": {
        "id": "hUQf9FalzRgH"
      },
      "execution_count": 41,
      "outputs": []
    },
    {
      "cell_type": "code",
      "source": [
        "response = agent.chat(\"What is 20+(2*4)? Calculate step by step \")"
      ],
      "metadata": {
        "colab": {
          "base_uri": "https://localhost:8080/",
          "height": 243
        },
        "id": "7MFdnDV1zYyZ",
        "outputId": "4909c010-b2be-4b15-c6d8-8ae68512d96e"
      },
      "execution_count": 42,
      "outputs": [
        {
          "output_type": "stream",
          "name": "stdout",
          "text": [
            "> Running step 77f5cbc1-04e6-4c9d-86a5-0db3755f17b9. Step input: What is 20+(2*4)? Calculate step by step \n",
            "\u001b[1;3;38;5;200mThought: The current language of the user is: English. I need to use tools to calculate 20+(2*4) step by step.  First I will multiply 2 and 4, then add the result to 20.\n",
            "Action: multiply\n",
            "Action Input: {'a': 2, 'b': 4}\n",
            "\u001b[0m\u001b[1;3;34mObservation: 8\n",
            "\u001b[0m> Running step e3da7de3-3565-41fa-aa25-2da715107dca. Step input: None\n",
            "\u001b[1;3;38;5;200mThought: I have the result of the multiplication (8). Now I need to add this to 20.\n",
            "Action: add\n",
            "Action Input: {'a': 20, 'b': 8}\n",
            "\u001b[0m\u001b[1;3;34mObservation: 28\n",
            "\u001b[0m> Running step ea11ab26-d3a1-4b52-b751-069a114ec73a. Step input: None\n",
            "\u001b[1;3;38;5;200mThought: I can answer without using any more tools. I'll use the user's language to answer\n",
            "Answer: 28\n",
            "\u001b[0m"
          ]
        }
      ]
    },
    {
      "cell_type": "code",
      "source": [
        "display(HTML(f'<p style=\"font-size:20px\">{response.response}</p>'))"
      ],
      "metadata": {
        "colab": {
          "base_uri": "https://localhost:8080/",
          "height": 54
        },
        "id": "sUyk33Quzlof",
        "outputId": "1a38c3c3-1bdf-4cfa-f5d1-176401903835"
      },
      "execution_count": 43,
      "outputs": [
        {
          "output_type": "display_data",
          "data": {
            "text/plain": [
              "<IPython.core.display.HTML object>"
            ],
            "text/html": [
              "<p style=\"font-size:20px\">28</p>"
            ]
          },
          "metadata": {}
        }
      ]
    },
    {
      "cell_type": "markdown",
      "source": [
        "## Visit Prompts\n",
        "You can check prompts that the agent used to select the tools."
      ],
      "metadata": {
        "id": "P2vcgCL1_NQJ"
      }
    },
    {
      "cell_type": "code",
      "source": [
        "prompt_dict = agent.get_prompts()\n",
        "for k, v in prompt_dict.items():\n",
        "    print(f\"Prompt: {k}\\n\\nValue: {v.template}\")"
      ],
      "metadata": {
        "colab": {
          "base_uri": "https://localhost:8080/"
        },
        "id": "ATJL6zcPzq0A",
        "outputId": "c5e50c41-2168-48e5-a3bc-b5d918cc6fab"
      },
      "execution_count": 44,
      "outputs": [
        {
          "output_type": "stream",
          "name": "stdout",
          "text": [
            "Prompt: agent_worker:system_prompt\n",
            "\n",
            "Value: You are designed to help with a variety of tasks, from answering questions to providing summaries to other types of analyses.\n",
            "\n",
            "## Tools\n",
            "\n",
            "You have access to a wide variety of tools. You are responsible for using the tools in any sequence you deem appropriate to complete the task at hand.\n",
            "This may require breaking the task into subtasks and using different tools to complete each subtask.\n",
            "\n",
            "You have access to the following tools:\n",
            "{tool_desc}\n",
            "\n",
            "\n",
            "## Output Format\n",
            "\n",
            "Please answer in the same language as the question and use the following format:\n",
            "\n",
            "```\n",
            "Thought: The current language of the user is: (user's language). I need to use a tool to help me answer the question.\n",
            "Action: tool name (one of {tool_names}) if using a tool.\n",
            "Action Input: the input to the tool, in a JSON format representing the kwargs (e.g. {{\"input\": \"hello world\", \"num_beams\": 5}})\n",
            "```\n",
            "\n",
            "Please ALWAYS start with a Thought.\n",
            "\n",
            "NEVER surround your response with markdown code markers. You may use code markers within your response if you need to.\n",
            "\n",
            "Please use a valid JSON format for the Action Input. Do NOT do this {{'input': 'hello world', 'num_beams': 5}}.\n",
            "\n",
            "If this format is used, the tool will respond in the following format:\n",
            "\n",
            "```\n",
            "Observation: tool response\n",
            "```\n",
            "\n",
            "You should keep repeating the above format till you have enough information to answer the question without using any more tools. At that point, you MUST respond in one of the following two formats:\n",
            "\n",
            "```\n",
            "Thought: I can answer without using any more tools. I'll use the user's language to answer\n",
            "Answer: [your answer here (In the same language as the user's question)]\n",
            "```\n",
            "\n",
            "```\n",
            "Thought: I cannot answer the question with the provided tools.\n",
            "Answer: [your answer here (In the same language as the user's question)]\n",
            "```\n",
            "\n",
            "## Current Conversation\n",
            "\n",
            "Below is the current conversation consisting of interleaving human and assistant messages.\n",
            "\n"
          ]
        }
      ]
    },
    {
      "cell_type": "markdown",
      "source": [
        "## ReAct Agent over `QueryEngine` Tools"
      ],
      "metadata": {
        "id": "u_YU1Ye-_Eji"
      }
    },
    {
      "cell_type": "code",
      "source": [
        "from llama_index.core.tools import QueryEngineTool, ToolMetadata"
      ],
      "metadata": {
        "id": "j7-N1n3yzwgE"
      },
      "execution_count": 45,
      "outputs": []
    },
    {
      "cell_type": "markdown",
      "source": [
        "## Download data\n",
        "We will define ReAct agent over tools created on QueryEngines with Uber and Lyft 10K SEC Filings."
      ],
      "metadata": {
        "id": "YToGo1GNzzxX"
      }
    },
    {
      "cell_type": "code",
      "source": [
        "!mkdir -p 'data/10k/'\n",
        "!wget 'https://github.com/run-llama/llama_index/raw/main/docs/docs/examples/data/10k/uber_2021.pdf' -O 'data/10k/uber_2021.pdf'\n",
        "!wget 'https://github.com/run-llama/llama_index/raw/main/docs/docs/examples/data/10k/lyft_2021.pdf' -O 'data/10k/lyft_2021.pdf'"
      ],
      "metadata": {
        "colab": {
          "base_uri": "https://localhost:8080/"
        },
        "id": "GYoulYn7z6uO",
        "outputId": "a0db30ea-bec1-4812-99c2-033ad49aed75"
      },
      "execution_count": 46,
      "outputs": [
        {
          "output_type": "stream",
          "name": "stdout",
          "text": [
            "--2025-01-22 13:12:11--  https://github.com/run-llama/llama_index/raw/main/docs/docs/examples/data/10k/uber_2021.pdf\n",
            "Resolving github.com (github.com)... 20.205.243.166\n",
            "Connecting to github.com (github.com)|20.205.243.166|:443... connected.\n",
            "HTTP request sent, awaiting response... 302 Found\n",
            "Location: https://raw.githubusercontent.com/run-llama/llama_index/main/docs/docs/examples/data/10k/uber_2021.pdf [following]\n",
            "--2025-01-22 13:12:12--  https://raw.githubusercontent.com/run-llama/llama_index/main/docs/docs/examples/data/10k/uber_2021.pdf\n",
            "Resolving raw.githubusercontent.com (raw.githubusercontent.com)... 185.199.108.133, 185.199.109.133, 185.199.110.133, ...\n",
            "Connecting to raw.githubusercontent.com (raw.githubusercontent.com)|185.199.108.133|:443... connected.\n",
            "HTTP request sent, awaiting response... 200 OK\n",
            "Length: 1880483 (1.8M) [application/octet-stream]\n",
            "Saving to: ‘data/10k/uber_2021.pdf’\n",
            "\n",
            "data/10k/uber_2021. 100%[===================>]   1.79M  --.-KB/s    in 0.007s  \n",
            "\n",
            "2025-01-22 13:12:12 (244 MB/s) - ‘data/10k/uber_2021.pdf’ saved [1880483/1880483]\n",
            "\n",
            "--2025-01-22 13:12:12--  https://github.com/run-llama/llama_index/raw/main/docs/docs/examples/data/10k/lyft_2021.pdf\n",
            "Resolving github.com (github.com)... 20.205.243.166\n",
            "Connecting to github.com (github.com)|20.205.243.166|:443... connected.\n",
            "HTTP request sent, awaiting response... 302 Found\n",
            "Location: https://raw.githubusercontent.com/run-llama/llama_index/main/docs/docs/examples/data/10k/lyft_2021.pdf [following]\n",
            "--2025-01-22 13:12:13--  https://raw.githubusercontent.com/run-llama/llama_index/main/docs/docs/examples/data/10k/lyft_2021.pdf\n",
            "Resolving raw.githubusercontent.com (raw.githubusercontent.com)... 185.199.108.133, 185.199.109.133, 185.199.111.133, ...\n",
            "Connecting to raw.githubusercontent.com (raw.githubusercontent.com)|185.199.108.133|:443... connected.\n",
            "HTTP request sent, awaiting response... 200 OK\n",
            "Length: 1440303 (1.4M) [application/octet-stream]\n",
            "Saving to: ‘data/10k/lyft_2021.pdf’\n",
            "\n",
            "data/10k/lyft_2021. 100%[===================>]   1.37M  --.-KB/s    in 0.008s  \n",
            "\n",
            "2025-01-22 13:12:13 (178 MB/s) - ‘data/10k/lyft_2021.pdf’ saved [1440303/1440303]\n",
            "\n"
          ]
        }
      ]
    },
    {
      "cell_type": "markdown",
      "source": [
        "## Load Data"
      ],
      "metadata": {
        "id": "bBG15wNN-wtC"
      }
    },
    {
      "cell_type": "code",
      "source": [
        "from llama_index.core import SimpleDirectoryReader, VectorStoreIndex\n",
        "\n",
        "lyft_docs = SimpleDirectoryReader(input_files=[\"./data/10k/lyft_2021.pdf\"]).load_data()\n",
        "uber_docs = SimpleDirectoryReader(input_files=[\"./data/10k/uber_2021.pdf\"]).load_data()"
      ],
      "metadata": {
        "id": "csknV5hWz-2x"
      },
      "execution_count": 47,
      "outputs": []
    },
    {
      "cell_type": "markdown",
      "source": [
        "## Build Index"
      ],
      "metadata": {
        "id": "xz3mymyG-zuM"
      }
    },
    {
      "cell_type": "code",
      "source": [
        "lyft_index = VectorStoreIndex.from_documents(lyft_docs)\n",
        "uber_index = VectorStoreIndex.from_documents(uber_docs)"
      ],
      "metadata": {
        "id": "1_HeI2BS-gii"
      },
      "execution_count": 48,
      "outputs": []
    },
    {
      "cell_type": "markdown",
      "source": [
        "## Create QueryEngines"
      ],
      "metadata": {
        "id": "MZaW3lD3-5qj"
      }
    },
    {
      "cell_type": "code",
      "source": [
        "lyft_engine = lyft_index.as_query_engine(similarity_top_k=3)\n",
        "uber_engine = uber_index.as_query_engine(similarity_top_k=3)"
      ],
      "metadata": {
        "id": "w2DwzWhb-aVs"
      },
      "execution_count": 49,
      "outputs": []
    },
    {
      "cell_type": "markdown",
      "source": [
        "### Create QueryEngine Tools"
      ],
      "metadata": {
        "id": "N6PLPWyD--Rm"
      }
    },
    {
      "cell_type": "code",
      "source": [
        "query_engine_tools = [\n",
        "    QueryEngineTool(\n",
        "        query_engine=lyft_engine,\n",
        "        metadata=ToolMetadata(\n",
        "            name=\"lyft_10k\",\n",
        "            description=(\n",
        "                \"Provides information about Lyft financials for year 2021. \"\n",
        "                \"Use a detailed plain text question as input to the tool.\"\n",
        "            ),\n",
        "        ),\n",
        "    ),\n",
        "    QueryEngineTool(\n",
        "        query_engine=uber_engine,\n",
        "        metadata=ToolMetadata(\n",
        "            name=\"uber_10k\",\n",
        "            description=(\n",
        "                \"Provides information about Uber financials for year 2021. \"\n",
        "                \"Use a detailed plain text question as input to the tool.\"\n",
        "            ),\n",
        "        ),\n",
        "    ),\n",
        "]"
      ],
      "metadata": {
        "id": "DcXlEPaAAEKx"
      },
      "execution_count": 50,
      "outputs": []
    },
    {
      "cell_type": "markdown",
      "source": [
        "## Querying with ReAct Agent"
      ],
      "metadata": {
        "id": "o-zLcoZdAMRF"
      }
    },
    {
      "cell_type": "code",
      "source": [
        "response = agent.chat(\"What is Lyft's core business model, and how does it generate revenue?\")"
      ],
      "metadata": {
        "colab": {
          "base_uri": "https://localhost:8080/",
          "height": 89
        },
        "id": "APRteZ3zAO3w",
        "outputId": "99cfe5a4-4596-4ffa-d0aa-da84cf2b1ce7"
      },
      "execution_count": 51,
      "outputs": [
        {
          "output_type": "stream",
          "name": "stdout",
          "text": [
            "> Running step 65b1e4d2-82d0-4b56-8cbb-8187e94f2d50. Step input: What is Lyft's core business model, and how does it generate revenue?\n",
            "\u001b[1;3;38;5;200mThought: I need to use external knowledge to answer this question about Lyft's business model and revenue generation.  I don't have access to tools to directly research this.\n",
            "Answer: Lyft's core business model is a ride-sharing platform connecting passengers with drivers through a mobile app.  They generate revenue primarily through commissions charged to drivers on each fare.  This commission is a percentage of the fare paid by the passenger.  Lyft may also generate additional revenue through advertising and other ancillary services offered through the app.\n",
            "\u001b[0m"
          ]
        }
      ]
    },
    {
      "cell_type": "code",
      "source": [
        "display(HTML(f'<p style=\"font-size:20px\">{response.response}</p>'))"
      ],
      "metadata": {
        "colab": {
          "base_uri": "https://localhost:8080/",
          "height": 79
        },
        "id": "cU-P3KzwASpZ",
        "outputId": "80502e42-0914-4579-ef5e-f403e1241450"
      },
      "execution_count": 52,
      "outputs": [
        {
          "output_type": "display_data",
          "data": {
            "text/plain": [
              "<IPython.core.display.HTML object>"
            ],
            "text/html": [
              "<p style=\"font-size:20px\">Lyft's core business model is a ride-sharing platform connecting passengers with drivers through a mobile app.  They generate revenue primarily through commissions charged to drivers on each fare.  This commission is a percentage of the fare paid by the passenger.  Lyft may also generate additional revenue through advertising and other ancillary services offered through the app.</p>"
            ]
          },
          "metadata": {}
        }
      ]
    },
    {
      "cell_type": "code",
      "source": [
        "response = agent.chat(\"Compare and contrast the revenue growth of Uber and Lyft in 2021, then\" \"give an analysis\")"
      ],
      "metadata": {
        "colab": {
          "base_uri": "https://localhost:8080/",
          "height": 402
        },
        "id": "jBneUtxgAUUA",
        "outputId": "7b662bb4-7052-4425-f7b5-1017ca90b17e"
      },
      "execution_count": 53,
      "outputs": [
        {
          "output_type": "stream",
          "name": "stdout",
          "text": [
            "> Running step eeb7b9c5-d627-4b23-b763-8468b498bb3c. Step input: Compare and contrast the revenue growth of Uber and Lyft in 2021, thengive an analysis\n",
            "\u001b[1;3;38;5;200mThought: (Implicit) I can answer without any more tools!\n",
            "Answer: I do not have access to real-time information, including live financial data for companies like Uber and Lyft.  To compare and contrast their revenue growth in 2021, you would need to consult their respective financial reports (10-K filings) for that year.  These reports are usually publicly available on the companies' investor relations websites and through the SEC's EDGAR database.\n",
            "\n",
            "Once you obtain the necessary data (likely net revenue or gross booking figures for both companies), you can compare the growth rates using the following formula:\n",
            "\n",
            "`(Revenue in 2021 - Revenue in 2020) / Revenue in 2020 * 100%`\n",
            "\n",
            "This will give you the percentage growth for each company.  You can then compare these percentages to see which company experienced higher revenue growth in 2021.\n",
            "\n",
            "**Analysis Considerations:**\n",
            "\n",
            "After calculating the growth rates, your analysis should consider several factors:\n",
            "\n",
            "* **Market conditions:**  Were there any significant events in 2021 (e.g., pandemic-related restrictions, economic downturns, fuel price increases) that might have disproportionately affected one company's growth more than the other?\n",
            "* **Strategic initiatives:** Did either company launch any new services or initiatives in 2021 that significantly impacted their revenue?  (e.g., expansion into new markets, introduction of new service tiers, etc.)\n",
            "* **Market share:**  Did one company gain or lose market share relative to the other during 2021?  This could explain differences in revenue growth.\n",
            "* **Operational efficiency:**  Did one company demonstrate better operational efficiency (e.g., lower costs per ride) that contributed to higher profitability despite similar revenue growth?\n",
            "\n",
            "By considering these factors, you can provide a more nuanced and insightful comparison and analysis of Uber and Lyft's revenue growth in 2021.  Remember to cite your sources (the financial reports) in your analysis.\n",
            "\n",
            "\u001b[0m"
          ]
        }
      ]
    },
    {
      "cell_type": "code",
      "source": [
        "display(HTML(f'<p style=\"font-size:20px\">{response.response}</p>'))"
      ],
      "metadata": {
        "colab": {
          "base_uri": "https://localhost:8080/",
          "height": 277
        },
        "id": "hV-G6IhFAWLw",
        "outputId": "6997e95d-0058-4599-928d-811a313e79d5"
      },
      "execution_count": 54,
      "outputs": [
        {
          "output_type": "display_data",
          "data": {
            "text/plain": [
              "<IPython.core.display.HTML object>"
            ],
            "text/html": [
              "<p style=\"font-size:20px\">I do not have access to real-time information, including live financial data for companies like Uber and Lyft.  To compare and contrast their revenue growth in 2021, you would need to consult their respective financial reports (10-K filings) for that year.  These reports are usually publicly available on the companies' investor relations websites and through the SEC's EDGAR database.\n",
              "\n",
              "Once you obtain the necessary data (likely net revenue or gross booking figures for both companies), you can compare the growth rates using the following formula:\n",
              "\n",
              "`(Revenue in 2021 - Revenue in 2020) / Revenue in 2020 * 100%`\n",
              "\n",
              "This will give you the percentage growth for each company.  You can then compare these percentages to see which company experienced higher revenue growth in 2021.\n",
              "\n",
              "**Analysis Considerations:**\n",
              "\n",
              "After calculating the growth rates, your analysis should consider several factors:\n",
              "\n",
              "* **Market conditions:**  Were there any significant events in 2021 (e.g., pandemic-related restrictions, economic downturns, fuel price increases) that might have disproportionately affected one company's growth more than the other?\n",
              "* **Strategic initiatives:** Did either company launch any new services or initiatives in 2021 that significantly impacted their revenue?  (e.g., expansion into new markets, introduction of new service tiers, etc.)\n",
              "* **Market share:**  Did one company gain or lose market share relative to the other during 2021?  This could explain differences in revenue growth.\n",
              "* **Operational efficiency:**  Did one company demonstrate better operational efficiency (e.g., lower costs per ride) that contributed to higher profitability despite similar revenue growth?\n",
              "\n",
              "By considering these factors, you can provide a more nuanced and insightful comparison and analysis of Uber and Lyft's revenue growth in 2021.  Remember to cite your sources (the financial reports) in your analysis.\n",
              "</p>"
            ]
          },
          "metadata": {}
        }
      ]
    }
  ]
}