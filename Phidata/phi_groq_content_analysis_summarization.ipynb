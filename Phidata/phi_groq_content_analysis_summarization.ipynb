{
  "cells": [
    {
      "cell_type": "markdown",
      "metadata": {
        "colab_type": "text",
        "id": "view-in-github"
      },
      "source": [
        "<a href=\"https://github.com/amjadraza/ai-agents-collection/blob/main/Phidata/phi_groq_content_analysis_summarization.ipynb\" target=\"_parent\"><img src=\"https://colab.research.google.com/assets/colab-badge.svg\" alt=\"Open In Colab\"/></a>"
      ]
    },
    {
      "cell_type": "markdown",
      "metadata": {
        "id": "sBj7T38zogPw"
      },
      "source": [
        "# AI Research Assistant: Automated Content Analysis and Summarization\n",
        "\n",
        "## Introduction\n",
        "This notebook implements an intelligent research assistant using the Phi framework and Groq's Mixtral-8x7B model. The assistant is designed to automatically gather, analyze, and summarize information on any given topic by leveraging web search capabilities and natural language processing.\n",
        "\n",
        "## Goals\n",
        "1. **Automated Research**: Enable automated collection of relevant information from multiple web sources on any specified topic.\n",
        "2. **Content Analysis**: Process and analyze web content to extract key insights and relevant information.\n",
        "3. **Smart Summarization**: Generate concise, well-structured summaries with key bullet points from the gathered information.\n",
        "4. **Real-time Updates**: Provide up-to-date information by actively searching current web sources.\n",
        "\n",
        "## Key Components\n",
        "- **Groq Integration**: Utilizing Groq's Mixtral-8x7B model for advanced language processing\n",
        "- **DuckDuckGo Search**: Web search functionality for gathering relevant sources\n",
        "- **Newspaper4k**: Web scraping and article extraction capabilities\n",
        "- **SQLite Storage**: Persistent storage for maintaining conversation history and session data\n",
        "\n",
        "This notebook demonstrates how to build an AI-powered research assistant that can help users quickly gather and synthesize information on any topic of interest, saving valuable research time while providing comprehensive insights."
      ]
    },
    {
      "cell_type": "code",
      "execution_count": 8,
      "metadata": {
        "id": "8XtAdv7DkoOk"
      },
      "outputs": [],
      "source": [
        "%pip install -qU phidata yfinance duckduckgo-search newspaper4k lxml_html_clean groq"
      ]
    },
    {
      "cell_type": "code",
      "execution_count": 11,
      "metadata": {
        "id": "xVGF7bMwmLzX"
      },
      "outputs": [],
      "source": [
        "import os\n",
        "from google.colab import userdata\n",
        "os.environ['GROQ_API_KEY'] = userdata.get('GROQ_API_KEY')"
      ]
    },
    {
      "cell_type": "code",
      "execution_count": 9,
      "metadata": {
        "id": "Cb6AJgrElLzJ"
      },
      "outputs": [],
      "source": [
        "# Import libraries\n",
        "from phi.agent import Agent\n",
        "from phi.model.groq import Groq\n",
        "from phi.storage.agent.sqlite import SqlAgentStorage\n",
        "from phi.tools.duckduckgo import DuckDuckGo\n",
        "from phi.tools.newspaper4k import Newspaper4k\n",
        "from phi.run.response import RunEvent, RunResponse"
      ]
    },
    {
      "cell_type": "code",
      "execution_count": 16,
      "metadata": {
        "colab": {
          "base_uri": "https://localhost:8080/"
        },
        "id": "3rwhV9dTlB7I",
        "outputId": "5cda3eca-6d92-4bba-fad3-8ac85806748f"
      },
      "outputs": [
        {
          "name": "stdout",
          "output_type": "stream",
          "text": [
            "User: Tell me about the latest advancements in AI.\n",
            "Assistant:\n",
            "\n",
            "Running:\n",
            " - duckduckgo_news(query=latest advancements in AI 2025)\n",
            "\n",
            "Here are the latest advancements in AI as of 2025-01-18:\n",
            "\n",
            "- **The Rise Of AI Leaders: Meet The Superhumans** ([Forbes](https://www.forbes.com/councils/forbestechcouncil/2025/01/16/the-rise-of-ai-leaders-meet-the-superhumans/))\n",
            "  - AI is not just about automation or convenience, but amplifying human capabilities and solving complex global problems.\n",
            "\n",
            "- **Quantum Computing Could Achieve Singularity In 2025\\-\\-A ChatGPT Moment** ([Forbes](https://www.forbes.com/sites/luisromero/2025/01/18/quantum-computing-could-achieve-singularity-in-2025-a-chatgpt-moment/))\n",
            "  - Quantum computing is getting more attention, sparking questions about what QC could achieve in 2025.\n",
            "\n",
            "- **AI on AI: Popular Large Language Models Weigh In on What's Next for AI in 2025** ([cc.gatech.edu](https://www.cc.gatech.edu/news/ai-ai-popular-large-language-models-weigh-whats-next-ai-2025))\n",
            "  - Large language models give their perspectives on AI breakthroughs in 2025.\n",
            "\n",
            "- **What's Next for AI in 2025: Q&A with Associate Professor Wei Xu** ([cc.gatech.edu](https://www.cc.gatech.edu/news/whats-next-ai-2025-qa-associate-professor-wei-xu))\n",
            "  - Wei Xu, an associate professor at Georgia Tech's School of Interactive Computing, shares insights on AI trends in 2025.\n",
            "\n",
            "- **This is Nvidia's secret weapon and it's likely to propel the stock in 2025** ([MarketWatch on MSN.com](https://www.msn.com/en-us/money/companies/this-is-nvidia-s-secret-weapon-and-it-s-likely-to-propel-the-stock-in-2025/ar-BB1rr2Ya))\n",
            "  - Nvidia's strategic advancements and growth in data-center GPUs, networking, and services are expected to make an impact in 2025."
          ]
        }
      ],
      "source": [
        "# Create directory for SQLite database\n",
        "os.makedirs(\"tmp\", exist_ok=True)\n",
        "\n",
        "# Define the agent\n",
        "agent = Agent(\n",
        "    # Using a valid Groq model ID\n",
        "    model = Groq(id=\"mixtral-8x7b-32768\"),\n",
        "    tools=[DuckDuckGo(), Newspaper4k()],\n",
        "    description=\"You are a researcher writing an article on a topic.\",\n",
        "    instructions=[\n",
        "        \"For a given topic, search for the top 5 links.\",\n",
        "        \"Then read each URL and extract the article text.\",\n",
        "        \"Analyse and prepare 3-5 bullet points based on the information.\",\n",
        "    ],\n",
        "    markdown=True,\n",
        "    show_tool_calls=True,\n",
        "    add_datetime_to_instructions=True,\n",
        "    add_history_to_messages=True,\n",
        "    storage=SqlAgentStorage(table_name=\"agent_sessions\", db_file=\"tmp/agent.db\"),\n",
        ")\n",
        "\n",
        "# Function to convert response to a stream\n",
        "def as_stream(response):\n",
        "    for chunk in response:\n",
        "        if isinstance(chunk, RunResponse) and isinstance(chunk.content, str):\n",
        "            if chunk.event == RunEvent.run_response:\n",
        "                yield chunk.content\n",
        "\n",
        "# Test the agent\n",
        "prompt = \"Tell me about the latest advancements in AI.\"\n",
        "print(f\"User: {prompt}\")\n",
        "\n",
        "try:\n",
        "    print(\"Assistant:\")\n",
        "    chunks = agent.run(prompt, stream=True)\n",
        "    for chunk in as_stream(chunks):\n",
        "        print(chunk, end=\"\")\n",
        "except Exception as e:\n",
        "    print(f\"Error occurred: {str(e)}\")"
      ]
    }
  ],
  "metadata": {
    "colab": {
      "authorship_tag": "ABX9TyNUPu4ky+0yA2cgN35FhlCQ",
      "include_colab_link": true,
      "provenance": []
    },
    "kernelspec": {
      "display_name": "Python 3",
      "name": "python3"
    },
    "language_info": {
      "name": "python"
    }
  },
  "nbformat": 4,
  "nbformat_minor": 0
}
