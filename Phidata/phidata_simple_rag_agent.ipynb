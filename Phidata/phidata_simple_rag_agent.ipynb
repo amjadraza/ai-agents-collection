{
  "nbformat": 4,
  "nbformat_minor": 0,
  "metadata": {
    "colab": {
      "provenance": [],
      "authorship_tag": "ABX9TyP2bHYnJJZ0XQYLz5FNT7sP",
      "include_colab_link": true
    },
    "kernelspec": {
      "name": "python3",
      "display_name": "Python 3"
    },
    "language_info": {
      "name": "python"
    },
    "widgets": {
      "application/vnd.jupyter.widget-state+json": {
        "78dc0a442cb0473cb613c121019be1f0": {
          "model_module": "@jupyter-widgets/output",
          "model_name": "OutputModel",
          "model_module_version": "1.0.0",
          "state": {
            "_dom_classes": [],
            "_model_module": "@jupyter-widgets/output",
            "_model_module_version": "1.0.0",
            "_model_name": "OutputModel",
            "_view_count": null,
            "_view_module": "@jupyter-widgets/output",
            "_view_module_version": "1.0.0",
            "_view_name": "OutputView",
            "layout": "IPY_MODEL_a328cc55a404468a89813e6a757e17cc",
            "msg_id": "",
            "outputs": [
              {
                "output_type": "display_data",
                "data": {
                  "text/plain": "\u001b[32m▰▰▰▱▱▱▱\u001b[0m Thinking...\n\u001b[36m┏━\u001b[0m\u001b[36m Message \u001b[0m\u001b[36m━━━━━━━━━━━━━━━━━━━━━━━━━━━━━━━━━━━━━━━━━━━━━━━━━━━━━━━━━━━━━━━━━━━━━━━━━━━━━━━━━━━━━━━━━━━━━━━━━━━━━━\u001b[0m\u001b[36m━┓\u001b[0m\n\u001b[36m┃\u001b[0m                                                                                                                 \u001b[36m┃\u001b[0m\n\u001b[36m┃\u001b[0m \u001b[32mHow do I make chicken and galangal in coconut milk soup\u001b[0m                                                         \u001b[36m┃\u001b[0m\n\u001b[36m┃\u001b[0m                                                                                                                 \u001b[36m┃\u001b[0m\n\u001b[36m┗━━━━━━━━━━━━━━━━━━━━━━━━━━━━━━━━━━━━━━━━━━━━━━━━━━━━━━━━━━━━━━━━━━━━━━━━━━━━━━━━━━━━━━━━━━━━━━━━━━━━━━━━━━━━━━━━━┛\u001b[0m\n\u001b[34m┏━\u001b[0m\u001b[34m Response (15.2s) \u001b[0m\u001b[34m━━━━━━━━━━━━━━━━━━━━━━━━━━━━━━━━━━━━━━━━━━━━━━━━━━━━━━━━━━━━━━━━━━━━━━━━━━━━━━━━━━━━━━━━━━━━━\u001b[0m\u001b[34m━┓\u001b[0m\n\u001b[34m┃\u001b[0m                                                                                                                 \u001b[34m┃\u001b[0m\n\u001b[34m┃\u001b[0m Running:                                                                                                        \u001b[34m┃\u001b[0m\n\u001b[34m┃\u001b[0m                                                                                                                 \u001b[34m┃\u001b[0m\n\u001b[34m┃\u001b[0m \u001b[1;33m • \u001b[0msearch_knowledge_base(query=chicken galangal coconut milk soup recipe)                                       \u001b[34m┃\u001b[0m\n\u001b[34m┃\u001b[0m                                                                                                                 \u001b[34m┃\u001b[0m\n\u001b[34m┃\u001b[0m Here’s a simple recipe for making chicken and galangal coconut milk soup, also known as \"Tom Kha Gai\" in Thai   \u001b[34m┃\u001b[0m\n\u001b[34m┃\u001b[0m cuisine:                                                                                                        \u001b[34m┃\u001b[0m\n\u001b[34m┃\u001b[0m                                                                                                                 \u001b[34m┃\u001b[0m\n\u001b[34m┃\u001b[0m                                                  \u001b[1mIngredients:\u001b[0m                                                   \u001b[34m┃\u001b[0m\n\u001b[34m┃\u001b[0m                                                                                                                 \u001b[34m┃\u001b[0m\n\u001b[34m┃\u001b[0m \u001b[1;33m • \u001b[0m400g chicken breast, thinly sliced                                                                           \u001b[34m┃\u001b[0m\n\u001b[34m┃\u001b[0m \u001b[1;33m • \u001b[0m2 cups coconut milk                                                                                          \u001b[34m┃\u001b[0m\n\u001b[34m┃\u001b[0m \u001b[1;33m • \u001b[0m2 cups chicken broth                                                                                         \u001b[34m┃\u001b[0m\n\u001b[34m┃\u001b[0m \u001b[1;33m • \u001b[0m2-3 slices of fresh galangal (or ginger)                                                                     \u001b[34m┃\u001b[0m\n\u001b[34m┃\u001b[0m \u001b[1;33m • \u001b[0m2-3 stalks of lemongrass, cut into 2-inch pieces and smashed                                                 \u001b[34m┃\u001b[0m\n\u001b[34m┃\u001b[0m \u001b[1;33m • \u001b[0m3-4 kaffir lime leaves, torn into pieces                                                                     \u001b[34m┃\u001b[0m\n\u001b[34m┃\u001b[0m \u001b[1;33m • \u001b[0m200g mushrooms, sliced                                                                                       \u001b[34m┃\u001b[0m\n\u001b[34m┃\u001b[0m \u001b[1;33m • \u001b[0m2-3 Thai bird's eye chilies, smashed (adjust to taste)                                                       \u001b[34m┃\u001b[0m\n\u001b[34m┃\u001b[0m \u001b[1;33m • \u001b[0m2 tablespoons fish sauce                                                                                     \u001b[34m┃\u001b[0m\n\u001b[34m┃\u001b[0m \u001b[1;33m • \u001b[0m1 tablespoon lime juice (adjust to taste)                                                                    \u001b[34m┃\u001b[0m\n\u001b[34m┃\u001b[0m \u001b[1;33m • \u001b[0mFresh cilantro leaves for garnish                                                                            \u001b[34m┃\u001b[0m\n\u001b[34m┃\u001b[0m \u001b[1;33m • \u001b[0mOptional: sliced green onions or fresh chili for garnish                                                     \u001b[34m┃\u001b[0m\n\u001b[34m┃\u001b[0m                                                                                                                 \u001b[34m┃\u001b[0m\n\u001b[34m┃\u001b[0m                                                  \u001b[1mInstructions:\u001b[0m                                                  \u001b[34m┃\u001b[0m\n\u001b[34m┃\u001b[0m                                                                                                                 \u001b[34m┃\u001b[0m\n\u001b[34m┃\u001b[0m \u001b[1;33m 1 \u001b[0m\u001b[1mPrepare the Broth:\u001b[0m                                                                                           \u001b[34m┃\u001b[0m\n\u001b[34m┃\u001b[0m \u001b[1;33m   \u001b[0m\u001b[1;33m • \u001b[0mIn a pot, combine the coconut milk and chicken broth. Bring it to a gentle simmer over medium heat.       \u001b[34m┃\u001b[0m\n\u001b[34m┃\u001b[0m \u001b[1;33m 2 \u001b[0m\u001b[1mAdd Aromatics:\u001b[0m                                                                                               \u001b[34m┃\u001b[0m\n\u001b[34m┃\u001b[0m \u001b[1;33m   \u001b[0m\u001b[1;33m • \u001b[0mAdd the galangal, lemongrass, and kaffir lime leaves to the pot. Let it simmer for about 5-10 minutes to  \u001b[34m┃\u001b[0m\n\u001b[34m┃\u001b[0m \u001b[1;33m   \u001b[0m\u001b[1;33m   \u001b[0minfuse the flavors.                                                                                       \u001b[34m┃\u001b[0m\n\u001b[34m┃\u001b[0m \u001b[1;33m 3 \u001b[0m\u001b[1mCook the Chicken:\u001b[0m                                                                                            \u001b[34m┃\u001b[0m\n\u001b[34m┃\u001b[0m \u001b[1;33m   \u001b[0m\u001b[1;33m • \u001b[0mAdd the sliced chicken to the pot. Cook until the chicken is fully cooked (about 5-7 minutes).            \u001b[34m┃\u001b[0m\n\u001b[34m┃\u001b[0m \u001b[1;33m 4 \u001b[0m\u001b[1mAdd Vegetables:\u001b[0m                                                                                              \u001b[34m┃\u001b[0m\n\u001b[34m┃\u001b[0m \u001b[1;33m   \u001b[0m\u001b[1;33m • \u001b[0mAdd the sliced mushrooms and chilies. Simmer for another 3-5 minutes until the mushrooms are tender.      \u001b[34m┃\u001b[0m\n\u001b[34m┃\u001b[0m \u001b[1;33m 5 \u001b[0m\u001b[1mSeason the Soup:\u001b[0m                                                                                             \u001b[34m┃\u001b[0m\n\u001b[34m┃\u001b[0m \u001b[1;33m   \u001b[0m\u001b[1;33m • \u001b[0mStir in the fish sauce and lime juice. Taste and adjust the seasoning as necessary—add more fish sauce    \u001b[34m┃\u001b[0m\n\u001b[34m┃\u001b[0m \u001b[1;33m   \u001b[0m\u001b[1;33m   \u001b[0mfor saltiness or lime juice for acidity.                                                                  \u001b[34m┃\u001b[0m\n\u001b[34m┃\u001b[0m \u001b[1;33m 6 \u001b[0m\u001b[1mServe:\u001b[0m                                                                                                       \u001b[34m┃\u001b[0m\n\u001b[34m┃\u001b[0m \u001b[1;33m   \u001b[0m\u001b[1;33m • \u001b[0mRemove the soup from heat. Discard the galangal slices, lemongrass, and kaffir lime leaves before         \u001b[34m┃\u001b[0m\n\u001b[34m┃\u001b[0m \u001b[1;33m   \u001b[0m\u001b[1;33m   \u001b[0mserving.                                                                                                  \u001b[34m┃\u001b[0m\n\u001b[34m┃\u001b[0m \u001b[1;33m   \u001b[0m\u001b[1;33m • \u001b[0mLadle the soup into bowls and garnish with fresh cilantro and optional toppings like green onions or      \u001b[34m┃\u001b[0m\n\u001b[34m┃\u001b[0m \u001b[1;33m   \u001b[0m\u001b[1;33m   \u001b[0mchili.                                                                                                    \u001b[34m┃\u001b[0m\n\u001b[34m┃\u001b[0m                                                                                                                 \u001b[34m┃\u001b[0m\n\u001b[34m┃\u001b[0m                                                      \u001b[1mTips:\u001b[0m                                                      \u001b[34m┃\u001b[0m\n\u001b[34m┃\u001b[0m                                                                                                                 \u001b[34m┃\u001b[0m\n\u001b[34m┃\u001b[0m \u001b[1;33m • \u001b[0mAdjust the spiciness to your preference by modifying the number of chilies.                                  \u001b[34m┃\u001b[0m\n\u001b[34m┃\u001b[0m \u001b[1;33m • \u001b[0mYou can add other vegetables like bell peppers or spinach for added nutrition.                               \u001b[34m┃\u001b[0m\n\u001b[34m┃\u001b[0m                                                                                                                 \u001b[34m┃\u001b[0m\n\u001b[34m┃\u001b[0m Enjoy your delicious chicken and galangal coconut milk soup!                                                    \u001b[34m┃\u001b[0m\n\u001b[34m┃\u001b[0m                                                                                                                 \u001b[34m┃\u001b[0m\n\u001b[34m┗━━━━━━━━━━━━━━━━━━━━━━━━━━━━━━━━━━━━━━━━━━━━━━━━━━━━━━━━━━━━━━━━━━━━━━━━━━━━━━━━━━━━━━━━━━━━━━━━━━━━━━━━━━━━━━━━━┛\u001b[0m\n",
                  "text/html": "<pre style=\"white-space:pre;overflow-x:auto;line-height:normal;font-family:Menlo,'DejaVu Sans Mono',consolas,'Courier New',monospace\"><span style=\"color: #008000; text-decoration-color: #008000\">▰▰▰▱▱▱▱</span> Thinking...\n<span style=\"color: #008080; text-decoration-color: #008080\">┏━ Message ━━━━━━━━━━━━━━━━━━━━━━━━━━━━━━━━━━━━━━━━━━━━━━━━━━━━━━━━━━━━━━━━━━━━━━━━━━━━━━━━━━━━━━━━━━━━━━━━━━━━━━━┓</span>\n<span style=\"color: #008080; text-decoration-color: #008080\">┃</span>                                                                                                                 <span style=\"color: #008080; text-decoration-color: #008080\">┃</span>\n<span style=\"color: #008080; text-decoration-color: #008080\">┃</span> <span style=\"color: #008000; text-decoration-color: #008000\">How do I make chicken and galangal in coconut milk soup</span>                                                         <span style=\"color: #008080; text-decoration-color: #008080\">┃</span>\n<span style=\"color: #008080; text-decoration-color: #008080\">┃</span>                                                                                                                 <span style=\"color: #008080; text-decoration-color: #008080\">┃</span>\n<span style=\"color: #008080; text-decoration-color: #008080\">┗━━━━━━━━━━━━━━━━━━━━━━━━━━━━━━━━━━━━━━━━━━━━━━━━━━━━━━━━━━━━━━━━━━━━━━━━━━━━━━━━━━━━━━━━━━━━━━━━━━━━━━━━━━━━━━━━━┛</span>\n<span style=\"color: #000080; text-decoration-color: #000080\">┏━ Response (15.2s) ━━━━━━━━━━━━━━━━━━━━━━━━━━━━━━━━━━━━━━━━━━━━━━━━━━━━━━━━━━━━━━━━━━━━━━━━━━━━━━━━━━━━━━━━━━━━━━┓</span>\n<span style=\"color: #000080; text-decoration-color: #000080\">┃</span>                                                                                                                 <span style=\"color: #000080; text-decoration-color: #000080\">┃</span>\n<span style=\"color: #000080; text-decoration-color: #000080\">┃</span> Running:                                                                                                        <span style=\"color: #000080; text-decoration-color: #000080\">┃</span>\n<span style=\"color: #000080; text-decoration-color: #000080\">┃</span>                                                                                                                 <span style=\"color: #000080; text-decoration-color: #000080\">┃</span>\n<span style=\"color: #000080; text-decoration-color: #000080\">┃</span> <span style=\"color: #808000; text-decoration-color: #808000; font-weight: bold\"> • </span>search_knowledge_base(query=chicken galangal coconut milk soup recipe)                                       <span style=\"color: #000080; text-decoration-color: #000080\">┃</span>\n<span style=\"color: #000080; text-decoration-color: #000080\">┃</span>                                                                                                                 <span style=\"color: #000080; text-decoration-color: #000080\">┃</span>\n<span style=\"color: #000080; text-decoration-color: #000080\">┃</span> Here’s a simple recipe for making chicken and galangal coconut milk soup, also known as \"Tom Kha Gai\" in Thai   <span style=\"color: #000080; text-decoration-color: #000080\">┃</span>\n<span style=\"color: #000080; text-decoration-color: #000080\">┃</span> cuisine:                                                                                                        <span style=\"color: #000080; text-decoration-color: #000080\">┃</span>\n<span style=\"color: #000080; text-decoration-color: #000080\">┃</span>                                                                                                                 <span style=\"color: #000080; text-decoration-color: #000080\">┃</span>\n<span style=\"color: #000080; text-decoration-color: #000080\">┃</span>                                                  <span style=\"font-weight: bold\">Ingredients:</span>                                                   <span style=\"color: #000080; text-decoration-color: #000080\">┃</span>\n<span style=\"color: #000080; text-decoration-color: #000080\">┃</span>                                                                                                                 <span style=\"color: #000080; text-decoration-color: #000080\">┃</span>\n<span style=\"color: #000080; text-decoration-color: #000080\">┃</span> <span style=\"color: #808000; text-decoration-color: #808000; font-weight: bold\"> • </span>400g chicken breast, thinly sliced                                                                           <span style=\"color: #000080; text-decoration-color: #000080\">┃</span>\n<span style=\"color: #000080; text-decoration-color: #000080\">┃</span> <span style=\"color: #808000; text-decoration-color: #808000; font-weight: bold\"> • </span>2 cups coconut milk                                                                                          <span style=\"color: #000080; text-decoration-color: #000080\">┃</span>\n<span style=\"color: #000080; text-decoration-color: #000080\">┃</span> <span style=\"color: #808000; text-decoration-color: #808000; font-weight: bold\"> • </span>2 cups chicken broth                                                                                         <span style=\"color: #000080; text-decoration-color: #000080\">┃</span>\n<span style=\"color: #000080; text-decoration-color: #000080\">┃</span> <span style=\"color: #808000; text-decoration-color: #808000; font-weight: bold\"> • </span>2-3 slices of fresh galangal (or ginger)                                                                     <span style=\"color: #000080; text-decoration-color: #000080\">┃</span>\n<span style=\"color: #000080; text-decoration-color: #000080\">┃</span> <span style=\"color: #808000; text-decoration-color: #808000; font-weight: bold\"> • </span>2-3 stalks of lemongrass, cut into 2-inch pieces and smashed                                                 <span style=\"color: #000080; text-decoration-color: #000080\">┃</span>\n<span style=\"color: #000080; text-decoration-color: #000080\">┃</span> <span style=\"color: #808000; text-decoration-color: #808000; font-weight: bold\"> • </span>3-4 kaffir lime leaves, torn into pieces                                                                     <span style=\"color: #000080; text-decoration-color: #000080\">┃</span>\n<span style=\"color: #000080; text-decoration-color: #000080\">┃</span> <span style=\"color: #808000; text-decoration-color: #808000; font-weight: bold\"> • </span>200g mushrooms, sliced                                                                                       <span style=\"color: #000080; text-decoration-color: #000080\">┃</span>\n<span style=\"color: #000080; text-decoration-color: #000080\">┃</span> <span style=\"color: #808000; text-decoration-color: #808000; font-weight: bold\"> • </span>2-3 Thai bird's eye chilies, smashed (adjust to taste)                                                       <span style=\"color: #000080; text-decoration-color: #000080\">┃</span>\n<span style=\"color: #000080; text-decoration-color: #000080\">┃</span> <span style=\"color: #808000; text-decoration-color: #808000; font-weight: bold\"> • </span>2 tablespoons fish sauce                                                                                     <span style=\"color: #000080; text-decoration-color: #000080\">┃</span>\n<span style=\"color: #000080; text-decoration-color: #000080\">┃</span> <span style=\"color: #808000; text-decoration-color: #808000; font-weight: bold\"> • </span>1 tablespoon lime juice (adjust to taste)                                                                    <span style=\"color: #000080; text-decoration-color: #000080\">┃</span>\n<span style=\"color: #000080; text-decoration-color: #000080\">┃</span> <span style=\"color: #808000; text-decoration-color: #808000; font-weight: bold\"> • </span>Fresh cilantro leaves for garnish                                                                            <span style=\"color: #000080; text-decoration-color: #000080\">┃</span>\n<span style=\"color: #000080; text-decoration-color: #000080\">┃</span> <span style=\"color: #808000; text-decoration-color: #808000; font-weight: bold\"> • </span>Optional: sliced green onions or fresh chili for garnish                                                     <span style=\"color: #000080; text-decoration-color: #000080\">┃</span>\n<span style=\"color: #000080; text-decoration-color: #000080\">┃</span>                                                                                                                 <span style=\"color: #000080; text-decoration-color: #000080\">┃</span>\n<span style=\"color: #000080; text-decoration-color: #000080\">┃</span>                                                  <span style=\"font-weight: bold\">Instructions:</span>                                                  <span style=\"color: #000080; text-decoration-color: #000080\">┃</span>\n<span style=\"color: #000080; text-decoration-color: #000080\">┃</span>                                                                                                                 <span style=\"color: #000080; text-decoration-color: #000080\">┃</span>\n<span style=\"color: #000080; text-decoration-color: #000080\">┃</span> <span style=\"color: #808000; text-decoration-color: #808000; font-weight: bold\"> 1 </span><span style=\"font-weight: bold\">Prepare the Broth:</span>                                                                                           <span style=\"color: #000080; text-decoration-color: #000080\">┃</span>\n<span style=\"color: #000080; text-decoration-color: #000080\">┃</span> <span style=\"color: #808000; text-decoration-color: #808000; font-weight: bold\">    • </span>In a pot, combine the coconut milk and chicken broth. Bring it to a gentle simmer over medium heat.       <span style=\"color: #000080; text-decoration-color: #000080\">┃</span>\n<span style=\"color: #000080; text-decoration-color: #000080\">┃</span> <span style=\"color: #808000; text-decoration-color: #808000; font-weight: bold\"> 2 </span><span style=\"font-weight: bold\">Add Aromatics:</span>                                                                                               <span style=\"color: #000080; text-decoration-color: #000080\">┃</span>\n<span style=\"color: #000080; text-decoration-color: #000080\">┃</span> <span style=\"color: #808000; text-decoration-color: #808000; font-weight: bold\">    • </span>Add the galangal, lemongrass, and kaffir lime leaves to the pot. Let it simmer for about 5-10 minutes to  <span style=\"color: #000080; text-decoration-color: #000080\">┃</span>\n<span style=\"color: #000080; text-decoration-color: #000080\">┃</span> <span style=\"color: #808000; text-decoration-color: #808000; font-weight: bold\">      </span>infuse the flavors.                                                                                       <span style=\"color: #000080; text-decoration-color: #000080\">┃</span>\n<span style=\"color: #000080; text-decoration-color: #000080\">┃</span> <span style=\"color: #808000; text-decoration-color: #808000; font-weight: bold\"> 3 </span><span style=\"font-weight: bold\">Cook the Chicken:</span>                                                                                            <span style=\"color: #000080; text-decoration-color: #000080\">┃</span>\n<span style=\"color: #000080; text-decoration-color: #000080\">┃</span> <span style=\"color: #808000; text-decoration-color: #808000; font-weight: bold\">    • </span>Add the sliced chicken to the pot. Cook until the chicken is fully cooked (about 5-7 minutes).            <span style=\"color: #000080; text-decoration-color: #000080\">┃</span>\n<span style=\"color: #000080; text-decoration-color: #000080\">┃</span> <span style=\"color: #808000; text-decoration-color: #808000; font-weight: bold\"> 4 </span><span style=\"font-weight: bold\">Add Vegetables:</span>                                                                                              <span style=\"color: #000080; text-decoration-color: #000080\">┃</span>\n<span style=\"color: #000080; text-decoration-color: #000080\">┃</span> <span style=\"color: #808000; text-decoration-color: #808000; font-weight: bold\">    • </span>Add the sliced mushrooms and chilies. Simmer for another 3-5 minutes until the mushrooms are tender.      <span style=\"color: #000080; text-decoration-color: #000080\">┃</span>\n<span style=\"color: #000080; text-decoration-color: #000080\">┃</span> <span style=\"color: #808000; text-decoration-color: #808000; font-weight: bold\"> 5 </span><span style=\"font-weight: bold\">Season the Soup:</span>                                                                                             <span style=\"color: #000080; text-decoration-color: #000080\">┃</span>\n<span style=\"color: #000080; text-decoration-color: #000080\">┃</span> <span style=\"color: #808000; text-decoration-color: #808000; font-weight: bold\">    • </span>Stir in the fish sauce and lime juice. Taste and adjust the seasoning as necessary—add more fish sauce    <span style=\"color: #000080; text-decoration-color: #000080\">┃</span>\n<span style=\"color: #000080; text-decoration-color: #000080\">┃</span> <span style=\"color: #808000; text-decoration-color: #808000; font-weight: bold\">      </span>for saltiness or lime juice for acidity.                                                                  <span style=\"color: #000080; text-decoration-color: #000080\">┃</span>\n<span style=\"color: #000080; text-decoration-color: #000080\">┃</span> <span style=\"color: #808000; text-decoration-color: #808000; font-weight: bold\"> 6 </span><span style=\"font-weight: bold\">Serve:</span>                                                                                                       <span style=\"color: #000080; text-decoration-color: #000080\">┃</span>\n<span style=\"color: #000080; text-decoration-color: #000080\">┃</span> <span style=\"color: #808000; text-decoration-color: #808000; font-weight: bold\">    • </span>Remove the soup from heat. Discard the galangal slices, lemongrass, and kaffir lime leaves before         <span style=\"color: #000080; text-decoration-color: #000080\">┃</span>\n<span style=\"color: #000080; text-decoration-color: #000080\">┃</span> <span style=\"color: #808000; text-decoration-color: #808000; font-weight: bold\">      </span>serving.                                                                                                  <span style=\"color: #000080; text-decoration-color: #000080\">┃</span>\n<span style=\"color: #000080; text-decoration-color: #000080\">┃</span> <span style=\"color: #808000; text-decoration-color: #808000; font-weight: bold\">    • </span>Ladle the soup into bowls and garnish with fresh cilantro and optional toppings like green onions or      <span style=\"color: #000080; text-decoration-color: #000080\">┃</span>\n<span style=\"color: #000080; text-decoration-color: #000080\">┃</span> <span style=\"color: #808000; text-decoration-color: #808000; font-weight: bold\">      </span>chili.                                                                                                    <span style=\"color: #000080; text-decoration-color: #000080\">┃</span>\n<span style=\"color: #000080; text-decoration-color: #000080\">┃</span>                                                                                                                 <span style=\"color: #000080; text-decoration-color: #000080\">┃</span>\n<span style=\"color: #000080; text-decoration-color: #000080\">┃</span>                                                      <span style=\"font-weight: bold\">Tips:</span>                                                      <span style=\"color: #000080; text-decoration-color: #000080\">┃</span>\n<span style=\"color: #000080; text-decoration-color: #000080\">┃</span>                                                                                                                 <span style=\"color: #000080; text-decoration-color: #000080\">┃</span>\n<span style=\"color: #000080; text-decoration-color: #000080\">┃</span> <span style=\"color: #808000; text-decoration-color: #808000; font-weight: bold\"> • </span>Adjust the spiciness to your preference by modifying the number of chilies.                                  <span style=\"color: #000080; text-decoration-color: #000080\">┃</span>\n<span style=\"color: #000080; text-decoration-color: #000080\">┃</span> <span style=\"color: #808000; text-decoration-color: #808000; font-weight: bold\"> • </span>You can add other vegetables like bell peppers or spinach for added nutrition.                               <span style=\"color: #000080; text-decoration-color: #000080\">┃</span>\n<span style=\"color: #000080; text-decoration-color: #000080\">┃</span>                                                                                                                 <span style=\"color: #000080; text-decoration-color: #000080\">┃</span>\n<span style=\"color: #000080; text-decoration-color: #000080\">┃</span> Enjoy your delicious chicken and galangal coconut milk soup!                                                    <span style=\"color: #000080; text-decoration-color: #000080\">┃</span>\n<span style=\"color: #000080; text-decoration-color: #000080\">┃</span>                                                                                                                 <span style=\"color: #000080; text-decoration-color: #000080\">┃</span>\n<span style=\"color: #000080; text-decoration-color: #000080\">┗━━━━━━━━━━━━━━━━━━━━━━━━━━━━━━━━━━━━━━━━━━━━━━━━━━━━━━━━━━━━━━━━━━━━━━━━━━━━━━━━━━━━━━━━━━━━━━━━━━━━━━━━━━━━━━━━━┛</span>\n</pre>\n"
                },
                "metadata": {}
              }
            ]
          }
        },
        "a328cc55a404468a89813e6a757e17cc": {
          "model_module": "@jupyter-widgets/base",
          "model_name": "LayoutModel",
          "model_module_version": "1.2.0",
          "state": {
            "_model_module": "@jupyter-widgets/base",
            "_model_module_version": "1.2.0",
            "_model_name": "LayoutModel",
            "_view_count": null,
            "_view_module": "@jupyter-widgets/base",
            "_view_module_version": "1.2.0",
            "_view_name": "LayoutView",
            "align_content": null,
            "align_items": null,
            "align_self": null,
            "border": null,
            "bottom": null,
            "display": null,
            "flex": null,
            "flex_flow": null,
            "grid_area": null,
            "grid_auto_columns": null,
            "grid_auto_flow": null,
            "grid_auto_rows": null,
            "grid_column": null,
            "grid_gap": null,
            "grid_row": null,
            "grid_template_areas": null,
            "grid_template_columns": null,
            "grid_template_rows": null,
            "height": null,
            "justify_content": null,
            "justify_items": null,
            "left": null,
            "margin": null,
            "max_height": null,
            "max_width": null,
            "min_height": null,
            "min_width": null,
            "object_fit": null,
            "object_position": null,
            "order": null,
            "overflow": null,
            "overflow_x": null,
            "overflow_y": null,
            "padding": null,
            "right": null,
            "top": null,
            "visibility": null,
            "width": null
          }
        }
      }
    }
  },
  "cells": [
    {
      "cell_type": "markdown",
      "metadata": {
        "id": "view-in-github",
        "colab_type": "text"
      },
      "source": [
        "<a href=\"https://colab.research.google.com/github/Rizwankaka/Agentic-AI-/blob/main/Datafy_Workshop/Phidata/phidata_simple_rag_agent.ipynb\" target=\"_parent\"><img src=\"https://colab.research.google.com/assets/colab-badge.svg\" alt=\"Open In Colab\"/></a>"
      ]
    },
    {
      "cell_type": "code",
      "execution_count": 12,
      "metadata": {
        "id": "eOTnc7mfZXLN"
      },
      "outputs": [],
      "source": [
        "%pip install -qU phidata openai lancedb tantivy pypdf sqlalchemy"
      ]
    },
    {
      "cell_type": "code",
      "source": [
        "import os\n",
        "from google.colab import userdata\n",
        "os.environ['OPENAI_API_KEY'] = userdata.get('OPENAI_API_KEY')"
      ],
      "metadata": {
        "id": "ljbOmkbTZnLx"
      },
      "execution_count": 13,
      "outputs": []
    },
    {
      "cell_type": "code",
      "source": [
        "from phi.agent import Agent\n",
        "from phi.model.openai import OpenAIChat\n",
        "from phi.embedder.openai import OpenAIEmbedder\n",
        "from phi.knowledge.pdf import PDFUrlKnowledgeBase\n",
        "from phi.vectordb.lancedb import LanceDb, SearchType\n",
        "\n",
        "# Create a knowledge base from a PDF\n",
        "knowledge_base = PDFUrlKnowledgeBase(\n",
        "    urls=[\"https://phi-public.s3.amazonaws.com/recipes/ThaiRecipes.pdf\"],\n",
        "    # Use LanceDB as the vector database\n",
        "    vector_db=LanceDb(\n",
        "        table_name=\"recipes\",\n",
        "        uri=\"tmp/lancedb\",\n",
        "        search_type=SearchType.vector,\n",
        "        embedder=OpenAIEmbedder(model=\"text-embedding-3-small\"),\n",
        "    ),\n",
        ")\n",
        "# Comment out after first run as the knowledge base is loaded\n",
        "knowledge_base.load(recreate=False)\n",
        "\n",
        "agent = Agent(\n",
        "    model=OpenAIChat(id=\"gpt-4o-mini\"),\n",
        "    # Add the knowledge base to the agent\n",
        "    knowledge=knowledge_base,\n",
        "    show_tool_calls=True,\n",
        "    markdown=True,\n",
        ")\n",
        "agent.print_response(\"How do I make chicken and galangal in coconut milk soup\", stream=True)\n"
      ],
      "metadata": {
        "colab": {
          "base_uri": "https://localhost:8080/",
          "height": 1000,
          "referenced_widgets": [
            "78dc0a442cb0473cb613c121019be1f0",
            "a328cc55a404468a89813e6a757e17cc"
          ]
        },
        "id": "Fy9AOSdrZuJ2",
        "outputId": "5e8d3894-1922-4be5-9216-07c667c71473"
      },
      "execution_count": 14,
      "outputs": [
        {
          "output_type": "display_data",
          "data": {
            "text/plain": [
              "\u001b[34mINFO    \u001b[0m Creating collection                                                                                       \n"
            ],
            "text/html": [
              "<pre style=\"white-space:pre;overflow-x:auto;line-height:normal;font-family:Menlo,'DejaVu Sans Mono',consolas,'Courier New',monospace\"><span style=\"color: #000080; text-decoration-color: #000080\">INFO    </span> Creating collection                                                                                       \n",
              "</pre>\n"
            ]
          },
          "metadata": {}
        },
        {
          "output_type": "display_data",
          "data": {
            "text/plain": [
              "\u001b[34mINFO    \u001b[0m Loading knowledge base                                                                                    \n"
            ],
            "text/html": [
              "<pre style=\"white-space:pre;overflow-x:auto;line-height:normal;font-family:Menlo,'DejaVu Sans Mono',consolas,'Courier New',monospace\"><span style=\"color: #000080; text-decoration-color: #000080\">INFO    </span> Loading knowledge base                                                                                    \n",
              "</pre>\n"
            ]
          },
          "metadata": {}
        },
        {
          "output_type": "display_data",
          "data": {
            "text/plain": [
              "\u001b[34mINFO    \u001b[0m Reading: \u001b[4;94mhttps://phi-public.s3.amazonaws.com/recipes/ThaiRecipes.pdf\u001b[0m                                      \n"
            ],
            "text/html": [
              "<pre style=\"white-space:pre;overflow-x:auto;line-height:normal;font-family:Menlo,'DejaVu Sans Mono',consolas,'Courier New',monospace\"><span style=\"color: #000080; text-decoration-color: #000080\">INFO    </span> Reading: <span style=\"color: #0000ff; text-decoration-color: #0000ff; text-decoration: underline\">https://phi-public.s3.amazonaws.com/recipes/ThaiRecipes.pdf</span>                                      \n",
              "</pre>\n"
            ]
          },
          "metadata": {}
        },
        {
          "output_type": "display_data",
          "data": {
            "text/plain": [
              "\u001b[34mINFO    \u001b[0m Added \u001b[1;36m0\u001b[0m documents to knowledge base                                                                       \n"
            ],
            "text/html": [
              "<pre style=\"white-space:pre;overflow-x:auto;line-height:normal;font-family:Menlo,'DejaVu Sans Mono',consolas,'Courier New',monospace\"><span style=\"color: #000080; text-decoration-color: #000080\">INFO    </span> Added <span style=\"color: #008080; text-decoration-color: #008080; font-weight: bold\">0</span> documents to knowledge base                                                                       \n",
              "</pre>\n"
            ]
          },
          "metadata": {}
        },
        {
          "output_type": "display_data",
          "data": {
            "text/plain": [
              "Output()"
            ],
            "application/vnd.jupyter.widget-view+json": {
              "version_major": 2,
              "version_minor": 0,
              "model_id": "78dc0a442cb0473cb613c121019be1f0"
            }
          },
          "metadata": {}
        },
        {
          "output_type": "display_data",
          "data": {
            "text/plain": [
              "\u001b[1;31mERROR   \u001b[0m Error searching for documents: lance error: Invalid user input: query \u001b[1;35mdim\u001b[0m\u001b[1m(\u001b[0m\u001b[1;36m1536\u001b[0m\u001b[1m)\u001b[0m doesn't match the column  \n",
              "         vector vector \u001b[1;35mdim\u001b[0m\u001b[1m(\u001b[0m\u001b[1;36m768\u001b[0m\u001b[1m)\u001b[0m,                                                                                   \n",
              "         \u001b[35m/root/.cargo/registry/src/index.crates.io-6f17d22bba15001f/lance-0.22.0/src/dataset/\u001b[0m\u001b[95mscanner.rs\u001b[0m:\u001b[1;92m717:25\u001b[0m     \n"
            ],
            "text/html": [
              "<pre style=\"white-space:pre;overflow-x:auto;line-height:normal;font-family:Menlo,'DejaVu Sans Mono',consolas,'Courier New',monospace\"><span style=\"color: #800000; text-decoration-color: #800000; font-weight: bold\">ERROR   </span> Error searching for documents: lance error: Invalid user input: query <span style=\"color: #800080; text-decoration-color: #800080; font-weight: bold\">dim</span><span style=\"font-weight: bold\">(</span><span style=\"color: #008080; text-decoration-color: #008080; font-weight: bold\">1536</span><span style=\"font-weight: bold\">)</span> doesn't match the column  \n",
              "         vector vector <span style=\"color: #800080; text-decoration-color: #800080; font-weight: bold\">dim</span><span style=\"font-weight: bold\">(</span><span style=\"color: #008080; text-decoration-color: #008080; font-weight: bold\">768</span><span style=\"font-weight: bold\">)</span>,                                                                                   \n",
              "         <span style=\"color: #800080; text-decoration-color: #800080\">/root/.cargo/registry/src/index.crates.io-6f17d22bba15001f/lance-0.22.0/src/dataset/</span><span style=\"color: #ff00ff; text-decoration-color: #ff00ff\">scanner.rs</span>:<span style=\"color: #00ff00; text-decoration-color: #00ff00; font-weight: bold\">717:25</span>     \n",
              "</pre>\n"
            ]
          },
          "metadata": {}
        },
        {
          "output_type": "display_data",
          "data": {
            "text/plain": [],
            "text/html": [
              "<pre style=\"white-space:pre;overflow-x:auto;line-height:normal;font-family:Menlo,'DejaVu Sans Mono',consolas,'Courier New',monospace\"></pre>\n"
            ]
          },
          "metadata": {}
        }
      ]
    }
  ]
}