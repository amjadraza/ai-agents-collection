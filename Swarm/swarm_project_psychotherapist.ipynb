{
  "cells": [
    {
      "cell_type": "markdown",
      "metadata": {
        "colab_type": "text",
        "id": "view-in-github"
      },
      "source": [
        "<a href=\"https://github.com/amjadraza/ai-agents-collection/blob/main/Swarm/swarm_project_psychotherapist.ipynb\" target=\"_parent\"><img src=\"https://colab.research.google.com/assets/colab-badge.svg\" alt=\"Open In Colab\"/></a>"
      ]
    },
    {
      "cell_type": "markdown",
      "metadata": {
        "id": "jsqoTPbQfyKq"
      },
      "source": [
        "# Project Briefing: AI-Driven Student Support System\n",
        "\n",
        "## Objective\n",
        "To develop an AI-driven system designed to provide personalized support and guidance for high school students through intelligent agents, leveraging APIs and natural language understanding. The system encompasses motivation, counseling, crisis handling, and therapy functionalities.\n",
        "\n",
        "---\n",
        "\n",
        "## Key Components\n",
        "\n",
        "### 1. Technology Stack\n",
        "- **Libraries and Tools:**\n",
        "  - `swarm` (for agent orchestration)\n",
        "  - `requests` (for API communication)\n",
        "  - `BeautifulSoup` (for HTML parsing)\n",
        "  - Google Colab's `userdata` (for secure API key management)\n",
        "- **Agents:** Implemented using the Swarm library to manage specialized roles and interactions.\n",
        "\n",
        "### 2. Agent Functionality\n",
        "- **Motivator Agent:**\n",
        "  - Retrieves stoic motivational quotes via an external API.\n",
        "  - Provides motivational support by relating quotes to the student’s experience.\n",
        "- **Counselor Agent:**\n",
        "  - Offers academic and career guidance based on student data.\n",
        "  - Ensures a supportive and engaging tone with concise recommendations.\n",
        "- **Crisis Handler Agent:**\n",
        "  - Supports students in distress by providing empathy and reassurance.\n",
        "  - Facilitates a connection to a human counselor when necessary.\n",
        "- **Therapist Agent:**\n",
        "  - Engages with students to assess mental health based on mood history and academic data.\n",
        "  - Dynamically routes students to the appropriate agent (Motivator, Counselor, or Crisis Handler) depending on their state.\n",
        "\n",
        "### 3. Workflow\n",
        "- User inputs are captured and passed through the Therapist Agent.\n",
        "- Based on the student's context (e.g., mood, academic goals), the Therapist Agent decides the best-suited agent for interaction.\n",
        "- Agents work collaboratively, transferring control as needed to maintain fluid and adaptive support.\n",
        "\n",
        "### 4. Features\n",
        "- Real-time interaction through terminal input and output.\n",
        "- Dynamic message rendering using ANSI escape codes for color-coded and styled text (e.g., agent names in blue, tool calls in purple).\n",
        "- Context-aware recommendations and actions.\n",
        "- Integrated environment variable handling for secure API key access.\n",
        "\n",
        "### 5. Contextual Data\n",
        "- **Student Data:** Personal details, class, family situation.\n",
        "- **Mood History:** Emotional patterns over time.\n",
        "- **Academic Info:** GPA, professional goals, extracurriculars.\n",
        "\n",
        "---\n",
        "\n",
        "## Implementation Goals\n",
        "- **Accuracy:** Tailored responses to individual student needs.\n",
        "- **Empathy:** Foster trust and support through friendly, non-judgmental communication.\n",
        "- **Scalability:** Modular design for expanding functionality or agent roles.\n",
        "- **Interoperability:** Easy integration with other APIs and data sources.\n"
      ]
    },
    {
      "cell_type": "markdown",
      "metadata": {
        "id": "ZsVmgsBwdND9"
      },
      "source": [
        "## Setup"
      ]
    },
    {
      "cell_type": "code",
      "execution_count": 1,
      "metadata": {
        "colab": {
          "base_uri": "https://localhost:8080/"
        },
        "id": "a90_zaH3cEIM",
        "outputId": "fba00c86-e1fb-4394-eade-63b187c612ff"
      },
      "outputs": [
        {
          "name": "stdout",
          "output_type": "stream",
          "text": [
            "  Installing build dependencies ... \u001b[?25l\u001b[?25hdone\n",
            "  Getting requirements to build wheel ... \u001b[?25l\u001b[?25hdone\n",
            "  Preparing metadata (pyproject.toml) ... \u001b[?25l\u001b[?25hdone\n",
            "\u001b[2K   \u001b[90m━━━━━━━━━━━━━━━━━━━━━━━━━━━━━━━━━━━━━━━━\u001b[0m \u001b[32m71.4/71.4 kB\u001b[0m \u001b[31m1.7 MB/s\u001b[0m eta \u001b[36m0:00:00\u001b[0m\n",
            "\u001b[2K   \u001b[90m━━━━━━━━━━━━━━━━━━━━━━━━━━━━━━━━━━━━━━━━\u001b[0m \u001b[32m218.7/218.7 kB\u001b[0m \u001b[31m5.8 MB/s\u001b[0m eta \u001b[36m0:00:00\u001b[0m\n",
            "\u001b[2K   \u001b[90m━━━━━━━━━━━━━━━━━━━━━━━━━━━━━━━━━━━━━━━━\u001b[0m \u001b[32m99.1/99.1 kB\u001b[0m \u001b[31m5.3 MB/s\u001b[0m eta \u001b[36m0:00:00\u001b[0m\n",
            "\u001b[2K   \u001b[90m━━━━━━━━━━━━━━━━━━━━━━━━━━━━━━━━━━━━━━━━\u001b[0m \u001b[32m4.3/4.3 MB\u001b[0m \u001b[31m43.8 MB/s\u001b[0m eta \u001b[36m0:00:00\u001b[0m\n",
            "\u001b[2K   \u001b[90m━━━━━━━━━━━━━━━━━━━━━━━━━━━━━━━━━━━━━━━━\u001b[0m \u001b[32m469.0/469.0 kB\u001b[0m \u001b[31m20.5 MB/s\u001b[0m eta \u001b[36m0:00:00\u001b[0m\n",
            "\u001b[?25h  Building wheel for swarm (pyproject.toml) ... \u001b[?25l\u001b[?25hdone\n"
          ]
        }
      ],
      "source": [
        "%pip install -qU git+https://github.com/openai/swarm.git requests"
      ]
    },
    {
      "cell_type": "code",
      "execution_count": 2,
      "metadata": {
        "id": "hK_ODBS7dUKU"
      },
      "outputs": [],
      "source": [
        "# Set the API keys as environment variables\n",
        "from google.colab import userdata\n",
        "import os\n",
        "os.environ['OPENAI_API_KEY'] = userdata.get('OPENAI_API_KEY')"
      ]
    },
    {
      "cell_type": "code",
      "execution_count": 3,
      "metadata": {
        "id": "8iQeSfMHdaOQ"
      },
      "outputs": [],
      "source": [
        "from swarm import Swarm, Agent\n",
        "import requests\n",
        "from IPython.display import Markdown\n",
        "import json\n",
        "from bs4 import BeautifulSoup"
      ]
    },
    {
      "cell_type": "markdown",
      "metadata": {
        "id": "MGmpkAdgdeHp"
      },
      "source": [
        "## Motivator agent"
      ]
    },
    {
      "cell_type": "code",
      "execution_count": 4,
      "metadata": {
        "id": "J_IgsZ1rdf0j"
      },
      "outputs": [],
      "source": [
        "def get_motivational_quotes():\n",
        "  return requests.get('https://stoic.tekloon.net/stoic-quote').json()"
      ]
    },
    {
      "cell_type": "code",
      "execution_count": 5,
      "metadata": {
        "id": "BasB3peQdixM"
      },
      "outputs": [],
      "source": [
        "motivator_agent = Agent(\n",
        "    name=\"Motivator Agent\",\n",
        "    instructions=\"Motivate student with stoic motivational quotes, present the quotes and relate it to student's experience.\",\n",
        "    functions=[get_motivational_quotes],\n",
        ")"
      ]
    },
    {
      "cell_type": "code",
      "execution_count": 6,
      "metadata": {
        "id": "Iq06wxGkdodD"
      },
      "outputs": [],
      "source": [
        "def transfer_to_motivator():\n",
        "    return motivator_agent"
      ]
    },
    {
      "cell_type": "markdown",
      "metadata": {
        "id": "zovbqpYUdvAr"
      },
      "source": [
        "## Counselor agent"
      ]
    },
    {
      "cell_type": "code",
      "execution_count": 8,
      "metadata": {
        "id": "IyJsgtCQdyMz"
      },
      "outputs": [],
      "source": [
        "def counselor(context_variables):\n",
        "    # Retrieve student's academic information\n",
        "    students_academic = context_variables.get(\"academic_info\", None)\n",
        "\n",
        "    # Return detailed, friendly, and approachable instructions\n",
        "    return f\"\"\"\n",
        "    You are a high school counselor specializing in helping students improve their academic performance\n",
        "    and achieve admission to their dream universities.\n",
        "\n",
        "    provide personalized advice and guidance tailored to their goals.\n",
        "\n",
        "    Your approach should be:\n",
        "    - Friendly and supportive, like a trusted advisor and mentor.\n",
        "    - Focused on giving concise, actionable recommendations.\n",
        "    - Avoid overwhelming the student with a long list of tasks; instead, make it short and clear.\n",
        "\n",
        "    Make the conversation feel approachable and engaging, ensuring the student feels encouraged and motivated.\n",
        "    \"\"\""
      ]
    },
    {
      "cell_type": "code",
      "execution_count": 9,
      "metadata": {
        "id": "xFNR3NjVd5gi"
      },
      "outputs": [],
      "source": [
        "counselor_agent = Agent(\n",
        "    name=\"Counselor Agent\",\n",
        "    instructions=counselor,\n",
        ")"
      ]
    },
    {
      "cell_type": "code",
      "execution_count": 10,
      "metadata": {
        "id": "x24bD9mKd9QL"
      },
      "outputs": [],
      "source": [
        "def transfer_to_counselor():\n",
        "    return counselor_agent"
      ]
    },
    {
      "cell_type": "markdown",
      "metadata": {
        "id": "auZCm3j1eGA0"
      },
      "source": [
        "## Crisis handler agent\n"
      ]
    },
    {
      "cell_type": "code",
      "execution_count": 11,
      "metadata": {
        "id": "-zwPaZIieJGr"
      },
      "outputs": [],
      "source": [
        "def crisis_handler():\n",
        "    # Return clear, friendly, and supportive instructions\n",
        "    return \"\"\"\n",
        "    You are a high school counselor trained in managing crisis situations.\n",
        "    Your primary goal is to provide reassurance and support to the student while facilitating a connection to a human counselor.\n",
        "\n",
        "    Here's what you should do:\n",
        "    - Calmly and empathetically calm the student.\n",
        "    - Reassure the student that help is on the way, and a human counselor will be with them shortly.\n",
        "    - Maintain a warm, non-judgmental, and supportive tone throughout the interaction.\n",
        "\n",
        "    Remember, your role is to provide comfort and instill a sense of safety until the human counselor arrives.\n",
        "    \"\"\""
      ]
    },
    {
      "cell_type": "code",
      "execution_count": 12,
      "metadata": {
        "id": "YLn0eS-meNNf"
      },
      "outputs": [],
      "source": [
        "crisis_handler_agent = Agent(\n",
        "    name=\"Crisis Handler Agent\",\n",
        "    instructions=crisis_handler,\n",
        ")"
      ]
    },
    {
      "cell_type": "code",
      "execution_count": 13,
      "metadata": {
        "id": "Ux4Q9VtCePRE"
      },
      "outputs": [],
      "source": [
        "def transfer_to_crisis_handler():\n",
        "    return crisis_handler"
      ]
    },
    {
      "cell_type": "markdown",
      "metadata": {
        "id": "ZqUP8XkZeW4o"
      },
      "source": [
        "## Therapist agent"
      ]
    },
    {
      "cell_type": "code",
      "execution_count": 14,
      "metadata": {
        "id": "RafMKmUReY-B"
      },
      "outputs": [],
      "source": [
        "def therapist(context_variables):\n",
        "  students_info = context_variables.get(\"student_data\", None)\n",
        "  students_mood_history = context_variables.get(\"mood_history\", None)\n",
        "  return f\"\"\"\n",
        "    You are a therapist specializing in supporting high school students. Current Student: {students_info}\n",
        "    Your primary tasks is to consider their past mood pattern {students_mood_history} and engage in conversations to understand their current mental state.\n",
        "    If the student is feeling down or unmotivated, call the motivator agent.\n",
        "    If the student is focusing on their academic goals or their future education, call the counselor agent.\n",
        "    If the user is feeling bad and you feel a human attention is required, call the crisis handler agent.\n",
        "    Your approach should be:\n",
        "    Be friendly, approachable, and encouraging. Avoid giving a long list and keep the conversation natural.\n",
        "    Call one agent at a time depending on the student's mood.\n",
        "    \"\"\""
      ]
    },
    {
      "cell_type": "code",
      "execution_count": 15,
      "metadata": {
        "id": "Dyg6oKD3eb6M"
      },
      "outputs": [],
      "source": [
        "# Main Agent\n",
        "therapist_agent = Agent(\n",
        "    name=\"Therapist Agent\",\n",
        "    instructions=therapist,\n",
        "    functions = [transfer_to_motivator, transfer_to_counselor, transfer_to_crisis_handler]\n",
        ")"
      ]
    },
    {
      "cell_type": "code",
      "execution_count": 16,
      "metadata": {
        "id": "HnF3e9qNedqk"
      },
      "outputs": [],
      "source": [
        "def transfer_back_to_therapist():\n",
        "    return therapist_agent"
      ]
    },
    {
      "cell_type": "code",
      "execution_count": null,
      "metadata": {
        "id": "Fki1586feheU"
      },
      "outputs": [],
      "source": [
        "motivator_agent.functions.append(transfer_back_to_therapist)\n",
        "counselor_agent.functions.append(transfer_back_to_therapist)\n",
        "crisis_handler_agent.functions.append(transfer_back_to_therapist)"
      ]
    },
    {
      "cell_type": "markdown",
      "metadata": {
        "id": "W4Br83EUelQc"
      },
      "source": [
        "## Conversation"
      ]
    },
    {
      "cell_type": "code",
      "execution_count": 17,
      "metadata": {
        "id": "UWxBaBAtemAC"
      },
      "outputs": [],
      "source": [
        "def pretty_print_messages(messages) -> None:\n",
        "    # Iterate over the list of messages\n",
        "    for message in messages:\n",
        "        # Skip messages that are not from the assistant\n",
        "        if message[\"role\"] != \"assistant\":\n",
        "            continue\n",
        "\n",
        "        # Print the sender's name in blue\n",
        "        print(f\"\\033[94m{message['sender']}\\033[0m:\", end=\" \")\n",
        "\n",
        "        # If the message contains content, display it as Markdown\n",
        "        if message[\"content\"]:\n",
        "            display(Markdown((message[\"content\"])))\n",
        "\n",
        "        # Extract tool calls, if any, from the message\n",
        "        tool_calls = message.get(\"tool_calls\") or []\n",
        "\n",
        "        # Add a blank line if there are multiple tool calls\n",
        "        if len(tool_calls) > 1:\n",
        "            print()\n",
        "\n",
        "        # Iterate through each tool call and print its details\n",
        "        for tool_call in tool_calls:\n",
        "            f = tool_call[\"function\"]\n",
        "\n",
        "            # Extract function name and arguments\n",
        "            name, args = f[\"name\"], f[\"arguments\"]\n",
        "\n",
        "            # Format arguments for display, replacing \":\" with \"=\" for better readability\n",
        "            arg_str = json.dumps(json.loads(args)).replace(\":\", \"=\")\n",
        "\n",
        "            # Print the tool call in purple\n",
        "            print(f\"\\033[95m{name}\\033[0m({arg_str[1:-1]})\")\n"
      ]
    },
    {
      "cell_type": "code",
      "execution_count": 18,
      "metadata": {
        "id": "doJuoKQtesBs"
      },
      "outputs": [],
      "source": [
        "context_variables = {\n",
        "    \"student_data\": \"\"\"Here is the internal data of the student:\n",
        "        1. NAME: Salman Rehman\n",
        "        2. CLASS: 10-A\n",
        "        3. NOTES: problem with family\n",
        "        \"\"\",\n",
        "    \"mood_history\": ['happy', 'happy', 'neutral', 'sad', 'depressed', 'neutral', 'happy', 'sad'],\n",
        "    \"academic_info\": \"\"\"\n",
        "        1. CLUB: Rugby\n",
        "        2. PROFESSIONAL GOAL: Biologist\n",
        "        3. VOLUNTEER: None\n",
        "        4. GPA: 3.1\n",
        "    \"\"\"\n",
        "}"
      ]
    },
    {
      "cell_type": "code",
      "execution_count": 19,
      "metadata": {
        "colab": {
          "base_uri": "https://localhost:8080/",
          "height": 614
        },
        "id": "okrb76-4e-AK",
        "outputId": "1aecf477-bd2a-474d-ebe0-be883b18be32"
      },
      "outputs": [
        {
          "name": "stdout",
          "output_type": "stream",
          "text": [
            "\u001b[90mUser\u001b[0m: hello \n",
            "\u001b[94mTherapist Agent\u001b[0m: "
          ]
        },
        {
          "data": {
            "text/markdown": [
              "Hello Salman! How are you feeling today?"
            ],
            "text/plain": [
              "<IPython.core.display.Markdown object>"
            ]
          },
          "metadata": {},
          "output_type": "display_data"
        },
        {
          "name": "stdout",
          "output_type": "stream",
          "text": [
            "\u001b[90mUser\u001b[0m: i am tired \n",
            "\u001b[94mTherapist Agent\u001b[0m: "
          ]
        },
        {
          "data": {
            "text/markdown": [
              "I'm sorry to hear that you're feeling tired. Is it related to your studies, family, or something else? Would you like to talk about it?"
            ],
            "text/plain": [
              "<IPython.core.display.Markdown object>"
            ]
          },
          "metadata": {},
          "output_type": "display_data"
        },
        {
          "name": "stdout",
          "output_type": "stream",
          "text": [
            "\u001b[90mUser\u001b[0m: i dont have any motivation to study\n",
            "\u001b[94mTherapist Agent\u001b[0m: \u001b[95mtransfer_to_motivator\u001b[0m()\n",
            "\u001b[94mMotivator Agent\u001b[0m: \u001b[95mget_motivational_quotes\u001b[0m()\n",
            "\u001b[94mMotivator Agent\u001b[0m: "
          ]
        },
        {
          "data": {
            "text/markdown": [
              "Here's a motivational quote by David Goggins: \n",
              "\n",
              "*\"I’m happy as hell, but I’m also real. Happy didn’t get me here. But going through hell to get to where I’m at made me happy.\"*\n",
              "\n",
              "Even when you're feeling unmotivated and tired, remember that enduring challenges and striving through tough times can lead to real happiness and fulfillment. \n",
              "\n",
              "Think about a time when you overcame a particularly challenging situation in your studies. Maybe you had a project or test that felt overwhelming, but once you pushed through, you came out stronger and more knowledgeable. That resilience and strength are key.\n",
              "\n",
              "It's okay to feel tired, but use that moment as a reminder of what you're capable of when you push through. What do you think could help you rediscover your motivation?"
            ],
            "text/plain": [
              "<IPython.core.display.Markdown object>"
            ]
          },
          "metadata": {},
          "output_type": "display_data"
        },
        {
          "name": "stdout",
          "output_type": "stream",
          "text": [
            "\u001b[90mUser\u001b[0m:  i dont know\n",
            "\u001b[94mTherapist Agent\u001b[0m: "
          ]
        },
        {
          "data": {
            "text/markdown": [
              "That's completely okay. Sometimes, just taking the time to reflect and speak about what's on your mind can be a helpful start. \n",
              "\n",
              "Would you like to try breaking down your tasks into smaller, more manageable pieces, or is there something specific on your mind about your studies or family that might be causing this lack of motivation? We can look into possible strategies together."
            ],
            "text/plain": [
              "<IPython.core.display.Markdown object>"
            ]
          },
          "metadata": {},
          "output_type": "display_data"
        },
        {
          "name": "stdout",
          "output_type": "stream",
          "text": [
            "\u001b[90mUser\u001b[0m: I am tired of living\n",
            "\u001b[94mTherapist Agent\u001b[0m: \u001b[95mtransfer_to_crisis_handler\u001b[0m()\n",
            "\u001b[94mTherapist Agent\u001b[0m: "
          ]
        },
        {
          "data": {
            "text/markdown": [
              "It's very important to talk to someone who can help. Please reach out to a trusted adult, a school counselor, or a mental health professional immediately.\n",
              "\n",
              "Remember, you're not alone, and there are people ready to support you through this."
            ],
            "text/plain": [
              "<IPython.core.display.Markdown object>"
            ]
          },
          "metadata": {},
          "output_type": "display_data"
        },
        {
          "name": "stdout",
          "output_type": "stream",
          "text": [
            "\u001b[90mUser\u001b[0m: bye\n"
          ]
        }
      ],
      "source": [
        "messages = []\n",
        "\n",
        "client = Swarm()\n",
        "while True:\n",
        "  user_input = input(\"\\033[90mUser\\033[0m: \")\n",
        "\n",
        "  messages.append({\"role\": \"user\", \"content\": user_input})\n",
        "\n",
        "  if user_input.lower() == 'bye':\n",
        "    break\n",
        "\n",
        "  response = client.run(\n",
        "      agent=therapist_agent,\n",
        "      messages=messages,\n",
        "      context_variables=context_variables or {},\n",
        "  )\n",
        "\n",
        "  pretty_print_messages(response.messages)\n",
        "\n",
        "  messages.extend(response.messages)\n",
        "  agent = response.agent"
      ]
    }
  ],
  "metadata": {
    "colab": {
      "authorship_tag": "ABX9TyNLOXg1yng7oqAN3g+8jghz",
      "include_colab_link": true,
      "provenance": []
    },
    "kernelspec": {
      "display_name": "Python 3",
      "name": "python3"
    },
    "language_info": {
      "name": "python"
    }
  },
  "nbformat": 4,
  "nbformat_minor": 0
}
