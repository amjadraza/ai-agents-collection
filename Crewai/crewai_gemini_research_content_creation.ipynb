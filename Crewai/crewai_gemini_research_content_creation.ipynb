{
  "cells": [
    {
      "cell_type": "markdown",
      "metadata": {
        "colab_type": "text",
        "id": "view-in-github"
      },
      "source": [
        "<a href=\"https://github.com/amjadraza/ai-agents-collection/blob/main/Crewai/crewai_gemini_research_content_creation.ipynb\" target=\"_parent\"><img src=\"https://colab.research.google.com/assets/colab-badge.svg\" alt=\"Open In Colab\"/></a>"
      ]
    },
    {
      "cell_type": "markdown",
      "metadata": {
        "id": "Y5WwnLvO8HF-"
      },
      "source": [
        "# **AI-Powered Research and Content Creation with Gemini and CrewAI**\n",
        "\n",
        "\n",
        "---\n",
        "\n",
        "### Introduction:\n",
        " In this notebook, you will learn how to leverage the power of **Google's Gemini** language model and **CrewAI** to automate research and content creation tasks. By combining the capabilities of Gemini for natural language processing and CrewAI for agent-based task management, you can create a system that uncovers groundbreaking technologies and crafts compelling narratives on any given topic.\n",
        "\n",
        "This notebook is designed for developers, researchers, and content creators who want to explore the potential of AI in automating complex workflows. By the end of this notebook, you will have a fully functional AI-powered system that can research trends and generate insightful articles.\n",
        "\n",
        "---\n",
        "\n",
        "### Goal of This Notebook:\n",
        "The goal of this notebook is to demonstrate how to:\n",
        "1. Set up and configure **Google's Gemini** model for natural language tasks.\n",
        "2. Use **CrewAI** to create autonomous agents for research and content creation.\n",
        "3. Automate the process of identifying trends and generating high-quality content on a given topic (e.g., AI in healthcare).\n",
        "4. Provide a reusable template for building AI-powered workflows for research and writing.\n",
        "\n",
        "By the end of this notebook, you will have a working system that can:\n",
        "- Research the latest trends in a specified field.\n",
        "- Generate well-structured, engaging articles based on the research findings.\n",
        "- Save the output as a markdown file for further use.\n",
        "\n",
        "---\n",
        "\n",
        "### Key Features:\n",
        "- **Google Gemini Integration**: Utilize Google's state-of-the-art language model for advanced text generation.\n",
        "- **CrewAI Agents**: Create autonomous agents for research and writing tasks.\n",
        "- **Customizable Workflow**: Easily adapt the system to different topics and industries.\n",
        "- **Markdown Output**: Save generated content in a structured format for further use.\n",
        "\n",
        "Let’s get started! 🚀"
      ]
    },
    {
      "cell_type": "code",
      "execution_count": 44,
      "metadata": {
        "id": "V6BwGcYVlzIz"
      },
      "outputs": [],
      "source": [
        "%pip install -qU crewai crewai_tools langchain-google-genai"
      ]
    },
    {
      "cell_type": "code",
      "execution_count": 45,
      "metadata": {
        "id": "777bkBt9mFzt"
      },
      "outputs": [],
      "source": [
        "import os\n",
        "from google.colab import userdata\n",
        "os.environ[\"GOOGLE_API_KEY\"] = userdata.get('GEMINI_API_KEY')\n",
        "os.environ[\"SERPER_API_KEY\"] = userdata.get('SERPER_API_KEY')"
      ]
    },
    {
      "cell_type": "code",
      "execution_count": 52,
      "metadata": {
        "id": "0BG0AQeDmndG"
      },
      "outputs": [],
      "source": [
        "from crewai import Agent\n",
        "from langchain.tools import tool\n",
        "from crewai import Agent, Task, Crew, Process\n",
        "from crewai_tools import SerperDevTool"
      ]
    },
    {
      "cell_type": "code",
      "execution_count": 47,
      "metadata": {
        "id": "tDJxAs48mjf9"
      },
      "outputs": [],
      "source": [
        "from langchain_google_genai import ChatGoogleGenerativeAI\n",
        "llm: ChatGoogleGenerativeAI = ChatGoogleGenerativeAI(model = \"gemini-1.5-flash\")"
      ]
    },
    {
      "cell_type": "code",
      "execution_count": 48,
      "metadata": {
        "colab": {
          "base_uri": "https://localhost:8080/"
        },
        "id": "HWVpc0KApNHV",
        "outputId": "49a38ed4-ea72-40ef-c408-c3a5a7c56241"
      },
      "outputs": [
        {
          "data": {
            "text/plain": [
              "AIMessage(content='Hi there! How can I help you today?', additional_kwargs={}, response_metadata={'prompt_feedback': {'block_reason': 0, 'safety_ratings': []}, 'finish_reason': 'STOP', 'safety_ratings': []}, id='run-56dfe770-37aa-4a37-a7bc-a38d2beea2b2-0', usage_metadata={'input_tokens': 2, 'output_tokens': 11, 'total_tokens': 13, 'input_token_details': {'cache_read': 0}})"
            ]
          },
          "execution_count": 48,
          "metadata": {},
          "output_type": "execute_result"
        }
      ],
      "source": [
        "llm.invoke('hi')"
      ]
    },
    {
      "cell_type": "code",
      "execution_count": 49,
      "metadata": {
        "colab": {
          "base_uri": "https://localhost:8080/"
        },
        "id": "_MSnITDWtIYa",
        "outputId": "534d6d02-d328-47ad-9b12-9e10cb591d9d"
      },
      "outputs": [
        {
          "name": "stdout",
          "output_type": "stream",
          "text": [
            "model='models/gemini-1.5-flash' google_api_key=SecretStr('**********') client=<google.ai.generativelanguage_v1beta.services.generative_service.client.GenerativeServiceClient object at 0x7d3764208c10> default_metadata=()\n"
          ]
        }
      ],
      "source": [
        "print(llm)"
      ]
    },
    {
      "cell_type": "code",
      "execution_count": 53,
      "metadata": {
        "colab": {
          "base_uri": "https://localhost:8080/"
        },
        "id": "-KJvkuWOtyeg",
        "outputId": "c374d51c-bf11-46c0-fd85-ff27379412bf"
      },
      "outputs": [
        {
          "name": "stderr",
          "output_type": "stream",
          "text": [
            "WARNING:opentelemetry.trace:Overriding of current TracerProvider is not allowed\n"
          ]
        },
        {
          "name": "stdout",
          "output_type": "stream",
          "text": [
            "\u001b[1m\u001b[95m# Agent:\u001b[00m \u001b[1m\u001b[92mSenior Researcher\u001b[00m\n",
            "\u001b[95m## Task:\u001b[00m \u001b[92mIdentify the next big trend in AI in healthcare.Focus on identifying pros and cons and the overall narrative.Your final report should clearly articulate the key points,its market opportunities, and potential risks.\u001b[00m\n",
            "\n",
            "\n",
            "\u001b[1m\u001b[95m# Agent:\u001b[00m \u001b[1m\u001b[92mSenior Researcher\u001b[00m\n",
            "\u001b[95m## Thought:\u001b[00m \u001b[92mThought:To identify the next big trend in AI healthcare, I need to research current advancements and analyze their potential impact.  I'll start by searching the internet for recent breakthroughs and then assess the information gathered to determine the most promising trend.\u001b[00m\n",
            "\u001b[95m## Using tool:\u001b[00m \u001b[92mSearch the internet\u001b[00m\n",
            "\u001b[95m## Tool Input:\u001b[00m \u001b[92m\n",
            "\"{\\\"search_query\\\": \\\"latest advancements in AI healthcare\\\"}\"\u001b[00m\n",
            "\u001b[95m## Tool Output:\u001b[00m \u001b[92m\n",
            "{'searchParameters': {'q': 'latest advancements in AI healthcare', 'type': 'search', 'num': 10, 'engine': 'google'}, 'organic': [{'title': 'Contributed: Nine revolutionary ways AI is advancing healthcare', 'link': 'https://www.mobihealthnews.com/news/contributed-nine-revolutionary-ways-ai-advancing-healthcare', 'snippet': '1. Medical imaging ; 2. Surgery ; 3. Medical research and data analysis ; 4. Drug development ; 5. Early detection of fatal blood diseases.', 'position': 1}, {'title': '4 Advancements From Artificial Intelligence in Health Care', 'link': 'https://www.harvardpilgrim.org/hapiguide/4-ways-ai-technology-is-improving-health-care/', 'snippet': 'Published October 2020 · More accurate, efficient diagnoses · Pain management and personalized care · Disease treatment and reversal · Caregiver support.', 'position': 2}, {'title': 'No longer science fiction, AI and robotics are transforming healthcare', 'link': 'https://www.pwc.com/gx/en/industries/healthcare/publications/ai-robotics-new-health/transforming-healthcare.html', 'snippet': 'Additionally, AI increases the ability for healthcare professionals to better understand the day-to-day patterns and needs of the people they care for, and with ...', 'position': 3}, {'title': 'Delivering on the Promise of AI to Improve Health Outcomes', 'link': 'https://www.whitehouse.gov/briefing-room/blog/2023/12/14/delivering-on-the-promise-of-ai-to-improve-health-outcomes/', 'snippet': 'AI is helping doctors analyze images more quickly and effectively, seeking signs of breast cancer, lung nodules, and many other conditions to ...', 'position': 4}, {'title': 'Future of AI in Healthcare: Trends and Innovations | Cprime', 'link': 'https://www.cprime.com/resources/blog/the-future-of-ai-in-healthcare-trends-and-innovations/', 'snippet': 'AI is enhancing the accuracy and efficiency of diagnostics in healthcare by streamlining workflows, improving precision in CT imaging, accelerating MR image ...', 'position': 5}, {'title': 'How advances in artificial intelligence may change health care', 'link': 'https://www.jpmorgan.com/insights/technology/artificial-intelligence/how-advances-in-artificial-intelligence-may-change-health-care', 'snippet': 'While artificial intelligence can potentially transform health care in general, drug discovery and diagnostics are two areas that may see the largest impacts.', 'position': 6}, {'title': 'How is AI being Used in the Healthcare Industry', 'link': 'https://www.lapu.edu/ai-health-care-industry/', 'snippet': 'AI is important in healthcare for many reasons. The main reason is that healthcare systems can become smarter, faster, and more efficient in providing care.', 'position': 7}, {'title': 'Artificial Intelligence: How is It Changing Medical Sciences and Its ...', 'link': 'https://pmc.ncbi.nlm.nih.gov/articles/PMC7640807/', 'snippet': 'The most recent application of AI in global healthcare is the prediction of emerging hotspots using contact tracing, and flight traveler data to fight off the ...', 'position': 8}, {'title': 'AI in Healthcare: Uses, Examples & Benefits | Built In', 'link': 'https://builtin.com/artificial-intelligence/artificial-intelligence-healthcare', 'snippet': 'From faster diagnoses to robot-assisted surgeries, the adoption of AI in healthcare is advancing medical treatment and patient experiences.', 'position': 9}], 'peopleAlsoAsk': [{'question': 'What are the healthcare advancements of AI?', 'snippet': \"AI technologies are already helping doctors spot fractures, triage patients and detect early signs of disease. An insight report from the World Economic Forum's Digital Healthcare Transformation Initiative anticipates a future where technologies like these could “dramatically transform the patient experience”.\", 'title': '4 ways AI is transforming healthcare - The World Economic Forum', 'link': 'https://www.weforum.org/stories/2024/11/ai-transforming-global-health/'}, {'question': 'What are the latest advancements in AI?', 'snippet': 'New Technologies in AI: Chatbots and Virtual Assistants\\\\n\\\\n These new technologies in AI personalize user experiences by analyzing user data and behavior. They recommend products, content, and services, increasing engagement and sales.', 'title': '11 New Technologies in AI: All Trends of 2023-2024 - devabit', 'link': 'https://devabit.com/blog/top-11-new-technologies-in-ai-exploring-the-latest-trends/'}, {'question': 'What is one future trend of AI in healthcare?', 'snippet': \"FUTURE POSSIBILITIES IN GENERAL PRACTICE\\\\n\\\\n In contrast, AI could automatically prepare the most important risks and actions given the patient's clinical record. It could also automatically convert recorded dialogue of the consultation into a summary letter for the clinician to approve or amend.\", 'title': 'Artificial intelligence in medicine: current trends and future possibilities', 'link': 'https://pmc.ncbi.nlm.nih.gov/articles/PMC5819974/'}, {'question': 'What are three ways AI will change healthcare by 2030?', 'snippet': 'AI could significantly reduce inefficiency in healthcare, improve patient flow and experience, and enhance caregiver experience and patient safety through the care pathway; for example, AI could be applied to the remote monitoring of patients (eg intelligent telehealth through wearables/sensors) to identify and provide ...', 'title': 'Artificial intelligence in healthcare: transforming the practice of medicine', 'link': 'https://pmc.ncbi.nlm.nih.gov/articles/PMC8285156/'}], 'relatedSearches': [{'query': 'AI advancements in healthcare 2024'}, {'query': 'Latest advancements in ai healthcare 2020'}, {'query': 'AI in healthcare examples'}, {'query': '10 benefits of artificial intelligence in healthcare'}, {'query': 'Future of AI in healthcare'}, {'query': 'AI in healthcare projects'}, {'query': 'Disadvantages of AI in healthcare'}, {'query': 'Artificial intelligence in healthcare PDF'}], 'credits': 1}\u001b[00m\n",
            "\n",
            "\n",
            "\u001b[1m\u001b[95m# Agent:\u001b[00m \u001b[1m\u001b[92mSenior Researcher\u001b[00m\n",
            "\u001b[95m## Thought:\u001b[00m \u001b[92mThought:The search results highlight several areas of advancement, but  AI-driven drug discovery and diagnostics seem particularly prominent and impactful.  I'll focus on this area to refine my analysis.\u001b[00m\n",
            "\u001b[95m## Using tool:\u001b[00m \u001b[92mSearch the internet\u001b[00m\n",
            "\u001b[95m## Tool Input:\u001b[00m \u001b[92m\n",
            "\"{\\\"search_query\\\": \\\"AI in drug discovery and diagnostics\\\"}\"\u001b[00m\n",
            "\u001b[95m## Tool Output:\u001b[00m \u001b[92m\n",
            "{'searchParameters': {'q': 'AI in drug discovery and diagnostics', 'type': 'search', 'num': 10, 'engine': 'google'}, 'organic': [{'title': 'Role of Artificial Intelligence in Revolutionizing Drug Discovery', 'link': 'https://www.sciencedirect.com/science/article/pii/S266732582400205X', 'snippet': 'AI acts as a powerful catalyst in narrowing the gap between disease understanding and the identification of potential therapeutic agents.', 'position': 1}, {'title': 'Unlocking the potential of data and AI-driven drug discovery ...', 'link': 'https://www.astrazeneca.com/what-science-can-do/topics/data-science-ai/unlocking-potential-data-ai-driven-drug-discovery-development.html', 'snippet': 'With the help of AI, researchers can tap into this ecosystem to speed up drug discovery, identify disease biomarkers and facilitate diagnostics.', 'position': 2}, {'title': 'How the AI and Quantum Revolution Will Transform Drug Discovery ...', 'link': 'https://www.sandboxaq.com/post/how-the-ai-and-quantum-revolution-will-transform-drug-discovery-and-medical-diagnostics', 'snippet': 'AI and “simulation” are two technologies that promise to redefine drug development and enhance our ability to respond to global health crises.', 'position': 3}, {'title': 'Use of Artificial Intelligence in Drug Development - JAMA Network', 'link': 'https://jamanetwork.com/journals/jamanetworkopen/fullarticle/2819343', 'snippet': 'AI use was reported in the development of 164 investigational drugs and 1 approved drug. The most frequent types of AI use were machine learning (n = 46 [28%]) ...', 'position': 4}, {'title': 'How Artificial Intelligence is Revolutionizing Drug Discovery', 'link': 'https://blog.petrieflom.law.harvard.edu/2023/03/20/how-artificial-intelligence-is-revolutionizing-drug-discovery/', 'snippet': 'A host of AI tools are revolutionizing nearly every stage of the drug discovery process, offering substantial potential to reshape the speed and economics of ...', 'position': 5}, {'title': 'Artificial Intelligence for Drug Development | FDA', 'link': 'https://www.fda.gov/about-fda/center-drug-evaluation-and-research-cder/artificial-intelligence-drug-development', 'snippet': 'FDA recognizes the increased use of AI throughout the drug development process and across a range of therapeutic areas. Learn more.', 'position': 6}, {'title': 'Artificial intelligence as a tool in drug discovery and development', 'link': 'https://pmc.ncbi.nlm.nih.gov/articles/PMC11372739', 'snippet': 'AI can accelerate this trend by improving diagnostics, collecting personalized information, and assisting clinical decisions[39]. AI algorithms can store ...', 'position': 7}, {'title': '5 ways pharma can safely leverage AI for drug discovery', 'link': 'https://www.weforum.org/stories/2024/01/5-ways-pharma-can-safely-leverage-ai-for-drug-discovery-and-development/', 'snippet': '5 ways pharma can safely leverage AI for drug discovery and development · 1. Patient data is fundamental · 2. Staying close to academia · 3. Multi- ...', 'position': 8, 'sitelinks': [{'title': 'AI and quantum revolution will transform drug development', 'link': 'https://www.weforum.org/stories/2024/01/ai-and-quantum-revolution-transform-drug-discovery/'}, {'title': 'How AI, robotics and automation will shape future diagnostics', 'link': 'https://www.weforum.org/stories/2024/05/how-ai-robotics-and-automation-will-reshape-the-diagnostic-lab-of-the-future/'}, {'title': 'How AI is improving diagnostics and health outcomes', 'link': 'https://www.weforum.org/stories/2024/09/ai-diagnostics-health-outcomes/'}]}, {'title': 'Revolutionizing drug discovery: The impact of artificial intelligence ...', 'link': 'https://www.sciencedirect.com/science/article/pii/S2949866X24000327', 'snippet': 'By examining medical photographs, pathology slides, and various other diagnostic data, AI-powered technologies can improve the precision and speed of diagnostic ...', 'position': 9}], 'peopleAlsoAsk': [{'question': 'How is AI being used in drug discovery?', 'snippet': 'With AI and data integration tools like ARCH, scientists are now able to aggregate multiple pieces of knowledge about these diseases from many different sources, visualize patterns and connections among them, and conduct analyses on these data to figure out which genes or proteins they should pursue.', 'title': 'Three ways AI is changing drug discovery at AbbVie', 'link': 'https://www.abbvie.com/who-we-are/our-stories/three-ways-ai-is-changing-drug-discovery-at-abbvie.html'}, {'question': 'How is AI used in medical diagnostics?', 'snippet': 'Speeding Up Disease Diagnosis\\\\n\\\\n AI-powered tools, leveraging advanced machine learning algorithms, can analyze wound images swiftly, providing precise assessments. These tools identify infection, evaluate burn depth, and monitor healing progress much faster than traditional methods.', 'title': 'Artificial Intelligence in Medical Diagnosis: Medical Diagnostics and ...', 'link': 'https://www.spectral-ai.com/blog/artificial-intelligence-in-medical-diagnosis-how-medical-diagnostics-are-improving-through-ai/'}, {'question': 'Which drug discovery company uses AI?', 'snippet': 'Exscientia. Considered a pioneer in the field of AI within the biopharma industry, Exscientia is an AI-driven precision medicine company committed to discovering, designing, and developing the best possible drugs in the fastest and most effective manner using its AI technology.', 'title': 'Five AI drug discovery companies you should know about - Labiotech', 'link': 'https://www.labiotech.eu/best-biotech/ai-drug-discovery-companies/'}, {'question': 'How will the AI and quantum revolution transform drug discovery and medical diagnostics?', 'snippet': 'The impact of advanced computing technologies extends beyond drug development. Quantum sensors, with their inherent sensitivity to their surrounding environment, promise precise medical imaging and diagnostics, measuring even the most subtle deviations in magnetic fields surrounding vital organs.', 'title': 'AI and quantum revolution will transform drug development', 'link': 'https://www.weforum.org/stories/2024/01/ai-and-quantum-revolution-transform-drug-discovery/'}], 'relatedSearches': [{'query': 'Ai in drug discovery and diagnostics pdf'}, {'query': 'AI drug discovery'}, {'query': 'AstraZeneca AI drug discovery'}, {'query': 'AstraZeneca AI partnership'}, {'query': 'Drug Discovery Data Scientist jobs'}, {'query': 'Exscientia'}, {'query': 'Neural network drug discovery'}, {'query': 'Drug repurposing AI'}], 'credits': 1}\u001b[00m\n",
            "\n",
            "\n",
            "\u001b[1m\u001b[95m# Agent:\u001b[00m \u001b[1m\u001b[92mSenior Researcher\u001b[00m\n",
            "\u001b[95m## Final Answer:\u001b[00m \u001b[92m\n",
            "AI-driven drug discovery and diagnostics represent a significant emerging trend in healthcare, poised to revolutionize the industry.  This technology leverages machine learning algorithms to analyze vast datasets of genomic information, clinical trial data, and molecular structures to identify promising drug candidates, predict their efficacy, and optimize their design. This accelerates the drug development process, reduces costs, and increases the likelihood of success, potentially leading to faster development of life-saving medications for a wide range of diseases.  Moreover, AI enhances diagnostic accuracy and speed through image analysis, identifying subtle patterns indicative of diseases like cancer at earlier stages, allowing for more timely and effective interventions.\n",
            "\n",
            "However, the widespread adoption of AI in drug discovery and diagnostics faces challenges.  Data privacy concerns are paramount, requiring robust security measures and ethical guidelines to protect sensitive patient information.  The \"black box\" nature of some AI algorithms raises concerns about transparency and explainability, limiting the trust placed in AI-driven diagnoses and treatment decisions.  Furthermore, the significant computational resources required for AI development and deployment represent a considerable financial barrier, potentially exacerbating healthcare inequalities.\n",
            "\n",
            "The market opportunities for AI in drug discovery and diagnostics are substantial.  Pharmaceutical companies are increasingly investing in AI-powered research and development, leading to a growing demand for AI specialists and related technologies.  The potential for improved treatment outcomes and reduced healthcare costs could drive market expansion significantly.  However, potential risks include regulatory hurdles, ethical concerns, and the need to address potential biases within AI algorithms, all of which need to be carefully considered to ensure responsible innovation and equitable access to these transformative technologies.\u001b[00m\n",
            "\n",
            "\n",
            "\u001b[1m\u001b[95m# Agent:\u001b[00m \u001b[1m\u001b[92mWriter\u001b[00m\n",
            "\u001b[95m## Task:\u001b[00m \u001b[92mCompose an insightful article on AI in healthcare.Focus on the latest trends and how it's impacting the industry.This article should be easy to understand, engaging, and positive.\u001b[00m\n",
            "\n",
            "\n",
            "\u001b[1m\u001b[95m# Agent:\u001b[00m \u001b[1m\u001b[92mWriter\u001b[00m\n",
            "\u001b[95m## Thought:\u001b[00m \u001b[92mThought: I need to gather information about the latest trends in AI in healthcare, focusing on drug discovery and diagnostics.  I'll use the internet search tool to find relevant articles and reports.\u001b[00m\n",
            "\u001b[95m## Using tool:\u001b[00m \u001b[92mSearch the internet\u001b[00m\n",
            "\u001b[95m## Tool Input:\u001b[00m \u001b[92m\n",
            "\"{\\\"search_query\\\": \\\"AI in healthcare drug discovery and diagnostics latest trends\\\"}\"\u001b[00m\n",
            "\u001b[95m## Tool Output:\u001b[00m \u001b[92m\n",
            "{'searchParameters': {'q': 'AI in healthcare drug discovery and diagnostics latest trends', 'type': 'search', 'num': 10, 'engine': 'google'}, 'organic': [{'title': 'Artificial intelligence in drug discovery and development - PMC', 'link': 'https://pmc.ncbi.nlm.nih.gov/articles/PMC7577280/', 'snippet': 'This review highlights the impactful use of AI in diverse areas of the pharmaceutical sectors viz., drug discovery and development, drug repurposing, improving ...', 'position': 1}, {'title': 'Future of AI in Healthcare: Trends and Innovations | Cprime', 'link': 'https://www.cprime.com/resources/blog/the-future-of-ai-in-healthcare-trends-and-innovations/', 'snippet': 'AI is enhancing the accuracy and efficiency of diagnostics in healthcare by streamlining workflows, improving precision in CT imaging, accelerating MR image ...', 'position': 2}, {'title': '6 ways Johnson & Johnson is using AI to help advance healthcare', 'link': 'https://www.jnj.com/innovation/artificial-intelligence-in-healthcare', 'snippet': '“By applying AI, we can advance the most promising drug candidates into clinical development, with the goal of improving the probability of ...', 'position': 3}, {'title': 'How AI, robotics and automation will shape future diagnostics', 'link': 'https://www.weforum.org/stories/2024/05/how-ai-robotics-and-automation-will-reshape-the-diagnostic-lab-of-the-future/', 'snippet': 'Artificial intelligence and data analytics will improve diagnostic accuracy and early disease detection, reduce treatment time, personalize ...', 'position': 4}, {'title': 'Revolutionizing healthcare: the role of artificial intelligence in clinical ...', 'link': 'https://bmcmededuc.biomedcentral.com/articles/10.1186/s12909-023-04698-z', 'snippet': 'This review article provides a comprehensive and up-to-date overview of the current state of AI in clinical practice, including its potential applications.', 'position': 5}, {'title': 'Role of Artificial Intelligence in Revolutionizing Drug Discovery', 'link': 'https://www.sciencedirect.com/science/article/pii/S266732582400205X', 'snippet': 'AI acts as a powerful catalyst in narrowing the gap between disease understanding and the identification of potential therapeutic agents.', 'position': 6}, {'title': 'AI in Healthcare Report | Silicon Valley Bank', 'link': 'https://www.svb.com/trends-insights/reports/artificial-intelligence-ai-in-healthcare/', 'snippet': 'Our inaugural report on AI-powered healthcare focuses on emerging AI applications in healthcare, particularly the administrative and clinical use cases.', 'position': 7, 'sitelinks': [{'title': 'Key Takeaways', 'link': 'https://www.svb.com/trends-insights/reports/artificial-intelligence-ai-in-healthcare/#:~:text=Key%20takeaways,-While%20advancements%20in%20artificial%20intelligence'}, {'title': 'The Data', 'link': 'https://www.svb.com/trends-insights/reports/artificial-intelligence-ai-in-healthcare/#:~:text=The%20data,-Our%20first%2Dever%20report'}, {'title': 'Healthcare Ai Deal Activity...', 'link': 'https://www.svb.com/trends-insights/reports/artificial-intelligence-ai-in-healthcare/#:~:text=Healthcare%20AI%20deal%20activity%20growth%20outpaces%20tech'}]}, {'title': 'How is AI being Used in the Healthcare Industry', 'link': 'https://www.lapu.edu/ai-health-care-industry/', 'snippet': 'Drug Discovery and Development: AI accelerates the drug discovery process by analyzing vast datasets to identify potential drug candidates and ...', 'position': 8}, {'title': 'Artificial intelligence in healthcare: transforming the practice of ...', 'link': 'https://pmc.ncbi.nlm.nih.gov/articles/PMC8285156/', 'snippet': 'AI driven drug discovery, New curative treatments. AI empowered healthcare professionals (eg digital twins), AI enables healthcare systems to achieve a state ...', 'position': 9, 'sitelinks': [{'title': 'Ai-Driven Drug Discovery', 'link': 'https://pmc.ncbi.nlm.nih.gov/articles/PMC8285156/#:~:text=AI%2Ddriven%20drug%20discovery'}, {'title': 'Precision Medicine', 'link': 'https://pmc.ncbi.nlm.nih.gov/articles/PMC8285156/#:~:text=Precision%20medicine,-New%20curative%20therapies'}, {'title': 'Ai Empowered Healthcare...', 'link': 'https://pmc.ncbi.nlm.nih.gov/articles/PMC8285156/#:~:text=AI%20empowered%20healthcare%20professionals,-In%20the%20longer%20term%2C'}]}], 'peopleAlsoAsk': [{'question': 'What is the future of AI in medical diagnostics?', 'snippet': \"FUTURE POSSIBILITIES IN GENERAL PRACTICE\\\\n\\\\n AI will extract important information from a patient's electronic footprint. At first this will save time and improve efficiency, but following adequate testing it will also directly guide patient management.\", 'title': 'Artificial intelligence in medicine: current trends and future possibilities', 'link': 'https://pmc.ncbi.nlm.nih.gov/articles/PMC5819974/'}, {'question': 'What are the future prospects of AI in drug discovery?', 'snippet': 'By using AI algorithms to analyze data from large populations, they can be used to identify trends and patterns that can help predict the effectiveness of potential drug candidates for specific patient populations, which can help tailor treatments to the needs of individual patients.', 'title': 'The Role of AI in Drug Discovery: Challenges, Opportunities, and ...', 'link': 'https://pmc.ncbi.nlm.nih.gov/articles/PMC10302890/'}, {'question': 'How is AI being used for drug discovery?', 'snippet': 'AI can assist in selecting only a specific diseased population for recruitment in Phase II and III of clinical trials by using patient-specific genome–exposome profile analysis, which can help in early prediction of the available drug targets in the patients selected 19, 101.', 'title': 'Artificial intelligence in drug discovery and development - PMC', 'link': 'https://pmc.ncbi.nlm.nih.gov/articles/PMC7577280/'}, {'question': 'How is AI used in healthcare for diagnosis?', 'snippet': 'Enhanced Accuracy: AI algorithms improve diagnostic accuracy by analyzing complex medical data, reducing human error. Early Detection: Machine learning models can identify early signs of diseases such as cancer or heart disease, allowing for timely intervention.', 'title': 'Artificial Intelligence in Medical Diagnosis: Medical Diagnostics and ...', 'link': 'https://www.spectral-ai.com/blog/artificial-intelligence-in-medical-diagnosis-how-medical-diagnostics-are-improving-through-ai/'}], 'relatedSearches': [{'query': 'Ai in healthcare drug discovery and diagnostics latest trends 2021'}, {'query': 'Ai in healthcare drug discovery and diagnostics latest trends 2020'}, {'query': 'Future of AI in healthcare'}, {'query': 'Future of AI in healthcare ppt'}, {'query': 'AI trends in healthcare'}, {'query': 'AI trends in healthcare 2024'}, {'query': 'Recent AI developments in healthcare'}, {'query': 'AI in healthcare PwC'}], 'credits': 1}\u001b[00m\n",
            "\n",
            "\n",
            "\u001b[1m\u001b[95m# Agent:\u001b[00m \u001b[1m\u001b[92mWriter\u001b[00m\n",
            "\u001b[95m## Final Answer:\u001b[00m \u001b[92m\n",
            "# AI Revolutionizing Healthcare: Drug Discovery and Diagnostics\n",
            "\n",
            "The integration of artificial intelligence (AI) is rapidly transforming healthcare, particularly in drug discovery and diagnostics.  AI algorithms are analyzing massive datasets – genomic information, clinical trial results, molecular structures – to identify promising drug candidates far more efficiently than traditional methods. This accelerates the development of life-saving medications, reduces costs, and improves the odds of success.  Simultaneously, AI is enhancing diagnostic capabilities.  By analyzing medical images, AI can detect subtle indicators of diseases like cancer at earlier stages, enabling faster and more effective interventions.  This translates to earlier treatment, improved patient outcomes, and a significant boost to overall healthcare efficiency.\n",
            "\n",
            "\n",
            "While the potential of AI in healthcare is immense, challenges remain.  Data privacy is a paramount concern, requiring robust security measures and ethical guidelines.  The “black box” nature of some AI algorithms, where the decision-making process isn't fully transparent, can hinder trust.  Furthermore, the substantial computational resources needed for AI development and implementation present a significant financial hurdle, potentially exacerbating inequalities in healthcare access.  Addressing these challenges is crucial for responsible and equitable implementation of this transformative technology.\n",
            "\n",
            "\n",
            "The market opportunities presented by AI in drug discovery and diagnostics are substantial.  Pharmaceutical companies are heavily investing in AI-powered research and development, driving demand for skilled AI specialists and related technologies.  Improved treatment outcomes and reduced healthcare costs are projected to fuel significant market expansion. However, the path forward necessitates careful navigation of regulatory hurdles, ethical considerations, and the mitigation of potential biases within AI algorithms.  Responsible innovation is key to ensuring equitable access to these life-changing advancements.\n",
            "\n",
            "\n",
            "The future of healthcare is undeniably intertwined with AI.  By proactively addressing the challenges and embracing responsible innovation, we can harness the transformative power of AI to revolutionize drug discovery and diagnostics, leading to improved patient care, reduced costs, and a healthier future for all.  The potential to improve and save lives is undeniable, and the ongoing advancements in this field are exceptionally promising.\u001b[00m\n",
            "\n",
            "\n",
            "# AI Revolutionizing Healthcare: Drug Discovery and Diagnostics\n",
            "\n",
            "The integration of artificial intelligence (AI) is rapidly transforming healthcare, particularly in drug discovery and diagnostics.  AI algorithms are analyzing massive datasets – genomic information, clinical trial results, molecular structures – to identify promising drug candidates far more efficiently than traditional methods. This accelerates the development of life-saving medications, reduces costs, and improves the odds of success.  Simultaneously, AI is enhancing diagnostic capabilities.  By analyzing medical images, AI can detect subtle indicators of diseases like cancer at earlier stages, enabling faster and more effective interventions.  This translates to earlier treatment, improved patient outcomes, and a significant boost to overall healthcare efficiency.\n",
            "\n",
            "\n",
            "While the potential of AI in healthcare is immense, challenges remain.  Data privacy is a paramount concern, requiring robust security measures and ethical guidelines.  The “black box” nature of some AI algorithms, where the decision-making process isn't fully transparent, can hinder trust.  Furthermore, the substantial computational resources needed for AI development and implementation present a significant financial hurdle, potentially exacerbating inequalities in healthcare access.  Addressing these challenges is crucial for responsible and equitable implementation of this transformative technology.\n",
            "\n",
            "\n",
            "The market opportunities presented by AI in drug discovery and diagnostics are substantial.  Pharmaceutical companies are heavily investing in AI-powered research and development, driving demand for skilled AI specialists and related technologies.  Improved treatment outcomes and reduced healthcare costs are projected to fuel significant market expansion. However, the path forward necessitates careful navigation of regulatory hurdles, ethical considerations, and the mitigation of potential biases within AI algorithms.  Responsible innovation is key to ensuring equitable access to these life-changing advancements.\n",
            "\n",
            "\n",
            "The future of healthcare is undeniably intertwined with AI.  By proactively addressing the challenges and embracing responsible innovation, we can harness the transformative power of AI to revolutionize drug discovery and diagnostics, leading to improved patient care, reduced costs, and a healthier future for all.  The potential to improve and save lives is undeniable, and the ongoing advancements in this field are exceptionally promising.\n"
          ]
        }
      ],
      "source": [
        "# Initialize the tool for internet searching capabilities\n",
        "tool = SerperDevTool()\n",
        "\n",
        "# Define agents\n",
        "news_researcher = Agent(\n",
        "    role=\"Senior Researcher\",\n",
        "    goal='Uncover groundbreaking technologies in {topic}',\n",
        "    verbose=True,\n",
        "    memory=True,\n",
        "    backstory=(\n",
        "        \"Driven by curiosity, you're at the forefront of\"\n",
        "        \"innovation, eager to explore and share knowledge that could change\"\n",
        "        \"the world.\"\n",
        "    ),\n",
        "    tools=[tool],\n",
        "    llm=\"gemini/gemini-1.5-flash\",  # Pass the model name as a string\n",
        "    allow_delegation=True\n",
        ")\n",
        "\n",
        "news_writer = Agent(\n",
        "    role='Writer',\n",
        "    goal='Narrate compelling tech stories about {topic}',\n",
        "    verbose=True,\n",
        "    memory=True,\n",
        "    backstory=(\n",
        "        \"With a flair for simplifying complex topics, you craft\"\n",
        "        \"engaging narratives that captivate and educate, bringing new\"\n",
        "        \"discoveries to light in an accessible manner.\"\n",
        "    ),\n",
        "    tools=[tool],\n",
        "    llm=\"gemini/gemini-1.5-flash\",  # Pass the model name as a string\n",
        "    allow_delegation=False\n",
        ")\n",
        "\n",
        "# Define tasks\n",
        "research_task = Task(\n",
        "    description=(\n",
        "        \"Identify the next big trend in {topic}.\"\n",
        "        \"Focus on identifying pros and cons and the overall narrative.\"\n",
        "        \"Your final report should clearly articulate the key points,\"\n",
        "        \"its market opportunities, and potential risks.\"\n",
        "    ),\n",
        "    expected_output='A comprehensive 3 paragraphs long report on the latest AI trends.',\n",
        "    tools=[tool],\n",
        "    agent=news_researcher,\n",
        ")\n",
        "\n",
        "write_task = Task(\n",
        "    description=(\n",
        "        \"Compose an insightful article on {topic}.\"\n",
        "        \"Focus on the latest trends and how it's impacting the industry.\"\n",
        "        \"This article should be easy to understand, engaging, and positive.\"\n",
        "    ),\n",
        "    expected_output='A 4 paragraph article on {topic} advancements formatted as markdown.',\n",
        "    tools=[tool],\n",
        "    agent=news_writer,\n",
        "    async_execution=False,\n",
        "    output_file='new-blog-post.md'  # Example of output customization\n",
        ")\n",
        "\n",
        "# Form the crew and execute tasks\n",
        "crew = Crew(\n",
        "    agents=[news_researcher, news_writer],\n",
        "    tasks=[research_task, write_task],\n",
        "    process=Process.sequential,\n",
        ")\n",
        "\n",
        "# Start the task execution process with enhanced feedback\n",
        "result = crew.kickoff(inputs={'topic': 'AI in healthcare'})\n",
        "print(result)"
      ]
    }
  ],
  "metadata": {
    "colab": {
      "authorship_tag": "ABX9TyN/UbV5KiKw/1HLbWLSb9Hn",
      "include_colab_link": true,
      "provenance": []
    },
    "kernelspec": {
      "display_name": "Python 3",
      "name": "python3"
    },
    "language_info": {
      "name": "python"
    }
  },
  "nbformat": 4,
  "nbformat_minor": 0
}
